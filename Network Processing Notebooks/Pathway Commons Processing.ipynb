{
 "cells": [
  {
   "cell_type": "code",
   "execution_count": 2,
   "metadata": {
    "collapsed": false
   },
   "outputs": [],
   "source": [
    "from network_evaluation_tools import gene_conversion_tools as gct\n",
    "from network_evaluation_tools import data_import_tools as dit\n",
    "import pandas as pd\n",
    "import time"
   ]
  },
  {
   "cell_type": "markdown",
   "metadata": {},
   "source": [
    "## Load Pathway Commons Raw Data (All interactions)\n",
    "#### Source: http://www.pathwaycommons.org/archives/PC2/v9/PathwayCommons9.All.hgnc.txt.gz\n",
    "Downloaded: June 15, 2017  \n",
    "Last Updated: May 25, 2017  \n",
    "Citation: Pathway Commons, a web resource for biological pathway data. Cerami E et al. Nucleic Acids Research (2011).  \n",
    "A Note about filtering interactions: Pathway Commons also contains interactions between proteins and small molecules from the CHEBI database. These interactions will need to be filtered out as they are not protein-protein interactions.  \n",
    "Also note: The text file has more lines than the sif file in Pathway Commons. However, the text file has some interactions that are unclear how to resolve so for this case we will use the sif file provided by Pathway Commons"
   ]
  },
  {
   "cell_type": "code",
   "execution_count": 9,
   "metadata": {
    "collapsed": false
   },
   "outputs": [
    {
     "name": "stdout",
     "output_type": "stream",
     "text": [
      "Raw interactions in Pathway Commons v9: 1503144\n"
     ]
    }
   ],
   "source": [
    "wd = '/cellar/users/jkhuang/Data/Projects/Network_Analysis/Data/'\n",
    "PC_Raw = pd.read_csv(wd+'Network_Data_Raw/PathwayCommons9.All.hgnc.sif', sep='\\t', header=-1)\n",
    "print 'Raw interactions in Pathway Commons v9:', PC_Raw.shape[0]"
   ]
  },
  {
   "cell_type": "code",
   "execution_count": 25,
   "metadata": {
    "collapsed": false
   },
   "outputs": [
    {
     "name": "stdout",
     "output_type": "stream",
     "text": [
      "Protein-Protein interactions in Pathway Commons v9: 968186\n"
     ]
    }
   ],
   "source": [
    "# Filter all interactions that contain a CHEBI: item\n",
    "PC_filt = PC_Raw[(~PC_Raw[0].str.contains(':')) & (~PC_Raw[2].str.contains(':'))]\n",
    "PC_edgelist = PC_filt[[0, 2]].values.tolist()\n",
    "print 'Protein-Protein interactions in Pathway Commons v9:', len(PC_edgelist)"
   ]
  },
  {
   "cell_type": "code",
   "execution_count": 26,
   "metadata": {
    "collapsed": true
   },
   "outputs": [],
   "source": [
    "# Sort each edge representation for filtering\n",
    "PC_edgelist_sorted = [sorted(edge) for edge in PC_edgelist]"
   ]
  },
  {
   "cell_type": "code",
   "execution_count": 27,
   "metadata": {
    "collapsed": false
   },
   "outputs": [
    {
     "name": "stdout",
     "output_type": "stream",
     "text": [
      "968186 input edges\n",
      "0 self-edges removed\n",
      "0 edges with un-mapped genes removed\n",
      "143511 duplicate edges removed\n",
      "Edge list filtered: 1.92 seconds\n",
      "824675 Edges remaining\n"
     ]
    }
   ],
   "source": [
    "# Filter edgelist for duplicate nodes and for self-edges\n",
    "PC_edgelist_filt = gct.filter_converted_edgelist(PC_edgelist_sorted)"
   ]
  },
  {
   "cell_type": "code",
   "execution_count": 28,
   "metadata": {
    "collapsed": false
   },
   "outputs": [
    {
     "name": "stdout",
     "output_type": "stream",
     "text": [
      "Edge list saved: 0.55 seconds\n"
     ]
    }
   ],
   "source": [
    "# Save genelist to file\n",
    "outdir = '/cellar/users/jkhuang/Data/Projects/Network_Analysis/Data/Network_SIFs_Symbol/'\n",
    "gct.write_edgelist(PC_edgelist_filt, outdir+'PathwayCommons_Symbol.sif')"
   ]
  }
 ],
 "metadata": {
  "kernelspec": {
   "display_name": "Python 2",
   "language": "python",
   "name": "python2"
  },
  "language_info": {
   "codemirror_mode": {
    "name": "ipython",
    "version": 2
   },
   "file_extension": ".py",
   "mimetype": "text/x-python",
   "name": "python",
   "nbconvert_exporter": "python",
   "pygments_lexer": "ipython2",
   "version": "2.7.11"
  }
 },
 "nbformat": 4,
 "nbformat_minor": 0
}
