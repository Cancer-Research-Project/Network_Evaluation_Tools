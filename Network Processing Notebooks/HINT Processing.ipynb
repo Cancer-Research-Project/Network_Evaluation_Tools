{
 "cells": [
  {
   "cell_type": "code",
   "execution_count": 1,
   "metadata": {
    "collapsed": false
   },
   "outputs": [],
   "source": [
    "from network_evaluation_tools import gene_conversion_tools as gct\n",
    "from network_evaluation_tools import data_import_tools as dit\n",
    "import pandas as pd\n",
    "import numpy as np"
   ]
  },
  {
   "cell_type": "markdown",
   "metadata": {},
   "source": [
    "## Load HINT Raw Data\n",
    "#### Source: http://hint.yulab.org/batch.html\n",
    "Downloaded: June 15, 2017  \n",
    "Last update not listed, but currently on version 4 (updated early 2017). The two binary interactomes for High-Quality (HQ) and Co-Complex (CC) interactions were downloaded and merged into a single interactome for HINT.     \n",
    "Citation: Das J and Yu H. HINT: High-quality protein interactomes and their applications in understanding human disease. BMC Systems Biology, 2012 Jul 30;6(1):92."
   ]
  },
  {
   "cell_type": "code",
   "execution_count": 2,
   "metadata": {
    "collapsed": false
   },
   "outputs": [],
   "source": [
    "wd = '/cellar/users/jkhuang/Data/Projects/Network_Analysis/Data/'\n",
    "HINT_Bin_Raw = pd.read_csv(wd+'Network_Data_Raw/HINT_v4_binary_HomoSapiens.txt',sep='\\t')\n",
    "HINT_Com_Raw = pd.read_csv(wd+'Network_Data_Raw/HINT_v4_complex_HomoSapiens.txt',sep='\\t')"
   ]
  },
  {
   "cell_type": "code",
   "execution_count": 5,
   "metadata": {
    "collapsed": false,
    "scrolled": true
   },
   "outputs": [
    {
     "name": "stdout",
     "output_type": "stream",
     "text": [
      "Concatenated list of edges: (181699, 9)\n",
      "After duplicate edges removed: (181375, 9)\n"
     ]
    }
   ],
   "source": [
    "HINT_Raw = pd.concat([HINT_Bin_Raw, HINT_Com_Raw])\n",
    "print 'Concatenated list of edges:', HINT_Raw.shape\n",
    "HINT_Raw = HINT_Raw.drop_duplicates()\n",
    "print 'After duplicate edges removed:', HINT_Raw.shape"
   ]
  },
  {
   "cell_type": "code",
   "execution_count": 7,
   "metadata": {
    "collapsed": false,
    "scrolled": true
   },
   "outputs": [],
   "source": [
    "# Use UniProtID labels to annotate interactions\n",
    "HPRD_Raw_Genes_Uniprot = set(HINT_Raw['Uniprot_A']).union(set(HINT_Raw['Uniprot_B']))"
   ]
  },
  {
   "cell_type": "markdown",
   "metadata": {},
   "source": [
    "## Convert Genes from UniProt Accession ID to gene symbols"
   ]
  },
  {
   "cell_type": "code",
   "execution_count": 9,
   "metadata": {
    "collapsed": false
   },
   "outputs": [
    {
     "name": "stdout",
     "output_type": "stream",
     "text": [
      "15784 Valid Query Genes\n",
      "0 Invalid Query Genes\n"
     ]
    }
   ],
   "source": [
    "query_string, valid_genes, invalid_genes = gct.query_constructor(HPRD_Raw_Genes_Uniprot)"
   ]
  },
  {
   "cell_type": "code",
   "execution_count": 10,
   "metadata": {
    "collapsed": false
   },
   "outputs": [
    {
     "name": "stdout",
     "output_type": "stream",
     "text": [
      "Batch query complete: 19.17 seconds\n",
      "16001 Matched query results\n"
     ]
    }
   ],
   "source": [
    "# Set scopes (gene naming systems to search)\n",
    "scopes = \"uniprot\"\n",
    "\n",
    "# Set fields (systems from which to return gene names from)\n",
    "fields = \"symbol, entrezgene\"\n",
    "\n",
    "# Query MyGene.Info\n",
    "match_list = gct.query_batch(query_string, scopes=scopes, fields=fields)\n",
    "print len(match_list), 'Matched query results'"
   ]
  },
  {
   "cell_type": "code",
   "execution_count": 11,
   "metadata": {
    "collapsed": false,
    "scrolled": true
   },
   "outputs": [
    {
     "name": "stdout",
     "output_type": "stream",
     "text": [
      "Queries without full matching results found: 670\n",
      "\n",
      "163 Queries with mutliple matches found\n",
      "\n",
      "Query mapping table/dictionary construction complete: 59.26 seconds\n"
     ]
    }
   ],
   "source": [
    "match_table_trim, query_to_symbol, query_to_entrez = gct.construct_query_map_table(match_list, valid_genes)"
   ]
  },
  {
   "cell_type": "markdown",
   "metadata": {},
   "source": [
    "## Construct Converted Network"
   ]
  },
  {
   "cell_type": "code",
   "execution_count": 13,
   "metadata": {
    "collapsed": true
   },
   "outputs": [],
   "source": [
    "HINT_edgelist = HINT_Raw[['Uniprot_A', 'Uniprot_B']].values.tolist()"
   ]
  },
  {
   "cell_type": "code",
   "execution_count": 16,
   "metadata": {
    "collapsed": false
   },
   "outputs": [],
   "source": [
    "# Convert edge list\n",
    "HINT_edgelist_symbol = gct.convert_edgelist(HINT_edgelist, query_to_symbol, weighted=False)"
   ]
  },
  {
   "cell_type": "code",
   "execution_count": 19,
   "metadata": {
    "collapsed": false
   },
   "outputs": [
    {
     "name": "stdout",
     "output_type": "stream",
     "text": [
      "181375 input edges\n",
      "4730 self-edges removed\n",
      "2861 edges with un-mapped genes removed\n",
      "18325 duplicate edges removed\n",
      "Edge list filtered: 0.33 seconds\n",
      "155459 Edges remaining\n"
     ]
    }
   ],
   "source": [
    "# Filter edge list\n",
    "HINT_edgelist_symbol_filt = gct.filter_converted_edgelist(HINT_edgelist_symbol)"
   ]
  },
  {
   "cell_type": "code",
   "execution_count": 20,
   "metadata": {
    "collapsed": false
   },
   "outputs": [
    {
     "name": "stdout",
     "output_type": "stream",
     "text": [
      "Edge list saved: 0.26 seconds\n"
     ]
    }
   ],
   "source": [
    "# Save edge list\n",
    "gct.write_edgelist(HINT_edgelist_symbol_filt, wd+'Network_SIFs_Symbol/HINT_Symbol.sif')"
   ]
  }
 ],
 "metadata": {
  "kernelspec": {
   "display_name": "Python 2",
   "language": "python",
   "name": "python2"
  },
  "language_info": {
   "codemirror_mode": {
    "name": "ipython",
    "version": 2
   },
   "file_extension": ".py",
   "mimetype": "text/x-python",
   "name": "python",
   "nbconvert_exporter": "python",
   "pygments_lexer": "ipython2",
   "version": "2.7.11"
  }
 },
 "nbformat": 4,
 "nbformat_minor": 0
}
