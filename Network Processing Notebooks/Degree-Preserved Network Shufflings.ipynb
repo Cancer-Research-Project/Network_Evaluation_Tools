{
 "cells": [
  {
   "cell_type": "code",
   "execution_count": 3,
   "metadata": {
    "collapsed": true
   },
   "outputs": [],
   "source": [
    "from pyNBS import data_import_tools as dit\n",
    "from pyNBS import network_propagation as prop\n",
    "import os\n",
    "import numpy as np\n",
    "import pandas as pd\n",
    "import networkx as nx\n",
    "import time"
   ]
  },
  {
   "cell_type": "code",
   "execution_count": 4,
   "metadata": {
    "collapsed": true
   },
   "outputs": [],
   "source": [
    "def shuffle_network(network, verbose=False):\n",
    "\t# Shuffle Network\n",
    "\tshuff_time = time.time()\n",
    "\tedge_len=len(network.edges())\n",
    "\tshuff_net=network.copy()\n",
    "\ttry:\n",
    "\t\tnx.double_edge_swap(shuff_net, nswap=edge_len, max_tries=edge_len*10)\n",
    "\texcept:\n",
    "\t\tif verbose:\n",
    "\t\t\tprint 'Note: Maximum number of swap attempts ('+repr(edge_len*10)+') exceeded before desired swaps achieved ('+repr(edge_len)+').'\n",
    "\tif verbose:\n",
    "\t\t# Evaluate Network Similarity\n",
    "\t\tshared_edges = len(set(network.edges()).intersection(set(shuff_net.edges())))\n",
    "\t\tprint 'Network shuffled:', time.time()-shuff_time, 'seconds. Edge similarity:', shared_edges/float(edge_len)\n",
    "\treturn shuff_net"
   ]
  },
  {
   "cell_type": "code",
   "execution_count": 5,
   "metadata": {
    "collapsed": true
   },
   "outputs": [],
   "source": [
    "wd = '/cellar/users/jkhuang/Data/Projects/pyNBS/Data/Network_Data/Network_Files/'\n",
    "randNet_outdir = '/cellar/users/jkhuang/Data/Projects/pyNBS/Data/Network_Data/Shuffled_Network_Files/'"
   ]
  },
  {
   "cell_type": "code",
   "execution_count": 6,
   "metadata": {
    "collapsed": false
   },
   "outputs": [],
   "source": [
    "network_files = [wd+fn for fn in os.listdir(wd) if fn.endswith('.txt')]"
   ]
  },
  {
   "cell_type": "code",
   "execution_count": 15,
   "metadata": {
    "collapsed": false
   },
   "outputs": [
    {
     "name": "stdout",
     "output_type": "stream",
     "text": [
      "PathwayCommons\n",
      "Network shuffled: 88.9572019577 seconds. Edge similarity: 0.14217722133\n",
      "Shuffled PathwayCommons saved.\n",
      "STRING90\n",
      "Network shuffled: 31.8355379105 seconds. Edge similarity: 0.135569697974\n",
      "Shuffled STRING90 saved.\n",
      "HumanNet90\n",
      "Network shuffled: 1.94090199471 seconds. Edge similarity: 0.157831705011\n",
      "Shuffled HumanNet90 saved.\n",
      "PID\n",
      "Network shuffled: 0.650630950928 seconds. Edge similarity: 0.172511892547\n",
      "Shuffled PID saved.\n",
      "Mentha\n",
      "Network shuffled: 12.5241580009 seconds. Edge similarity: 0.136090780444\n",
      "Shuffled Mentha saved.\n",
      "ConsensusPathDB\n",
      "Network shuffled: 472.858560085 seconds. Edge similarity: 0.266427489011\n",
      "Shuffled ConsensusPathDB saved.\n",
      "MultiNet\n",
      "Network shuffled: 11.9793038368 seconds. Edge similarity: 0.139956933521\n",
      "Shuffled MultiNet saved.\n",
      "HPRD\n",
      "Network shuffled: 2.19464206696 seconds. Edge similarity: 0.132373984179\n",
      "Shuffled HPRD saved.\n",
      "GIANT\n",
      "Network shuffled: 953.094853163 seconds. Edge similarity: 0.181710364213\n",
      "Shuffled GIANT saved.\n",
      "HINT\n",
      "Network shuffled: 10.6648330688 seconds. Edge similarity: 0.132703799716\n",
      "Shuffled HINT saved.\n",
      "GeneMANIA\n",
      "Network shuffled: 1266.22839403 seconds. Edge similarity: 0.146754353915\n",
      "Shuffled GeneMANIA saved.\n",
      "Reactome\n",
      "Network shuffled: 10.7709050179 seconds. Edge similarity: 0.157268305724\n",
      "Shuffled Reactome saved.\n",
      "STRING\n",
      "Network shuffled: 1679.15529799 seconds. Edge similarity: 0.209015282622\n",
      "Shuffled STRING saved.\n",
      "IntAct\n",
      "Network shuffled: 8.56541705132 seconds. Edge similarity: 0.130773661977\n",
      "Shuffled IntAct saved.\n",
      "Mentha90\n",
      "Network shuffled: 0.904587030411 seconds. Edge similarity: 0.134449008127\n",
      "Shuffled Mentha90 saved.\n",
      "ReactomeFI\n",
      "Network shuffled: 10.2852549553 seconds. Edge similarity: 0.146912035846\n",
      "Shuffled ReactomeFI saved.\n",
      "BIND\n",
      "Network shuffled: 9.11399793625 seconds. Edge similarity: 0.322492442979\n",
      "Shuffled BIND saved.\n",
      "DIP\n",
      "Network shuffled: 0.137312889099 seconds. Edge similarity: 0.120499788225\n",
      "Shuffled DIP saved.\n",
      "InBioMap75\n",
      "Network shuffled: 6.4067800045 seconds. Edge similarity: 0.167107140969\n",
      "Shuffled InBioMap75 saved.\n",
      "HumanInteractome\n",
      "Network shuffled: 0.723779201508 seconds. Edge similarity: 0.136739405675\n",
      "Shuffled HumanInteractome saved.\n",
      "BioPlex\n",
      "Network shuffled: 1.60635495186 seconds. Edge similarity: 0.123919155482\n",
      "Shuffled BioPlex saved.\n",
      "GeneMANIA90\n",
      "Network shuffled: 25.3215258121 seconds. Edge similarity: 0.118961241363\n",
      "Shuffled GeneMANIA90 saved.\n",
      "BioGRID\n",
      "Network shuffled: 11.8226139545 seconds. Edge similarity: 0.131481431287\n",
      "Shuffled BioGRID saved.\n",
      "GIANT90\n",
      "Network shuffled: 22.5300149918 seconds. Edge similarity: 0.188063162301\n",
      "Shuffled GIANT90 saved.\n",
      "HumanNet\n",
      "Network shuffled: 25.1538288593 seconds. Edge similarity: 0.137587481275\n",
      "Shuffled HumanNet saved.\n",
      "IRefIndex\n",
      "Network shuffled: 7.51319789886 seconds. Edge similarity: 0.160039835864\n",
      "Shuffled IRefIndex saved.\n",
      "InBioMap\n",
      "Network shuffled: 46.8094351292 seconds. Edge similarity: 0.167921346275\n",
      "Shuffled InBioMap saved.\n"
     ]
    }
   ],
   "source": [
    "for network_file in network_files:\n",
    "    network_name = network_file.split('/')[-1].split('_')[0]\n",
    "    print network_name\n",
    "    network = dit.load_network_file(network_file)\n",
    "    shuffNet = shuffle_network(network, verbose=True)\n",
    "    shuffNet_edges = shuffNet.edges()\n",
    "    f = open(randNet_outdir+network_name+'-shuffled_Symbol.txt', 'w')\n",
    "    for edge in shuffNet_edges:\n",
    "        f.write(str(edge[0])+'\\t'+str(edge[1])+'\\n')\n",
    "    f.close()\n",
    "    print 'Shuffled', network_name, 'saved.'"
   ]
  },
  {
   "cell_type": "code",
   "execution_count": null,
   "metadata": {
    "collapsed": true
   },
   "outputs": [],
   "source": []
  }
 ],
 "metadata": {
  "kernelspec": {
   "display_name": "Python 2",
   "language": "python",
   "name": "python2"
  },
  "language_info": {
   "codemirror_mode": {
    "name": "ipython",
    "version": 2
   },
   "file_extension": ".py",
   "mimetype": "text/x-python",
   "name": "python",
   "nbconvert_exporter": "python",
   "pygments_lexer": "ipython2",
   "version": "2.7.11"
  }
 },
 "nbformat": 4,
 "nbformat_minor": 0
}
