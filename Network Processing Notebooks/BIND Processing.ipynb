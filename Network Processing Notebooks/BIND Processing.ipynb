{
 "cells": [
  {
   "cell_type": "code",
   "execution_count": 2,
   "metadata": {
    "collapsed": false
   },
   "outputs": [],
   "source": [
    "import pandas as pd\n",
    "from network_evaluation_tools import gene_conversion_tools as gct"
   ]
  },
  {
   "cell_type": "markdown",
   "metadata": {},
   "source": [
    "## Load BIND Raw Data\n",
    "#### Source: http://www.pathwaycommons.org/archives/PC2/v8/PathwayCommons.8.bind.BINARY_SIF.hgnc.txt.sif.gz\n",
    "Downloaded: June 15, 2017  \n",
    "Last Updated (via Pathway Commons v9 datasources.txt file): December 15, 2010  \n",
    "Note: For this processing, we used the data file provided in the PathwayCommons v8 distribution. The SIF file provided by Pathway Commons v9 at the given time only yields 13078 interactions significantly less than the file provided by the v8 distribution. It is unclear where all of those interactions have gone for now, but at this time, we will be using the Pathway Commons v8 distribution of BIND.  \n",
    "Also note: The text file has more lines than the sif file in Pathway Commons. However, the text file has some interactions that are unclear how to resolve so for this case we will use the sif file provided by Pathway Commons"
   ]
  },
  {
   "cell_type": "code",
   "execution_count": 30,
   "metadata": {
    "collapsed": false
   },
   "outputs": [],
   "source": [
    "wd = '/cellar/users/jkhuang/Data/Projects/Network_Analysis/Data/'\n",
    "BIND_Raw = pd.read_csv(wd+'Network_Data_Raw/PathwayCommons.8.bind.BINARY_SIF.hgnc.txt.sif',sep='\\t', header=-1)"
   ]
  },
  {
   "cell_type": "code",
   "execution_count": 32,
   "metadata": {
    "collapsed": false,
    "scrolled": true
   },
   "outputs": [
    {
     "name": "stdout",
     "output_type": "stream",
     "text": [
      "Edges in BIND: 72780\n"
     ]
    }
   ],
   "source": [
    "# Convert table of interactions to edgelist (no scores given)\n",
    "# Also no gene symbol conversion necessary because network is given in symbol format already\n",
    "BIND_edgelist = BIND_Raw[[0, 2]].values.tolist()\n",
    "print 'Edges in BIND:', len(BIND_edgelist)"
   ]
  },
  {
   "cell_type": "code",
   "execution_count": 33,
   "metadata": {
    "collapsed": false
   },
   "outputs": [],
   "source": [
    "# Sort each edge representation for filtering\n",
    "BIND_edgelist_sorted = [sorted(edge) for edge in BIND_edgelist]"
   ]
  },
  {
   "cell_type": "code",
   "execution_count": 34,
   "metadata": {
    "collapsed": false
   },
   "outputs": [
    {
     "name": "stdout",
     "output_type": "stream",
     "text": [
      "72780 input edges\n",
      "0 self-edges removed\n",
      "0 edges with un-mapped genes removed\n",
      "0 duplicate edges removed\n",
      "Edge list filtered: 0.19 seconds\n",
      "72780 Edges remaining\n"
     ]
    }
   ],
   "source": [
    "# Filter edgelist for duplicate nodes and for self-edges\n",
    "BIND_edgelist_filt = gct.filter_converted_edgelist(BIND_edgelist_sorted)"
   ]
  },
  {
   "cell_type": "code",
   "execution_count": 35,
   "metadata": {
    "collapsed": false
   },
   "outputs": [
    {
     "name": "stdout",
     "output_type": "stream",
     "text": [
      "Edge list saved: 0.09 seconds\n"
     ]
    }
   ],
   "source": [
    "# Save genelist to file\n",
    "outdir = '/cellar/users/jkhuang/Data/Projects/Network_Analysis/Data/Network_SIFs_Symbol/'\n",
    "gct.write_edgelist(BIND_edgelist_filt, outdir+'BIND_Symbol.sif')"
   ]
  },
  {
   "cell_type": "code",
   "execution_count": null,
   "metadata": {
    "collapsed": true
   },
   "outputs": [],
   "source": []
  }
 ],
 "metadata": {
  "kernelspec": {
   "display_name": "Python 2",
   "language": "python",
   "name": "python2"
  },
  "language_info": {
   "codemirror_mode": {
    "name": "ipython",
    "version": 2
   },
   "file_extension": ".py",
   "mimetype": "text/x-python",
   "name": "python",
   "nbconvert_exporter": "python",
   "pygments_lexer": "ipython2",
   "version": "2.7.11"
  }
 },
 "nbformat": 4,
 "nbformat_minor": 0
}
