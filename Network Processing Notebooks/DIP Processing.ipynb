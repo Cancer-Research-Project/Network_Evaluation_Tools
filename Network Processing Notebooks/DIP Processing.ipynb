{
 "cells": [
  {
   "cell_type": "code",
   "execution_count": 1,
   "metadata": {
    "collapsed": false
   },
   "outputs": [],
   "source": [
    "from network_evaluation_tools import gene_conversion_tools as gct\n",
    "import pandas as pd\n",
    "import itertools"
   ]
  },
  {
   "cell_type": "markdown",
   "metadata": {},
   "source": [
    "## Load PID Raw Data\n",
    "#### Source (MITAB): http://dip.doe-mbi.ucla.edu/dip/File.cgi?FN=2016/tab25/Hsapi20170205.txt\n",
    "Downloaded: June 15, 2017  \n",
    "Last Updated: Februrary 05, 2017    \n",
    "Notes for download: Website requires registration. Register for the site to download the file from the link.  \n",
    "Notes for processing: This is the file for human protein interactions, however, not all interactions are human-human interactions. These need to be filtered. Also all ID's not without RefSeq or UniProt ID are excluded. Custom processing for this network is described below"
   ]
  },
  {
   "cell_type": "code",
   "execution_count": 5,
   "metadata": {
    "collapsed": false
   },
   "outputs": [
    {
     "name": "stdout",
     "output_type": "stream",
     "text": [
      "Raw edge count in DIP: 7794\n"
     ]
    }
   ],
   "source": [
    "wd = '/cellar/users/jkhuang/Data/Projects/Network_Analysis/Data/'\n",
    "DIP_Raw = pd.read_csv(wd+'Network_Data_Raw/DIP/Hsapi20170205.txt', index_col=0, sep='\\t')\n",
    "print 'Raw edge count in DIP:', len(DIP_Raw)"
   ]
  },
  {
   "cell_type": "code",
   "execution_count": 12,
   "metadata": {
    "collapsed": false
   },
   "outputs": [],
   "source": [
    "# Fix the column offset in the interaction data table\n",
    "DIP_Raw_offset = DIP_Raw.reset_index(drop=False)[DIP_Raw.reset_index(drop=False).columns[:-2]]\n",
    "DIP_Raw_offset.columns = DIP_Raw.columns[:-1]"
   ]
  },
  {
   "cell_type": "code",
   "execution_count": 16,
   "metadata": {
    "collapsed": false
   },
   "outputs": [
    {
     "name": "stdout",
     "output_type": "stream",
     "text": [
      "Human-Human only interactions in DIP: 5569\n"
     ]
    }
   ],
   "source": [
    "# Keep only human-human interactions\n",
    "DIP_Human_only = DIP_Raw_offset[(DIP_Raw_offset['Taxid interactor A']=='taxid:9606(Homo sapiens)') & (DIP_Raw_offset['Taxid interactor B']=='taxid:9606(Homo sapiens)')]\n",
    "print 'Human-Human only interactions in DIP:', len(DIP_Human_only)"
   ]
  },
  {
   "cell_type": "markdown",
   "metadata": {},
   "source": [
    "#### Parse all genes in filtered DIP and keep only RefSeq/UniProtKB labelled interactions"
   ]
  },
  {
   "cell_type": "code",
   "execution_count": 18,
   "metadata": {
    "collapsed": true
   },
   "outputs": [],
   "source": [
    "# Extract gene list\n",
    "Human_DIP_Genes = list(set(DIP_Human_only['ID interactor A']).union(set(DIP_Human_only['ID interactor B'])))"
   ]
  },
  {
   "cell_type": "code",
   "execution_count": 25,
   "metadata": {
    "collapsed": false
   },
   "outputs": [],
   "source": [
    "# Split all gene names into list of genes and concatenate\n",
    "Human_DIP_Genes_split = [name.split('|') for name in Human_DIP_Genes]\n",
    "Human_DIP_Genes_full_list = list(itertools.chain.from_iterable(Human_DIP_Genes_split))\n",
    "\n",
    "# Note about this line: This is to fix the one example where one of the Uniprot genes gets labelled as \"uniprotkb:Q13936,159'\n",
    "Human_DIP_Genes_full_list = [name.split(',')[0] for name in Human_DIP_Genes_full_list] "
   ]
  },
  {
   "cell_type": "markdown",
   "metadata": {},
   "source": [
    "## Convert Genes"
   ]
  },
  {
   "cell_type": "code",
   "execution_count": 26,
   "metadata": {
    "collapsed": false
   },
   "outputs": [
    {
     "name": "stdout",
     "output_type": "stream",
     "text": [
      "5017 Valid Query Genes\n",
      "3281 Invalid Query Genes\n"
     ]
    }
   ],
   "source": [
    "# Construct list of genes to be submitted to MyGene.Info API (remove all genes with 'DIP' prefix)\n",
    "query_string, valid_genes, invalid_genes = gct.query_constructor(Human_DIP_Genes_full_list, exclude_prefixes=['DIP'])"
   ]
  },
  {
   "cell_type": "code",
   "execution_count": 31,
   "metadata": {
    "collapsed": false
   },
   "outputs": [
    {
     "name": "stdout",
     "output_type": "stream",
     "text": [
      "Batch query complete: 7.97 seconds\n",
      "5074 Matched query results\n"
     ]
    }
   ],
   "source": [
    "# Set scopes (gene naming systems to search)\n",
    "scopes = \"uniprot, refseq\"\n",
    "# Set fields (systems from which to return gene names from)\n",
    "fields = \"symbol, entrezgene\"\n",
    "# Query MyGene.Info\n",
    "match_list = gct.query_batch(query_string, scopes=scopes, fields=fields)\n",
    "print len(match_list), 'Matched query results'"
   ]
  },
  {
   "cell_type": "code",
   "execution_count": 32,
   "metadata": {
    "collapsed": false,
    "scrolled": true
   },
   "outputs": [
    {
     "name": "stdout",
     "output_type": "stream",
     "text": [
      "Queries without full matching results found: 106\n",
      "\n",
      "74 Queries with mutliple matches found\n",
      "\n",
      "Query mapping table/dictionary construction complete: 6.82 seconds\n"
     ]
    }
   ],
   "source": [
    "match_table_trim, query_to_symbol, query_to_entrez = gct.construct_query_map_table(match_list, valid_genes)"
   ]
  },
  {
   "cell_type": "markdown",
   "metadata": {},
   "source": [
    "## Construct Converted Network"
   ]
  },
  {
   "cell_type": "code",
   "execution_count": 36,
   "metadata": {
    "collapsed": true
   },
   "outputs": [],
   "source": [
    "# This is a custom gene conversion function written due to the parsing required for gene interactor labels\n",
    "# Returns best matched symbol and/or entrez id from each DIP interactor string (if applicable)\n",
    "def convert_DIP_string(string, field):\n",
    "    names = [gct.get_identifier_without_prefix(name) for name in string.split('|')]\n",
    "    # Keep only mappings defined for field of interest\n",
    "    if field=='symbol':\n",
    "        # Return match table values that have matched symbol\n",
    "        conversion = match_table_trim.ix[names][~(match_table_trim.ix[names]['Symbol'].isnull())]\n",
    "        # Return conversion with max score or None if no conversion\n",
    "        if conversion.shape[0]==0:\n",
    "            return None\n",
    "        else:\n",
    "            max_score = conversion['Score'].max()\n",
    "            return conversion[conversion['Score']==max_score].ix[0]['Symbol']\n",
    "    elif field=='entrez':\n",
    "        # Return match table values that have matched symbol\n",
    "        conversion = match_table_trim.ix[names][~(match_table_trim.ix[names]['EntrezID'].isnull())]\n",
    "        if conversion.shape[0]==0:\n",
    "            return None\n",
    "        else:\n",
    "            # Return conversion with max score or None if no conversion\n",
    "            max_score = conversion['Score'].max()\n",
    "            return conversion[conversion['Score']==max_score].ix[0]['EntrezID']"
   ]
  },
  {
   "cell_type": "code",
   "execution_count": 37,
   "metadata": {
    "collapsed": false
   },
   "outputs": [],
   "source": [
    "DIP_Human_only_edges = DIP_Human_only[['ID interactor A', 'ID interactor B']].values.tolist()\n",
    "DIP_edgelist_symbol = [sorted([convert_DIP_string(edge[0],'symbol'),convert_DIP_string(edge[1],'symbol')]) for edge in DIP_Human_only_edges]"
   ]
  },
  {
   "cell_type": "code",
   "execution_count": 39,
   "metadata": {
    "collapsed": false
   },
   "outputs": [
    {
     "name": "stdout",
     "output_type": "stream",
     "text": [
      "5569 input edges\n",
      "512 self-edges removed\n",
      "309 edges with un-mapped genes removed\n",
      "26 duplicate edges removed\n",
      "Edge list filtered: 0.02 seconds\n",
      "4722 Edges remaining\n"
     ]
    }
   ],
   "source": [
    "# Filter converted edge list\n",
    "DIP_edgelist_symbol_filt = gct.filter_converted_edgelist(DIP_edgelist_symbol)"
   ]
  },
  {
   "cell_type": "code",
   "execution_count": 40,
   "metadata": {
    "collapsed": false
   },
   "outputs": [
    {
     "name": "stdout",
     "output_type": "stream",
     "text": [
      "Edge list saved: 0.02 seconds\n"
     ]
    }
   ],
   "source": [
    "# Save converted edge list\n",
    "gct.write_edgelist(DIP_edgelist_symbol_filt, wd+'Network_SIFs_Symbol/DIP_Symbol.sif')"
   ]
  }
 ],
 "metadata": {
  "kernelspec": {
   "display_name": "Python 2",
   "language": "python",
   "name": "python2"
  },
  "language_info": {
   "codemirror_mode": {
    "name": "ipython",
    "version": 2
   },
   "file_extension": ".py",
   "mimetype": "text/x-python",
   "name": "python",
   "nbconvert_exporter": "python",
   "pygments_lexer": "ipython2",
   "version": "2.7.11"
  }
 },
 "nbformat": 4,
 "nbformat_minor": 0
}
