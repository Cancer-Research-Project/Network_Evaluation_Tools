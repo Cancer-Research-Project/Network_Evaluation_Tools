{
 "cells": [
  {
   "cell_type": "code",
   "execution_count": 86,
   "metadata": {
    "collapsed": false
   },
   "outputs": [],
   "source": [
    "from network_evaluation_tools import gene_conversion_tools as gct\n",
    "import re\n",
    "import pandas as pd\n",
    "import itertools\n",
    "import time"
   ]
  },
  {
   "cell_type": "markdown",
   "metadata": {},
   "source": [
    "## Load ConsensusPathDB Raw Data\n",
    "#### Source: http://cpdb.molgen.mpg.de/download/ConsensusPathDB_human_PPI.gz\n",
    "Downloaded: June 15, 2017  \n",
    "Last Updated: January 11, 2017  \n",
    "We only downloaded the protein interaction part of this database.  \n",
    "#### From the website:  \n",
    "\"The protein interaction part of the integrated network is available for download. Due to several licensing issues, we are not allowed to release the complete integrated network (including signaling, metabolism and gene regulation).\n",
    "Rows with one protein only describe self-interactions, and rows with more than two proteins describe complex interactions. In cases when proteins are annotated only with genomic identifiers but no protein identifiers in the according source databases, and if the genomic identifiers map to more than one UniProt entry, the according UniProt entry names are concatenated (e.g. RL40_HUMAN.RS27A_HUMAN.UBIQ_HUMAN) as it is unclear which of the gene products interact.\"  \n",
    "#### Note about processing gene names:\n",
    "The gene names here are all listed as UniProtKB-IDs, however, MyGene.Info does not map these ID names. Therefore, we will use the UniProtKB mapping table (ftp://ftp.uniprot.org/pub/databases/uniprot/current_release/knowledgebase/idmapping/by_organism/HUMAN_9606_idmapping.dat.gz) to convert from the UniProtKB-IDs to the gene name. We will only be using the human mappings. UniProtKB-IDs with Gene Names mapped to the same UniProt Accession number in the first column will be mapped together. \n",
    "#### Note about 'interaction confidence'\n",
    "This column could potentially be used to filter interactions, but since we include the co-complex interactions in the list of interactors and these do not have an interaction confidence, we do not consider this scoring for a filtering of ConsensusPathDB"
   ]
  },
  {
   "cell_type": "code",
   "execution_count": 109,
   "metadata": {
    "collapsed": false
   },
   "outputs": [
    {
     "name": "stdout",
     "output_type": "stream",
     "text": [
      "291415 raw interactions in ConsensusPathDB\n"
     ]
    }
   ],
   "source": [
    "wd = '/cellar/users/jkhuang/Data/Projects/Network_Analysis/Data/'\n",
    "CPDB_Raw = pd.read_csv(wd+'Network_Data_Raw/ConsensusPathDB_human_PPI_v32',sep='\\t',skiprows=1)\n",
    "print CPDB_Raw.shape[0], 'raw interactions in ConsensusPathDB'"
   ]
  },
  {
   "cell_type": "code",
   "execution_count": 106,
   "metadata": {
    "collapsed": false
   },
   "outputs": [],
   "source": [
    "# Get all interaction from CPDB\n",
    "CPDB_Raw_Interactions = list(CPDB_Raw['interaction_participants'])"
   ]
  },
  {
   "cell_type": "code",
   "execution_count": 107,
   "metadata": {
    "collapsed": false
   },
   "outputs": [],
   "source": [
    "# Remove self-edges from CPDB interactions\n",
    "CPDB_Raw_Interactions_filt = []\n",
    "for interaction in CPDB_Raw_Interactions:\n",
    "    interaction_split = re.split(',|\\.', interaction)\n",
    "    if len(interaction_split) > 1:\n",
    "        CPDB_Raw_Interactions_filt.append(interaction_split)"
   ]
  },
  {
   "cell_type": "code",
   "execution_count": 110,
   "metadata": {
    "collapsed": false
   },
   "outputs": [
    {
     "name": "stdout",
     "output_type": "stream",
     "text": [
      "Binary, non-self interactions in ConsensPathDB v32: 2523991\n"
     ]
    }
   ],
   "source": [
    "# Extract Binary interactions from lists of interactors (multi-protein complex interactions form cliques)\n",
    "CPDB_binary_interactions = [list(itertools.combinations(gene_list, 2)) for gene_list in CPDB_Raw_Interactions_filt]\n",
    "full_CPDB_interaction_list = list(itertools.chain(*CPDB_binary_interactions))\n",
    "print 'Binary, non-self interactions in ConsensusPathDB v32:', len(full_CPDB_interaction_list)"
   ]
  },
  {
   "cell_type": "markdown",
   "metadata": {},
   "source": [
    "## Processing UniProtKB ID mapping files"
   ]
  },
  {
   "cell_type": "code",
   "execution_count": 116,
   "metadata": {
    "collapsed": false
   },
   "outputs": [],
   "source": [
    "# Load UniProt idmapping File\n",
    "UniProt_ID_map = pd.read_csv('/cellar/users/jkhuang/Data/Projects/Network_Analysis/Data/HUMAN_9606_idmapping.dat', sep='\\t', header=-1)"
   ]
  },
  {
   "cell_type": "code",
   "execution_count": 117,
   "metadata": {
    "collapsed": false
   },
   "outputs": [],
   "source": [
    "# Construct UniProtKB to UniProt Accession\n",
    "UniProt_ID_map_filt = UniProt_ID_map[(UniProt_ID_map[1]=='UniProtKB-ID')]\n",
    "UniProt_ID_map_filt = UniProt_ID_map_filt.set_index(2)\n",
    "UniProtKB_ID_map = UniProt_ID_map_filt[0].to_dict()"
   ]
  },
  {
   "cell_type": "code",
   "execution_count": 123,
   "metadata": {
    "collapsed": false
   },
   "outputs": [
    {
     "name": "stdout",
     "output_type": "stream",
     "text": [
      "2501019 interactions converted to UniProt Accession IDs\n"
     ]
    }
   ],
   "source": [
    "# Convert CPDB interaction list to UniProt Accessions (if any interactions do not convert, do not keep the interaction)\n",
    "CPDB_UniProtID_edgelist = []\n",
    "for edge in full_CPDB_interaction_list:\n",
    "    if (edge[0] in UniProtKB_ID_map) & (edge[1] in UniProtKB_ID_map):\n",
    "        converted_edge = sorted([UniProtKB_ID_map[edge[0]], UniProtKB_ID_map[edge[1]]])\n",
    "        CPDB_UniProtID_edgelist.append(converted_edge)\n",
    "print len(CPDB_UniProtID_edgelist), 'interactions converted to UniProt Accession IDs'"
   ]
  },
  {
   "cell_type": "code",
   "execution_count": 126,
   "metadata": {
    "collapsed": false
   },
   "outputs": [
    {
     "name": "stdout",
     "output_type": "stream",
     "text": [
      "2501019 input edges\n",
      "26 self-edges removed\n",
      "0 edges with un-mapped genes removed\n",
      "788438 duplicate edges removed\n",
      "Edge list filtered: 2.11 seconds\n",
      "1712555 Edges remaining\n"
     ]
    }
   ],
   "source": [
    "# Remove self-edges and duplicate edges after conversion\n",
    "CPDB_UniProtID_edgelist_filt = gct.filter_converted_edgelist(CPDB_UniProtID_edgelist)"
   ]
  },
  {
   "cell_type": "code",
   "execution_count": 127,
   "metadata": {
    "collapsed": false
   },
   "outputs": [],
   "source": [
    "CPDB_Converted_Genes = list(set(itertools.chain.from_iterable(CPDB_UniProtID_edgelist)))"
   ]
  },
  {
   "cell_type": "markdown",
   "metadata": {},
   "source": [
    "## Convert Uniprot Accession IDs to HUGO Gene Symbol / Entrez ID"
   ]
  },
  {
   "cell_type": "code",
   "execution_count": 131,
   "metadata": {
    "collapsed": false
   },
   "outputs": [
    {
     "name": "stdout",
     "output_type": "stream",
     "text": [
      "18642 Valid Query Genes\n",
      "0 Invalid Query Genes\n"
     ]
    }
   ],
   "source": [
    "query_string, valid_genes, invalid_genes = gct.query_constructor(CPDB_Converted_Genes)"
   ]
  },
  {
   "cell_type": "code",
   "execution_count": 132,
   "metadata": {
    "collapsed": false
   },
   "outputs": [
    {
     "name": "stdout",
     "output_type": "stream",
     "text": [
      "Batch query complete: 28.73 seconds\n",
      "18976 Matched query results\n"
     ]
    }
   ],
   "source": [
    "# Set scopes (gene naming systems to search)\n",
    "scopes = \"uniprot\"\n",
    "# Set fields (systems from which to return gene names from)\n",
    "fields = \"symbol, entrezgene\"\n",
    "# Query MyGene.Info\n",
    "match_list = gct.query_batch(query_string, scopes=scopes, fields=fields)\n",
    "print len(match_list), 'Matched query results'"
   ]
  },
  {
   "cell_type": "code",
   "execution_count": 133,
   "metadata": {
    "collapsed": false
   },
   "outputs": [
    {
     "name": "stdout",
     "output_type": "stream",
     "text": [
      "Queries without full matching results found: 1280\n",
      "\n",
      "228 Queries with mutliple matches found\n",
      "\n",
      "Query mapping table/dictionary construction complete: 81.04 seconds\n"
     ]
    }
   ],
   "source": [
    "match_table_trim, query_to_symbol, query_to_entrez = gct.construct_query_map_table(match_list, valid_genes)"
   ]
  },
  {
   "cell_type": "code",
   "execution_count": 137,
   "metadata": {
    "collapsed": false
   },
   "outputs": [
    {
     "name": "stdout",
     "output_type": "stream",
     "text": [
      "1712555 input edges\n",
      "1620 self-edges removed\n",
      "32579 edges with un-mapped genes removed\n",
      "29930 duplicate edges removed\n",
      "Edge list filtered: 1.12 seconds\n",
      "1648426 Edges remaining\n"
     ]
    }
   ],
   "source": [
    "# Convert UniProt Accession ID CPDB edgelist to gene symbols\n",
    "CPDB_edgelist_symbol = gct.convert_edgelist(CPDB_UniProtID_edgelist_filt, query_to_symbol)\n",
    "CPDB_edgelist_symbol_filt = gct.filter_converted_edgelist(CPDB_edgelist_symbol)"
   ]
  },
  {
   "cell_type": "code",
   "execution_count": 138,
   "metadata": {
    "collapsed": false
   },
   "outputs": [
    {
     "name": "stdout",
     "output_type": "stream",
     "text": [
      "Edge list saved: 2.2 seconds\n"
     ]
    }
   ],
   "source": [
    "# Save CPDB as gene symbol network\n",
    "gct.write_edgelist(CPDB_edgelist_symbol_filt, wd+'Network_SIFs_Symbol/ConsensusPathDB_Symbol.sif')"
   ]
  },
  {
   "cell_type": "code",
   "execution_count": null,
   "metadata": {
    "collapsed": true
   },
   "outputs": [],
   "source": []
  }
 ],
 "metadata": {
  "kernelspec": {
   "display_name": "Python 2",
   "language": "python",
   "name": "python2"
  },
  "language_info": {
   "codemirror_mode": {
    "name": "ipython",
    "version": 2
   },
   "file_extension": ".py",
   "mimetype": "text/x-python",
   "name": "python",
   "nbconvert_exporter": "python",
   "pygments_lexer": "ipython2",
   "version": "2.7.11"
  }
 },
 "nbformat": 4,
 "nbformat_minor": 0
}
