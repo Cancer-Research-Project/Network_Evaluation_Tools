{
 "cells": [
  {
   "cell_type": "code",
   "execution_count": 1,
   "metadata": {
    "collapsed": false
   },
   "outputs": [],
   "source": [
    "from network_evaluation_tools import gene_conversion_tools as gct\n",
    "import pandas as pd\n",
    "import itertools"
   ]
  },
  {
   "cell_type": "markdown",
   "metadata": {},
   "source": [
    "## Load BioPlex Raw Data\n",
    "#### Source: http://bioplex.hms.harvard.edu/data/BioPlex_interactionList_v4a.tsv\n",
    "Downloaded: June 20, 2017  \n",
    "Last Updated: December 01, 2016     \n",
    "This latest update of BioPlex (2.0 v4) is associated with the recent paper: Huttlin et al. (2017) Nature doi: 10.1038/nature22366  \n",
    "Note: We could use the 'p(Interaction)' column as a scoring metric to filter the network further, however, a top 10% filtering of this network would yield a network with <6000 interactions, so we did not feel like it was necessary to filter the network further for analysis."
   ]
  },
  {
   "cell_type": "code",
   "execution_count": 13,
   "metadata": {
    "collapsed": false
   },
   "outputs": [
    {
     "name": "stdout",
     "output_type": "stream",
     "text": [
      "Raw edge count in BioPlex: 56553\n"
     ]
    }
   ],
   "source": [
    "wd = '/cellar/users/jkhuang/Data/Projects/Network_Analysis/Data/'\n",
    "BioPlex_Raw = pd.read_csv(wd+'Network_Data_Raw/BioPlex_interactionList_v4a.tsv',sep='\\t')\n",
    "print 'Raw edge count in BioPlex:', len(BioPlex_Raw)"
   ]
  },
  {
   "cell_type": "code",
   "execution_count": 14,
   "metadata": {
    "collapsed": false
   },
   "outputs": [
    {
     "data": {
      "text/html": [
       "<div>\n",
       "<table border=\"1\" class=\"dataframe\">\n",
       "  <thead>\n",
       "    <tr style=\"text-align: right;\">\n",
       "      <th></th>\n",
       "      <th>GeneA</th>\n",
       "      <th>GeneB</th>\n",
       "      <th>UniprotA</th>\n",
       "      <th>UniprotB</th>\n",
       "      <th>SymbolA</th>\n",
       "      <th>SymbolB</th>\n",
       "      <th>p(Wrong)</th>\n",
       "      <th>p(No Interaction)</th>\n",
       "      <th>p(Interaction)</th>\n",
       "    </tr>\n",
       "  </thead>\n",
       "  <tbody>\n",
       "    <tr>\n",
       "      <th>0</th>\n",
       "      <td>100</td>\n",
       "      <td>728378</td>\n",
       "      <td>P00813</td>\n",
       "      <td>A5A3E0</td>\n",
       "      <td>ADA</td>\n",
       "      <td>POTEF</td>\n",
       "      <td>2.380858e-09</td>\n",
       "      <td>0.000332</td>\n",
       "      <td>0.999668</td>\n",
       "    </tr>\n",
       "    <tr>\n",
       "      <th>1</th>\n",
       "      <td>100</td>\n",
       "      <td>345651</td>\n",
       "      <td>P00813</td>\n",
       "      <td>Q562R1</td>\n",
       "      <td>ADA</td>\n",
       "      <td>ACTBL2</td>\n",
       "      <td>9.786437e-18</td>\n",
       "      <td>0.211914</td>\n",
       "      <td>0.788086</td>\n",
       "    </tr>\n",
       "    <tr>\n",
       "      <th>2</th>\n",
       "      <td>222389</td>\n",
       "      <td>708</td>\n",
       "      <td>Q8N7W2</td>\n",
       "      <td>Q07021</td>\n",
       "      <td>BEND7</td>\n",
       "      <td>C1QBP</td>\n",
       "      <td>2.962215e-17</td>\n",
       "      <td>0.005645</td>\n",
       "      <td>0.994355</td>\n",
       "    </tr>\n",
       "    <tr>\n",
       "      <th>3</th>\n",
       "      <td>222389</td>\n",
       "      <td>4038</td>\n",
       "      <td>Q8N7W2</td>\n",
       "      <td>O75096</td>\n",
       "      <td>BEND7</td>\n",
       "      <td>LRP4</td>\n",
       "      <td>3.302994e-10</td>\n",
       "      <td>0.000280</td>\n",
       "      <td>0.999720</td>\n",
       "    </tr>\n",
       "    <tr>\n",
       "      <th>4</th>\n",
       "      <td>645121</td>\n",
       "      <td>3312</td>\n",
       "      <td>Q6ZMN8</td>\n",
       "      <td>P11142</td>\n",
       "      <td>CCNI2</td>\n",
       "      <td>HSPA8</td>\n",
       "      <td>2.060285e-16</td>\n",
       "      <td>0.036235</td>\n",
       "      <td>0.963765</td>\n",
       "    </tr>\n",
       "  </tbody>\n",
       "</table>\n",
       "</div>"
      ],
      "text/plain": [
       "    GeneA   GeneB UniprotA UniprotB SymbolA SymbolB      p(Wrong)  \\\n",
       "0     100  728378   P00813   A5A3E0     ADA   POTEF  2.380858e-09   \n",
       "1     100  345651   P00813   Q562R1     ADA  ACTBL2  9.786437e-18   \n",
       "2  222389     708   Q8N7W2   Q07021   BEND7   C1QBP  2.962215e-17   \n",
       "3  222389    4038   Q8N7W2   O75096   BEND7    LRP4  3.302994e-10   \n",
       "4  645121    3312   Q6ZMN8   P11142   CCNI2   HSPA8  2.060285e-16   \n",
       "\n",
       "   p(No Interaction)  p(Interaction)  \n",
       "0           0.000332        0.999668  \n",
       "1           0.211914        0.788086  \n",
       "2           0.005645        0.994355  \n",
       "3           0.000280        0.999720  \n",
       "4           0.036235        0.963765  "
      ]
     },
     "execution_count": 14,
     "metadata": {},
     "output_type": "execute_result"
    }
   ],
   "source": [
    "BioPlex_Raw.head()"
   ]
  },
  {
   "cell_type": "code",
   "execution_count": 15,
   "metadata": {
    "collapsed": false
   },
   "outputs": [
    {
     "name": "stdout",
     "output_type": "stream",
     "text": [
      "Edges in BIND: 56553\n"
     ]
    }
   ],
   "source": [
    "# Convert table of interactions to edgelist (no scores given)\n",
    "# Also no gene symbol conversion necessary because network is given in symbol format already\n",
    "BioPlex_edgelist = BioPlex_Raw[['SymbolA', 'SymbolB']].values.tolist()\n",
    "print 'Edges in BIND:', len(BioPlex_edgelist)"
   ]
  },
  {
   "cell_type": "code",
   "execution_count": 16,
   "metadata": {
    "collapsed": true
   },
   "outputs": [],
   "source": [
    "# Sort each edge representation for filtering\n",
    "BioPlex_edgelist_sorted = [sorted(edge) for edge in BioPlex_edgelist]"
   ]
  },
  {
   "cell_type": "code",
   "execution_count": 17,
   "metadata": {
    "collapsed": false
   },
   "outputs": [
    {
     "name": "stdout",
     "output_type": "stream",
     "text": [
      "56553 input edges\n",
      "0 self-edges removed\n",
      "0 edges with un-mapped genes removed\n",
      "0 duplicate edges removed\n",
      "Edge list filtered: 0.21 seconds\n",
      "56553 Edges remaining\n"
     ]
    }
   ],
   "source": [
    "# Filter edgelist for duplicate nodes and for self-edges\n",
    "BioPlex_edgelist_filt = gct.filter_converted_edgelist(BioPlex_edgelist)"
   ]
  },
  {
   "cell_type": "code",
   "execution_count": 18,
   "metadata": {
    "collapsed": false
   },
   "outputs": [
    {
     "name": "stdout",
     "output_type": "stream",
     "text": [
      "Edge list saved: 0.1 seconds\n"
     ]
    }
   ],
   "source": [
    "# Write network to file\n",
    "gct.write_edgelist(BioPlex_edgelist_filt, wd+'Network_SIFs_Symbol/BioPlex_Symbol.sif', binary=True)"
   ]
  }
 ],
 "metadata": {
  "kernelspec": {
   "display_name": "Python 2",
   "language": "python",
   "name": "python2"
  },
  "language_info": {
   "codemirror_mode": {
    "name": "ipython",
    "version": 2
   },
   "file_extension": ".py",
   "mimetype": "text/x-python",
   "name": "python",
   "nbconvert_exporter": "python",
   "pygments_lexer": "ipython2",
   "version": "2.7.11"
  }
 },
 "nbformat": 4,
 "nbformat_minor": 0
}
