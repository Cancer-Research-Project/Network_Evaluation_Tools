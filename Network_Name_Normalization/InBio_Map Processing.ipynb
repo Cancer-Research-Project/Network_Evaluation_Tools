{
 "cells": [
  {
   "cell_type": "code",
   "execution_count": 1,
   "metadata": {
    "collapsed": true
   },
   "outputs": [],
   "source": [
    "import pandas as pd\n",
    "import itertools\n",
    "import gene_conversion_tools as gct"
   ]
  },
  {
   "cell_type": "markdown",
   "metadata": {},
   "source": [
    "## Load InBio_Map Raw Data\n",
    "#### Source: https://www.intomics.com/inbio/map/#downloads\n",
    "Downloaded: November 30, 2016  \n",
    "Last Updated: September 12, 2015   "
   ]
  },
  {
   "cell_type": "code",
   "execution_count": 5,
   "metadata": {
    "collapsed": false
   },
   "outputs": [
    {
     "name": "stdout",
     "output_type": "stream",
     "text": [
      "Raw edge count in InBio_Map: 625641\n"
     ]
    }
   ],
   "source": [
    "wd = '/cellar/users/jkhuang/Data/Projects/Network_Analysis/Data/'\n",
    "InBio_Map_Raw = pd.read_csv(wd+'Network_Data_Raw/InBio_Map_core_2016_09_12/core.psimitab',sep='\\t', header=-1)\n",
    "print 'Raw edge count in InBio_Map:', len(InBio_Map_Raw)"
   ]
  },
  {
   "cell_type": "code",
   "execution_count": 8,
   "metadata": {
    "collapsed": false
   },
   "outputs": [],
   "source": [
    "# Extract gene list\n",
    "InBio_Map_Human_Genes = list(set(InBio_Map_Raw[0]).union(set(InBio_Map_Raw[1])))\n",
    "InBio_Map_Human_Genes = [str(gene) for gene in InBio_Map_Human_Genes]"
   ]
  },
  {
   "cell_type": "markdown",
   "metadata": {},
   "source": [
    "## Convert Genes"
   ]
  },
  {
   "cell_type": "code",
   "execution_count": 9,
   "metadata": {
    "collapsed": false
   },
   "outputs": [
    {
     "name": "stdout",
     "output_type": "stream",
     "text": [
      "17653 Valid Query Genes\n",
      "0 Invalid Query Genes\n"
     ]
    }
   ],
   "source": [
    "# Construct list of genes to be submitted to MyGene.Info API\n",
    "query_string, valid_genes, invalid_genes = gct.query_constructor(InBio_Map_Human_Genes)"
   ]
  },
  {
   "cell_type": "code",
   "execution_count": 12,
   "metadata": {
    "collapsed": true
   },
   "outputs": [],
   "source": [
    "# Set scopes (gene naming systems to search)\n",
    "scopes = \"uniprot\"\n",
    "\n",
    "# Set fields (systems from which to return gene names from)\n",
    "fields = \"symbol, entrezgene\""
   ]
  },
  {
   "cell_type": "code",
   "execution_count": 13,
   "metadata": {
    "collapsed": false
   },
   "outputs": [
    {
     "name": "stdout",
     "output_type": "stream",
     "text": [
      "Batch query complete: 19.89 seconds\n",
      "17971 Matched query results\n"
     ]
    }
   ],
   "source": [
    "# Query MyGene.Info\n",
    "match_list = gct.query_batch(query_string, scopes=scopes, fields=fields)\n",
    "print len(match_list), 'Matched query results'"
   ]
  },
  {
   "cell_type": "code",
   "execution_count": 14,
   "metadata": {
    "collapsed": false
   },
   "outputs": [
    {
     "name": "stdout",
     "output_type": "stream",
     "text": [
      "Queries without full matching results found: 408\n",
      "\n",
      "222 Queries with mutliple matches found\n",
      "\n",
      "Query mapping table/dictionary construction complete: 79.93 seconds\n"
     ]
    }
   ],
   "source": [
    "match_table_trim, query_to_symbol, query_to_entrez = gct.construct_query_map_table(match_list, valid_genes)"
   ]
  },
  {
   "cell_type": "markdown",
   "metadata": {},
   "source": [
    "## Construct Converted Network"
   ]
  },
  {
   "cell_type": "code",
   "execution_count": 17,
   "metadata": {
    "collapsed": true
   },
   "outputs": [],
   "source": [
    "query_edgelist = InBio_Map_Raw[[0,1]].values.tolist()\n",
    "query_edgelist_fmt = [[edge[0].split(':')[1],edge[1].split(':')[1]] for edge in query_edgelist]"
   ]
  },
  {
   "cell_type": "code",
   "execution_count": 21,
   "metadata": {
    "collapsed": false
   },
   "outputs": [
    {
     "name": "stdout",
     "output_type": "stream",
     "text": [
      "625641 input edges\n",
      "2954 self-edges removed\n",
      "11517 edges with un-mapped genes removed\n",
      "4976 duplicate edges removed\n",
      "Edge list filtered: 0.61 seconds\n",
      "606194 Edges remaining\n",
      "Edge list saved: 1.05 seconds\n"
     ]
    }
   ],
   "source": [
    "InBio_Map_edgelist_symbol = gct.convert_edgelist(query_edgelist_fmt, query_to_symbol)\n",
    "InBio_Map_edgelist_symbol_filt = gct.filter_converted_edgelist(InBio_Map_edgelist_symbol)\n",
    "gct.write_edgelist(InBio_Map_edgelist_symbol_filt, wd+'Network_SIFs_Symbol/InBio-Map_Symbol.sif')"
   ]
  },
  {
   "cell_type": "code",
   "execution_count": 22,
   "metadata": {
    "collapsed": false
   },
   "outputs": [
    {
     "name": "stdout",
     "output_type": "stream",
     "text": [
      "625641 input edges\n",
      "7536 self-edges removed\n",
      "11091 edges with un-mapped genes removed\n",
      "4975 duplicate edges removed\n",
      "Edge list filtered: 0.52 seconds\n",
      "602039 Edges remaining\n",
      "Edge list saved: 0.41 seconds\n"
     ]
    }
   ],
   "source": [
    "InBio_Map_edgelist_entrez = gct.convert_edgelist(query_edgelist_fmt, query_to_entrez)\n",
    "InBio_Map_edgelist_entrez_filt = gct.filter_converted_edgelist(InBio_Map_edgelist_entrez)\n",
    "gct.write_edgelist(InBio_Map_edgelist_entrez_filt, wd+'Network_SIFs_Entrez/InBio-Map_Entrez.sif')"
   ]
  },
  {
   "cell_type": "code",
   "execution_count": null,
   "metadata": {
    "collapsed": true
   },
   "outputs": [],
   "source": []
  }
 ],
 "metadata": {
  "kernelspec": {
   "display_name": "Python 2",
   "language": "python",
   "name": "python2"
  },
  "language_info": {
   "codemirror_mode": {
    "name": "ipython",
    "version": 2
   },
   "file_extension": ".py",
   "mimetype": "text/x-python",
   "name": "python",
   "nbconvert_exporter": "python",
   "pygments_lexer": "ipython2",
   "version": "2.7.11"
  }
 },
 "nbformat": 4,
 "nbformat_minor": 0
}
