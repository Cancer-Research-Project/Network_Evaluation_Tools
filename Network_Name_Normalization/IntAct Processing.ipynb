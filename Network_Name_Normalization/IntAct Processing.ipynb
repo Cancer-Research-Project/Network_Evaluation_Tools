{
 "cells": [
  {
   "cell_type": "code",
   "execution_count": 1,
   "metadata": {
    "collapsed": false
   },
   "outputs": [],
   "source": [
    "import pandas as pd\n",
    "import itertools\n",
    "import gene_conversion_tools as gct"
   ]
  },
  {
   "cell_type": "markdown",
   "metadata": {},
   "source": [
    "## Load IntAct Raw Data\n",
    "#### Source (PSI-MITAB): ftp://ftp.ebi.ac.uk/pub/databases/intact/current/psimitab/intact.txt\n",
    "Downloaded: October 03, 2016  \n",
    "Last Updated: September 08, 2016  \n",
    "Notes for processing: All interactions listed here need to be filtered for human-human interactions. Given the size of the file, we will filter the interactions and save the human-only interactions to a separate file to be loaded to save memory."
   ]
  },
  {
   "cell_type": "code",
   "execution_count": 2,
   "metadata": {
    "collapsed": false
   },
   "outputs": [
    {
     "name": "stderr",
     "output_type": "stream",
     "text": [
      "/cellar/users/jkhuang/anaconda/lib/python2.7/site-packages/IPython/core/interactiveshell.py:2723: DtypeWarning: Columns (38,39) have mixed types. Specify dtype option on import or set low_memory=False.\n",
      "  interactivity=interactivity, compiler=compiler, result=result)\n"
     ]
    },
    {
     "name": "stdout",
     "output_type": "stream",
     "text": [
      "Raw edge count in IntAct: 653104\n"
     ]
    }
   ],
   "source": [
    "wd = '/cellar/users/jkhuang/Data/Projects/Network_Analysis/Data/'\n",
    "IntAct_Raw = pd.read_csv(wd+'Network_Data_Raw/IntAct/2016-09-08_intact.txt', sep='\\t')\n",
    "print 'Raw edge count in IntAct:', len(IntAct_Raw)"
   ]
  },
  {
   "cell_type": "markdown",
   "metadata": {},
   "source": [
    "## Custom Processing of Raw DIP Data"
   ]
  },
  {
   "cell_type": "code",
   "execution_count": 3,
   "metadata": {
    "collapsed": false
   },
   "outputs": [
    {
     "data": {
      "text/plain": [
       "Index([u'#ID(s) interactor A', u'ID(s) interactor B',\n",
       "       u'Alt. ID(s) interactor A', u'Alt. ID(s) interactor B',\n",
       "       u'Alias(es) interactor A', u'Alias(es) interactor B',\n",
       "       u'Interaction detection method(s)', u'Publication 1st author(s)',\n",
       "       u'Publication Identifier(s)', u'Taxid interactor A',\n",
       "       u'Taxid interactor B', u'Interaction type(s)', u'Source database(s)',\n",
       "       u'Interaction identifier(s)', u'Confidence value(s)',\n",
       "       u'Expansion method(s)', u'Biological role(s) interactor A',\n",
       "       u'Biological role(s) interactor B',\n",
       "       u'Experimental role(s) interactor A',\n",
       "       u'Experimental role(s) interactor B', u'Type(s) interactor A',\n",
       "       u'Type(s) interactor B', u'Xref(s) interactor A',\n",
       "       u'Xref(s) interactor B', u'Interaction Xref(s)',\n",
       "       u'Annotation(s) interactor A', u'Annotation(s) interactor B',\n",
       "       u'Interaction annotation(s)', u'Host organism(s)',\n",
       "       u'Interaction parameter(s)', u'Creation date', u'Update date',\n",
       "       u'Checksum(s) interactor A', u'Checksum(s) interactor B',\n",
       "       u'Interaction Checksum(s)', u'Negative', u'Feature(s) interactor A',\n",
       "       u'Feature(s) interactor B', u'Stoichiometry(s) interactor A',\n",
       "       u'Stoichiometry(s) interactor B',\n",
       "       u'Identification method participant A',\n",
       "       u'Identification method participant B'],\n",
       "      dtype='object')"
      ]
     },
     "execution_count": 3,
     "metadata": {},
     "output_type": "execute_result"
    }
   ],
   "source": [
    "IntAct_Raw.columns"
   ]
  },
  {
   "cell_type": "markdown",
   "metadata": {},
   "source": [
    "#### Keep only human-human interactions"
   ]
  },
  {
   "cell_type": "code",
   "execution_count": 4,
   "metadata": {
    "collapsed": false,
    "scrolled": false
   },
   "outputs": [],
   "source": [
    "# Filter  for only human-human interactions in IntAct\n",
    "IntAct_Human_Only = IntAct_Raw[(IntAct_Raw['Taxid interactor A']=='taxid:9606(human)|taxid:9606(Homo sapiens)') & (IntAct_Raw['Taxid interactor B']=='taxid:9606(human)|taxid:9606(Homo sapiens)')]\n",
    "IntAct_Human_Only.drop_duplicates().to_csv(wd+'/Network_Data_Processed/IntAct_Human_Only.csv',sep='\\t',index=False)"
   ]
  },
  {
   "cell_type": "markdown",
   "metadata": {},
   "source": [
    "## Load filtered IntAct Data"
   ]
  },
  {
   "cell_type": "code",
   "execution_count": 5,
   "metadata": {
    "collapsed": false
   },
   "outputs": [
    {
     "name": "stdout",
     "output_type": "stream",
     "text": [
      "Human-Human Only Edges in IntAct: 247565\n"
     ]
    }
   ],
   "source": [
    "wd = '/cellar/users/jkhuang/Data/Projects/Network_Analysis/Data/'\n",
    "IntAct_Human_Only = pd.read_csv(wd+'/Network_Data_Processed/IntAct_Human_Only.csv', sep='\\t')\n",
    "print 'Human-Human Only Edges in IntAct:', len(IntAct_Human_Only)"
   ]
  },
  {
   "cell_type": "code",
   "execution_count": 6,
   "metadata": {
    "collapsed": false
   },
   "outputs": [],
   "source": [
    "Human_IntAct_Genes = list(set(IntAct_Human_Only['#ID(s) interactor A']).union(set(IntAct_Human_Only['ID(s) interactor B'])))"
   ]
  },
  {
   "cell_type": "markdown",
   "metadata": {},
   "source": [
    "## Convert Genes"
   ]
  },
  {
   "cell_type": "code",
   "execution_count": 7,
   "metadata": {
    "collapsed": false
   },
   "outputs": [
    {
     "name": "stdout",
     "output_type": "stream",
     "text": [
      "19166 Valid Query Genes\n",
      "1139 Invalid Query Genes\n"
     ]
    }
   ],
   "source": [
    "# Construct list of genes to be submitted to MyGene.Info API (remove all genes with 'DIP' prefix)\n",
    "query_string, valid_genes, invalid_genes = gct.query_constructor(Human_IntAct_Genes, exclude_prefixes=['intact'])"
   ]
  },
  {
   "cell_type": "code",
   "execution_count": 8,
   "metadata": {
    "collapsed": true
   },
   "outputs": [],
   "source": [
    "# Set scopes (gene naming systems to search)\n",
    "scopes = \"uniprot\"\n",
    "\n",
    "# Set fields (systems from which to return gene names from)\n",
    "fields = \"symbol, entrezgene\""
   ]
  },
  {
   "cell_type": "code",
   "execution_count": 9,
   "metadata": {
    "collapsed": false
   },
   "outputs": [
    {
     "name": "stdout",
     "output_type": "stream",
     "text": [
      "Batch query complete: 41.09 seconds\n",
      "19374 Matched query results\n"
     ]
    }
   ],
   "source": [
    "# Query MyGene.Info\n",
    "match_list = gct.query_batch(query_string, scopes=scopes, fields=fields)\n",
    "print len(match_list), 'Matched query results'"
   ]
  },
  {
   "cell_type": "code",
   "execution_count": 10,
   "metadata": {
    "collapsed": false,
    "scrolled": true
   },
   "outputs": [
    {
     "name": "stdout",
     "output_type": "stream",
     "text": [
      "Queries without full matching results found: 4326\n",
      "\n",
      "150 Queries with mutliple matches found\n",
      "\n",
      "Query mapping table/dictionary construction complete: 107.59 seconds\n"
     ]
    }
   ],
   "source": [
    "match_table_trim, query_to_symbol, query_to_entrez = gct.construct_query_map_table(match_list, valid_genes)"
   ]
  },
  {
   "cell_type": "markdown",
   "metadata": {},
   "source": [
    "## Construct Converted Network"
   ]
  },
  {
   "cell_type": "code",
   "execution_count": 11,
   "metadata": {
    "collapsed": false
   },
   "outputs": [],
   "source": [
    "query_edgelist = IntAct_Human_Only[['#ID(s) interactor A', 'ID(s) interactor B']].drop_duplicates().values.tolist()"
   ]
  },
  {
   "cell_type": "code",
   "execution_count": 12,
   "metadata": {
    "collapsed": false
   },
   "outputs": [
    {
     "name": "stdout",
     "output_type": "stream",
     "text": [
      "5841 / 161035 edges with invalid nodes removed\n"
     ]
    }
   ],
   "source": [
    "query_edgelist_filt = gct.filter_query_edgelist(query_edgelist,invalid_genes)"
   ]
  },
  {
   "cell_type": "code",
   "execution_count": 13,
   "metadata": {
    "collapsed": true
   },
   "outputs": [],
   "source": [
    "query_edgelist_filt_fmt = [[gct.get_identifier_without_prefix(edge[0]), gct.get_identifier_without_prefix(edge[1])] for edge in query_edgelist_filt]"
   ]
  },
  {
   "cell_type": "code",
   "execution_count": 14,
   "metadata": {
    "collapsed": false
   },
   "outputs": [
    {
     "name": "stdout",
     "output_type": "stream",
     "text": [
      "155194 input edges\n",
      "3088 self-edges removed\n",
      "19794 edges with un-mapped genes removed\n",
      "17281 duplicate edges removed\n",
      "Edge list filtered: 0.17 seconds\n",
      "115031 Edges remaining\n",
      "Edge list saved: 0.28 seconds\n"
     ]
    }
   ],
   "source": [
    "IntAct_edgelist_symbol = gct.convert_edgelist(query_edgelist_filt_fmt, query_to_symbol)\n",
    "IntAct_edgelist_symbol_filt = gct.filter_converted_edgelist(IntAct_edgelist_symbol)\n",
    "gct.write_edgelist(IntAct_edgelist_symbol_filt, wd+'Network_SIFs_Symbol/IntAct_Symbol.sif')"
   ]
  },
  {
   "cell_type": "code",
   "execution_count": 15,
   "metadata": {
    "collapsed": false
   },
   "outputs": [
    {
     "name": "stdout",
     "output_type": "stream",
     "text": [
      "155194 input edges\n",
      "3123 self-edges removed\n",
      "20041 edges with un-mapped genes removed\n",
      "17263 duplicate edges removed\n",
      "Edge list filtered: 0.13 seconds\n",
      "114767 Edges remaining\n",
      "Edge list saved: 0.12 seconds\n"
     ]
    }
   ],
   "source": [
    "IntAct_edgelist_entrez = gct.convert_edgelist(query_edgelist_filt_fmt, query_to_entrez)\n",
    "IntAct_edgelist_entrez_filt = gct.filter_converted_edgelist(IntAct_edgelist_entrez)\n",
    "gct.write_edgelist(IntAct_edgelist_entrez_filt, wd+'Network_SIFs_Entrez/IntAct_Entrez.sif')"
   ]
  },
  {
   "cell_type": "code",
   "execution_count": null,
   "metadata": {
    "collapsed": true
   },
   "outputs": [],
   "source": []
  }
 ],
 "metadata": {
  "kernelspec": {
   "display_name": "Python 2",
   "language": "python",
   "name": "python2"
  },
  "language_info": {
   "codemirror_mode": {
    "name": "ipython",
    "version": 2
   },
   "file_extension": ".py",
   "mimetype": "text/x-python",
   "name": "python",
   "nbconvert_exporter": "python",
   "pygments_lexer": "ipython2",
   "version": "2.7.11"
  }
 },
 "nbformat": 4,
 "nbformat_minor": 0
}
