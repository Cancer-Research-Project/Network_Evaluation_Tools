{
 "cells": [
  {
   "cell_type": "code",
   "execution_count": 1,
   "metadata": {
    "collapsed": false
   },
   "outputs": [],
   "source": [
    "import pandas as pd\n",
    "import gene_conversion_tools as gct"
   ]
  },
  {
   "cell_type": "markdown",
   "metadata": {},
   "source": [
    "## Load Reactome Raw Data\n",
    "#### Source: http://www.reactome.org/download/current/homo_sapiens.interactions.txt.gz\n",
    "#### File to download: The link labelled \"Human protein-protein interaction pairs in tab-delimited format\" seems to have many more interactions than the MITAB file format. This is the file that we will use for this network.\n",
    "Downloaded: October 03, 2016  \n",
    "Last Updated: June 27, 2016  "
   ]
  },
  {
   "cell_type": "code",
   "execution_count": 2,
   "metadata": {
    "collapsed": false
   },
   "outputs": [],
   "source": [
    "wd = '/cellar/users/jkhuang/Data/Projects/Network_Analysis/Data/'\n",
    "Reactome_Raw = pd.read_csv(wd+'Network_Data_Raw/Reactome_v57.interactions.txt',sep='\\t',skiprows=1, header=-1, low_memory=False)"
   ]
  },
  {
   "cell_type": "code",
   "execution_count": 3,
   "metadata": {
    "collapsed": false
   },
   "outputs": [
    {
     "name": "stdout",
     "output_type": "stream",
     "text": [
      "2751782 Raw Reactome Edges\n",
      "207150 Raw Reactome Edges after removing duplicate edges\n",
      "203104 Raw Reactome Edges after removing duplicate and self-edges\n"
     ]
    }
   ],
   "source": [
    "# Get edge list of network (filter for duplicate edges and self-edges)\n",
    "print len(Reactome_Raw), \"Raw Reactome Edges\"\n",
    "query_edgelist_filt = Reactome_Raw[[0,3]].drop_duplicates()\n",
    "print len(query_edgelist_filt), \"Raw Reactome Edges after removing duplicate edges\"\n",
    "query_edgelist_filt2 = query_edgelist_filt[query_edgelist_filt[0]!=query_edgelist_filt[3]]\n",
    "print len(query_edgelist_filt2), \"Raw Reactome Edges after removing duplicate and self-edges\"\n",
    "query_edgelist = query_edgelist_filt2.values.tolist()"
   ]
  },
  {
   "cell_type": "code",
   "execution_count": 4,
   "metadata": {
    "collapsed": true
   },
   "outputs": [],
   "source": [
    "# Extract gene list\n",
    "Reactome_Raw_Genes = list(set(query_edgelist_filt2[0]).union(set(query_edgelist_filt2[3])))"
   ]
  },
  {
   "cell_type": "markdown",
   "metadata": {},
   "source": [
    "## Convert Genes"
   ]
  },
  {
   "cell_type": "code",
   "execution_count": 5,
   "metadata": {
    "collapsed": false
   },
   "outputs": [
    {
     "name": "stdout",
     "output_type": "stream",
     "text": [
      "7794 Valid Query Genes\n",
      "0 Invalid Query Genes\n"
     ]
    }
   ],
   "source": [
    "query_string, valid_genes, invalid_genes = gct.query_constructor(Reactome_Raw_Genes, exclude_prefixes=['CHEBI'])"
   ]
  },
  {
   "cell_type": "code",
   "execution_count": 6,
   "metadata": {
    "collapsed": true
   },
   "outputs": [],
   "source": [
    "# Set scopes (gene naming systems to search)\n",
    "scopes = \"uniprot\"\n",
    "\n",
    "# Set fields (systems from which to return gene names from)\n",
    "fields = \"symbol, entrezgene\""
   ]
  },
  {
   "cell_type": "code",
   "execution_count": 7,
   "metadata": {
    "collapsed": false
   },
   "outputs": [
    {
     "name": "stdout",
     "output_type": "stream",
     "text": [
      "Batch query complete: 40.53 seconds\n",
      "7889 Matched query results\n"
     ]
    }
   ],
   "source": [
    "# Query MyGene.Info\n",
    "match_list = gct.query_batch(query_string, scopes=scopes, fields=fields)\n",
    "print len(match_list), 'Matched query results'"
   ]
  },
  {
   "cell_type": "code",
   "execution_count": 8,
   "metadata": {
    "collapsed": false
   },
   "outputs": [
    {
     "name": "stdout",
     "output_type": "stream",
     "text": [
      "Queries without full matching results found: 552\n",
      "\n",
      "68 Queries with mutliple matches found\n",
      "\n",
      "Query mapping table/dictionary construction complete: 16.41 seconds\n"
     ]
    }
   ],
   "source": [
    "match_table_trim, query_to_symbol, query_to_entrez = gct.construct_query_map_table(match_list, valid_genes)"
   ]
  },
  {
   "cell_type": "markdown",
   "metadata": {},
   "source": [
    "## Construct Converted Network"
   ]
  },
  {
   "cell_type": "code",
   "execution_count": 9,
   "metadata": {
    "collapsed": false
   },
   "outputs": [],
   "source": [
    "query_edgelist_fmt = [[gct.get_identifier_without_prefix(edge[0]), gct.get_identifier_without_prefix(edge[1])] for edge in query_edgelist]"
   ]
  },
  {
   "cell_type": "code",
   "execution_count": 10,
   "metadata": {
    "collapsed": false
   },
   "outputs": [
    {
     "name": "stdout",
     "output_type": "stream",
     "text": [
      "203104 input edges\n",
      "13420 self-edges removed\n",
      "21509 edges with un-mapped genes removed\n",
      "1822 duplicate edges removed\n",
      "Edge list filtered: 0.18 seconds\n",
      "166353 Edges remaining\n",
      "Edge list saved: 0.3 seconds\n"
     ]
    }
   ],
   "source": [
    "Reactome_edgelist_symbol = gct.convert_edgelist(query_edgelist_fmt, query_to_symbol)\n",
    "Reactome_edgelist_symbol_filt = gct.filter_converted_edgelist(Reactome_edgelist_symbol)\n",
    "gct.write_edgelist(Reactome_edgelist_symbol_filt, wd+'Network_SIFs_Symbol/Reactome_Symbol.sif')"
   ]
  },
  {
   "cell_type": "code",
   "execution_count": 11,
   "metadata": {
    "collapsed": false
   },
   "outputs": [
    {
     "name": "stdout",
     "output_type": "stream",
     "text": [
      "203104 input edges\n",
      "15116 self-edges removed\n",
      "20739 edges with un-mapped genes removed\n",
      "1822 duplicate edges removed\n",
      "Edge list filtered: 0.16 seconds\n",
      "165427 Edges remaining\n",
      "Edge list saved: 0.15 seconds\n"
     ]
    }
   ],
   "source": [
    "Reactome_edgelist_entrez = gct.convert_edgelist(query_edgelist_fmt, query_to_entrez)\n",
    "Reactome_edgelist_entrez_filt = gct.filter_converted_edgelist(Reactome_edgelist_entrez)\n",
    "gct.write_edgelist(Reactome_edgelist_entrez_filt, wd+'Network_SIFs_Entrez/Reactome_Entrez.sif')"
   ]
  },
  {
   "cell_type": "code",
   "execution_count": null,
   "metadata": {
    "collapsed": true
   },
   "outputs": [],
   "source": []
  }
 ],
 "metadata": {
  "kernelspec": {
   "display_name": "Python 2",
   "language": "python",
   "name": "python2"
  },
  "language_info": {
   "codemirror_mode": {
    "name": "ipython",
    "version": 2
   },
   "file_extension": ".py",
   "mimetype": "text/x-python",
   "name": "python",
   "nbconvert_exporter": "python",
   "pygments_lexer": "ipython2",
   "version": "2.7.11"
  }
 },
 "nbformat": 4,
 "nbformat_minor": 0
}
