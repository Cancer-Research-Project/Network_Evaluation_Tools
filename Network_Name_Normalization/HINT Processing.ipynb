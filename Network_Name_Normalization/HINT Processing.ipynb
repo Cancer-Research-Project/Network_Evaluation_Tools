{
 "cells": [
  {
   "cell_type": "code",
   "execution_count": 9,
   "metadata": {
    "collapsed": false
   },
   "outputs": [],
   "source": [
    "import pandas as pd\n",
    "import numpy as np\n",
    "import gene_conversion_tools as gct"
   ]
  },
  {
   "cell_type": "markdown",
   "metadata": {},
   "source": [
    "## Load HINT Raw Data\n",
    "#### Source: http://hint.yulab.org/batch.html\n",
    "Downloaded: October 03, 2016  \n",
    "Last update not listed, but currently on version 3. Each of the four binary interactome types listed (High-Quality (HQ), High-Throughput (HT), Literature Curated (LC), Co-Complex (CC)) are downloaded and merged into a single interactome for HINT. Co-complex data will be processed such that each complex is a completely connected module.   \n",
    "Citation: Das J and Yu H. HINT: High-quality protein interactomes and their applications in understanding human disease. BMC Systems Biology, 2012 Jul 30;6(1):92."
   ]
  },
  {
   "cell_type": "code",
   "execution_count": 10,
   "metadata": {
    "collapsed": false
   },
   "outputs": [],
   "source": [
    "wd = '/cellar/users/jkhuang/Data/Projects/Network_Analysis/Data/'\n",
    "HINT_HQ_Raw = pd.read_csv(wd+'Network_Data_Raw/HomoSapiens_binary_hq.txt',sep='\\t')\n",
    "HINT_HT_Raw = pd.read_csv(wd+'Network_Data_Raw/HomoSapiens_binary_ht.txt',sep='\\t')\n",
    "HINT_LC_Raw = pd.read_csv(wd+'Network_Data_Raw/HomoSapiens_binary_lc.txt',sep='\\t')\n",
    "HINT_CC_Raw = pd.read_csv(wd+'Network_Data_Raw/HomoSapiens_cocomp_hq.txt',sep='\\t')"
   ]
  },
  {
   "cell_type": "code",
   "execution_count": 11,
   "metadata": {
    "collapsed": false
   },
   "outputs": [
    {
     "name": "stdout",
     "output_type": "stream",
     "text": [
      "(55200, 7) (44222, 7) (13504, 7) (25383, 7)\n",
      "Concatenated list of edges: (138309, 7)\n",
      "After duplicate edges removed: (80101, 7)\n"
     ]
    }
   ],
   "source": [
    "print HINT_HQ_Raw.shape, HINT_HT_Raw.shape, HINT_LC_Raw.shape, HINT_CC_Raw.shape\n",
    "\n",
    "HINT_Raw = pd.concat([HINT_HQ_Raw, HINT_HT_Raw, HINT_LC_Raw, HINT_CC_Raw])\n",
    "print 'Concatenated list of edges:', HINT_Raw.shape\n",
    "HINT_Raw = HINT_Raw.drop_duplicates()\n",
    "print 'After duplicate edges removed:', HINT_Raw.shape"
   ]
  },
  {
   "cell_type": "code",
   "execution_count": 12,
   "metadata": {
    "collapsed": false
   },
   "outputs": [],
   "source": [
    "# Use all gene label information and choose best fit later\n",
    "HPRD_Raw_Genes_Symbol = set(HINT_Raw['Gene_A']).union(set(HINT_Raw['Gene_B']))\n",
    "HPRD_Raw_Genes_Uniprot = set(HINT_Raw['Uniprot_A']).union(set(HINT_Raw['Uniprot_B']))\n",
    "HPRD_Raw_Genes_EntrezID = set(HINT_Raw['Alt_A']).union(set(HINT_Raw['Alt_A']))\n",
    "HPRD_Raw_Genes_EntrezID = [str(int(val)) for val in HPRD_Raw_Genes_EntrezID if not np.isnan(val)]\n",
    "HPRD_Raw_Genes = set(list(HPRD_Raw_Genes_Symbol)+list(HPRD_Raw_Genes_Uniprot)+HPRD_Raw_Genes_EntrezID)"
   ]
  },
  {
   "cell_type": "code",
   "execution_count": 13,
   "metadata": {
    "collapsed": false
   },
   "outputs": [
    {
     "name": "stdout",
     "output_type": "stream",
     "text": [
      "80101 Total HINT Edges\n"
     ]
    }
   ],
   "source": [
    "# Get edge list of network\n",
    "query_edgelist = HINT_Raw[['Uniprot_A', 'Alt_A','Gene_A','Uniprot_B', 'Alt_B','Gene_B']].values.tolist()\n",
    "print len(HINT_Raw), \"Total HINT Edges\""
   ]
  },
  {
   "cell_type": "markdown",
   "metadata": {},
   "source": [
    "## Convert Genes"
   ]
  },
  {
   "cell_type": "code",
   "execution_count": 14,
   "metadata": {
    "collapsed": false
   },
   "outputs": [
    {
     "name": "stdout",
     "output_type": "stream",
     "text": [
      "36145 Valid Query Genes\n",
      "56 Invalid Query Genes:\n",
      "['CGB|CGB5|CGB7|CGB8', 'GAGE2D|GAGE8', 'AMY1A|AMY1B|AMY1C', 'GOLGA8F|GOLGA8G', 'SERF1A|SERF1B', 'HIST1H2BC|HIST1H2BE|HIST1H2BF|HIST1H2BG|HIST1H2BI', 'GAGE12B|GAGE12C|GAGE12D|GAGE12E', 'HSFX1|HSFX2', 'HSFY1|HSFY2', 'DEFB4A|DEFB4B', 'GTF2H2C|GTF2H2C_2', 'TUBA3C|TUBA3D', 'MAGEA2|MAGEA2B', 'SSX2|SSX2B', 'HIST1H2AB|HIST1H2AE', 'MAGED4|MAGED4B', 'HIST2H3A|HIST2H3C|HIST2H3D', 'LGALS7|LGALS7B', 'HIST2H2AA3|HIST2H2AA4', 'DEFA1|DEFA1B', 'XAGE1A|XAGE1B|XAGE1C|XAGE1D|XAGE1E', 'TEX28|TEX28P1|TEX28P2', 'SMN1|SMN2', 'SLX1A|SLX1B', 'CTAG1A|CTAG1B', 'IFNA1|IFNA13', 'BCR/ABL|FUSION', 'BOLA2|BOLA2B', 'C4B|C4B_2', 'HIST1H4A|HIST1H4B|HIST1H4C|HIST1H4D|HIST1H4E|HIST1H4F|HIST1H4H|HIST1H4I|HIST1H4J|HIST1H4K|HIST1H4L|HIST2H4A|HIST2H4B|HIST4H4', 'MIR|CL-10', 'CALM1|CALM2|CALM3', 'C2ORF27A|C2ORF27B', 'FAM74A4|FAM74A6', 'CCL4L1|CCL4L2', 'H3F3A|H3F3B', 'FAM156A|FAM156B', 'FAM74A1|FAM74A2', 'OK/KNS-CL.4', 'OK/KNS-CL.1', 'MAGEA9|MAGEA9B', 'CCL3L1|CCL3L3', 'RBMY1F|RBMY1J', \"PSG11S'\", 'VCY|VCY1B', 'SPANXA1|SPANXA2', 'RGPD5|RGPD6', 'F8A1|F8A2|F8A3', 'CDY1|CDY1B', 'CKMT1A|CKMT1B', 'RPL9|RPL9P7|RPL9P8|RPL9P9', 'SSX4|SSX4B', 'MMP23A|MMP23B', 'HBA1|HBA2', 'HIST1H2AG|HIST1H2AI|HIST1H2AK|HIST1H2AL|HIST1H2AM', 'HIST1H3A|HIST1H3B|HIST1H3C|HIST1H3D|HIST1H3E|HIST1H3F|HIST1H3G|HIST1H3H|HIST1H3I|HIST1H3J']\n"
     ]
    }
   ],
   "source": [
    "query_string, valid_genes, invalid_genes = gct.query_constructor(HPRD_Raw_Genes, print_invalid_genes=True)"
   ]
  },
  {
   "cell_type": "code",
   "execution_count": 15,
   "metadata": {
    "collapsed": true
   },
   "outputs": [],
   "source": [
    "# Set scopes (gene naming systems to search)\n",
    "scopes = \"uniprot, symbol, entrezgene, retired, alias\"\n",
    "\n",
    "# Set fields (systems from which to return gene names from)\n",
    "fields = \"symbol, entrezgene\""
   ]
  },
  {
   "cell_type": "code",
   "execution_count": 16,
   "metadata": {
    "collapsed": false
   },
   "outputs": [
    {
     "name": "stdout",
     "output_type": "stream",
     "text": [
      "Batch query complete: 98.94 seconds\n",
      "37949 Matched query results\n"
     ]
    }
   ],
   "source": [
    "# Query MyGene.Info\n",
    "match_list = gct.query_batch(query_string, scopes=scopes, fields=fields)\n",
    "print len(match_list), 'Matched query results'"
   ]
  },
  {
   "cell_type": "code",
   "execution_count": 17,
   "metadata": {
    "collapsed": false,
    "scrolled": true
   },
   "outputs": [
    {
     "name": "stdout",
     "output_type": "stream",
     "text": [
      "Queries without full matching results found: 698\n",
      "\n",
      "1154 Queries with mutliple matches found\n",
      "\n",
      "Query mapping table/dictionary construction complete: 536.06 seconds\n"
     ]
    }
   ],
   "source": [
    "match_table_trim, query_to_symbol, query_to_entrez = gct.construct_query_map_table(match_list, valid_genes)"
   ]
  },
  {
   "cell_type": "markdown",
   "metadata": {},
   "source": [
    "## Construct Converted Network"
   ]
  },
  {
   "cell_type": "code",
   "execution_count": 18,
   "metadata": {
    "collapsed": true
   },
   "outputs": [],
   "source": [
    "# Separate each edge in to two lists of node identifiers to be passed into conversion function\n",
    "query_edgelist_split = []\n",
    "for edge in query_edgelist:\n",
    "    if np.isnan(edge[1]):\n",
    "        node1 = [edge[0], edge[2]]\n",
    "    else:\n",
    "        node1 = [edge[0], str(int(edge[1])), edge[2]]\n",
    "    if np.isnan(edge[4]):\n",
    "        node2 = [edge[3], edge[4]]\n",
    "    else:\n",
    "        node2 = [edge[3], str(int(edge[4])), edge[5]]\n",
    "    query_edgelist_split.append([node1, node2])"
   ]
  },
  {
   "cell_type": "code",
   "execution_count": 25,
   "metadata": {
    "collapsed": false
   },
   "outputs": [
    {
     "name": "stdout",
     "output_type": "stream",
     "text": [
      "CPU times: user 31min 38s, sys: 3.37 s, total: 31min 41s\n",
      "Wall time: 31min 45s\n"
     ]
    }
   ],
   "source": [
    "%%time\n",
    "HINT_edgelist_symbol = [sorted([gct.convert_custom_namelist(edge[0],'symbol',match_table_trim),\n",
    "                                gct.convert_custom_namelist(edge[1],'symbol',match_table_trim)]) for edge in query_edgelist_split]"
   ]
  },
  {
   "cell_type": "code",
   "execution_count": 26,
   "metadata": {
    "collapsed": false
   },
   "outputs": [
    {
     "name": "stdout",
     "output_type": "stream",
     "text": [
      "CPU times: user 31min 35s, sys: 3.07 s, total: 31min 38s\n",
      "Wall time: 31min 43s\n"
     ]
    }
   ],
   "source": [
    "%%time\n",
    "HINT_edgelist_entrez = [sorted([gct.convert_custom_namelist(edge[0],'entrez',match_table_trim),\n",
    "                                gct.convert_custom_namelist(edge[1],'entrez',match_table_trim)]) for edge in query_edgelist_split]"
   ]
  },
  {
   "cell_type": "code",
   "execution_count": 27,
   "metadata": {
    "collapsed": false
   },
   "outputs": [
    {
     "name": "stdout",
     "output_type": "stream",
     "text": [
      "80101 input edges\n",
      "4478 self-edges removed\n",
      "1004 edges with un-mapped genes removed\n",
      "10440 duplicate edges removed\n",
      "Edge list filtered: 0.1 seconds\n",
      "64179 Edges remaining\n",
      "Edge list saved: 0.16 seconds\n"
     ]
    }
   ],
   "source": [
    "HINT_edgelist_symbol_filt = gct.filter_converted_edgelist(HINT_edgelist_symbol)\n",
    "gct.write_edgelist(HINT_edgelist_symbol_filt, wd+'Network_SIFs_Symbol/HINT_Symbol.sif')"
   ]
  },
  {
   "cell_type": "code",
   "execution_count": 28,
   "metadata": {
    "collapsed": false
   },
   "outputs": [
    {
     "name": "stdout",
     "output_type": "stream",
     "text": [
      "80101 input edges\n",
      "4477 self-edges removed\n",
      "1027 edges with un-mapped genes removed\n",
      "10440 duplicate edges removed\n",
      "Edge list filtered: 0.09 seconds\n",
      "64157 Edges remaining\n",
      "Edge list saved: 0.08 seconds\n"
     ]
    }
   ],
   "source": [
    "HINT_edgelist_entrez_filt = gct.filter_converted_edgelist(HINT_edgelist_entrez)\n",
    "gct.write_edgelist(HINT_edgelist_entrez_filt, wd+'Network_SIFs_Entrez/HINT_Entrez.sif')"
   ]
  },
  {
   "cell_type": "code",
   "execution_count": null,
   "metadata": {
    "collapsed": true
   },
   "outputs": [],
   "source": []
  }
 ],
 "metadata": {
  "kernelspec": {
   "display_name": "Python 2",
   "language": "python",
   "name": "python2"
  },
  "language_info": {
   "codemirror_mode": {
    "name": "ipython",
    "version": 2
   },
   "file_extension": ".py",
   "mimetype": "text/x-python",
   "name": "python",
   "nbconvert_exporter": "python",
   "pygments_lexer": "ipython2",
   "version": "2.7.11"
  }
 },
 "nbformat": 4,
 "nbformat_minor": 0
}
