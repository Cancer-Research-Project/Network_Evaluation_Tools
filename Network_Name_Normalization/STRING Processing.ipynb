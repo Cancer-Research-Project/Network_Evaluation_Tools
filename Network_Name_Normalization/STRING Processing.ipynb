{
 "cells": [
  {
   "cell_type": "code",
   "execution_count": 1,
   "metadata": {
    "collapsed": false
   },
   "outputs": [],
   "source": [
    "import pandas as pd\n",
    "import time\n",
    "import gene_conversion_tools as gct"
   ]
  },
  {
   "cell_type": "markdown",
   "metadata": {},
   "source": [
    "## Load STRING Raw Data\n",
    "#### Source: http://string-db.org/download/protein.links.v10.txt.gz\n",
    "#### Source (detailed): http://string-db.org/download/protein.links.detailed.v10.txt.gz\n",
    "#### File to download: The link labelled 'protein.links.v10.txt.gz' is simply the binary file version of the 'detailed' file. The detailed file documents the types of interactions and support for each interaction. It can be used for filtering in the future if desired, but will not be filtered on those categories currently.\n",
    "Downloaded: July 28, 2016  \n",
    "Last Updated: Apr 16, 2016\t\n",
    "Processing note: This data needs to be filtered for human-only interactions. This is a very long and large file, so we will parse the edges that are human-human interactions only by streaming the file. Then the resulting human-human interaction file will be read to be processed."
   ]
  },
  {
   "cell_type": "code",
   "execution_count": 19,
   "metadata": {
    "collapsed": false
   },
   "outputs": [
    {
     "name": "stdout",
     "output_type": "stream",
     "text": [
      "Filtered human-human STRING interactions only: 1891.00401616 seconds\n"
     ]
    }
   ],
   "source": [
    "wd = '/cellar/users/jkhuang/Data/Projects/Network_Analysis/Data/'\n",
    "starttime=time.time()\n",
    "g=open(wd+'Network_Data_Processed/STRING_human_v10.txt','w')\n",
    "with open(wd+'Network_Data_Raw/STRING/protein.links.v10.txt') as f:\n",
    "    for line in f:\n",
    "        edge = line.split(' ')\n",
    "        if edge[0].startswith('9606') and edge[1].startswith('9606'):\n",
    "            g.write(edge[0].split('.')[1]+'\\t'+edge[1].split('.')[1]+'\\n')\n",
    "print 'Filtered human-human STRING interactions only:', time.time()-starttime, 'seconds'\n",
    "g.close()"
   ]
  },
  {
   "cell_type": "markdown",
   "metadata": {},
   "source": [
    "## Load human-filtered STRING edges"
   ]
  },
  {
   "cell_type": "code",
   "execution_count": 3,
   "metadata": {
    "collapsed": false
   },
   "outputs": [],
   "source": [
    "wd = '/cellar/users/jkhuang/Data/Projects/Network_Analysis/Data/'\n",
    "STRING_Raw = pd.read_csv(wd+'/Network_Data_Processed/STRING_human_v10.txt',sep='\\t',header=-1)"
   ]
  },
  {
   "cell_type": "code",
   "execution_count": 4,
   "metadata": {
    "collapsed": false
   },
   "outputs": [],
   "source": [
    "STRING_Raw_Genes = list(set(STRING_Raw[0]).union(set(STRING_Raw[1])))"
   ]
  },
  {
   "cell_type": "code",
   "execution_count": 5,
   "metadata": {
    "collapsed": false
   },
   "outputs": [],
   "source": [
    "query_edgelist = STRING_Raw[[0,1]].values.tolist()"
   ]
  },
  {
   "cell_type": "markdown",
   "metadata": {},
   "source": [
    "## Convert Genes"
   ]
  },
  {
   "cell_type": "code",
   "execution_count": 6,
   "metadata": {
    "collapsed": false
   },
   "outputs": [
    {
     "name": "stdout",
     "output_type": "stream",
     "text": [
      "19247 Valid Query Genes\n",
      "0 Invalid Query Genes\n"
     ]
    }
   ],
   "source": [
    "query_string, valid_genes, invalid_genes = gct.query_constructor(STRING_Raw_Genes)"
   ]
  },
  {
   "cell_type": "code",
   "execution_count": 7,
   "metadata": {
    "collapsed": true
   },
   "outputs": [],
   "source": [
    "# Set scopes (gene naming systems to search)\n",
    "scopes = \"ensemblprotein\"\n",
    "\n",
    "# Set fields (systems from which to return gene names from)\n",
    "fields = \"symbol, entrezgene\""
   ]
  },
  {
   "cell_type": "code",
   "execution_count": 8,
   "metadata": {
    "collapsed": false
   },
   "outputs": [
    {
     "name": "stdout",
     "output_type": "stream",
     "text": [
      "Batch query complete: 29.56 seconds\n",
      "19257 Matched query results\n"
     ]
    }
   ],
   "source": [
    "# Query MyGene.Info\n",
    "match_list = gct.query_batch(query_string, scopes=scopes, fields=fields)\n",
    "print len(match_list), 'Matched query results'"
   ]
  },
  {
   "cell_type": "code",
   "execution_count": 9,
   "metadata": {
    "collapsed": false
   },
   "outputs": [
    {
     "name": "stdout",
     "output_type": "stream",
     "text": [
      "Queries without full matching results found: 1427\n",
      "\n",
      "3 Queries with mutliple matches found\n",
      "\n",
      "Query mapping table/dictionary construction complete: 122.22 seconds\n"
     ]
    }
   ],
   "source": [
    "match_table_trim, query_to_symbol, query_to_entrez = gct.construct_query_map_table(match_list, valid_genes)"
   ]
  },
  {
   "cell_type": "markdown",
   "metadata": {},
   "source": [
    "## Construct Converted Network"
   ]
  },
  {
   "cell_type": "code",
   "execution_count": 10,
   "metadata": {
    "collapsed": false
   },
   "outputs": [
    {
     "name": "stdout",
     "output_type": "stream",
     "text": [
      "8548002 input edges\n",
      "18386 self-edges removed\n",
      "720410 edges with un-mapped genes removed\n",
      "3907475 duplicate edges removed\n",
      "Edge list filtered: 9.39 seconds\n",
      "3901731 Edges remaining\n",
      "Edge list saved: 6.23 seconds\n"
     ]
    }
   ],
   "source": [
    "STRING_edgelist_symbol = gct.convert_edgelist(query_edgelist, query_to_symbol)\n",
    "STRING_edgelist_symbol_filt = gct.filter_converted_edgelist(STRING_edgelist_symbol)\n",
    "gct.write_edgelist(STRING_edgelist_symbol_filt, wd+'Network_SIFs_Symbol/STRING_Symbol.sif')"
   ]
  },
  {
   "cell_type": "code",
   "execution_count": 11,
   "metadata": {
    "collapsed": false
   },
   "outputs": [
    {
     "name": "stdout",
     "output_type": "stream",
     "text": [
      "8548002 input edges\n",
      "31218 self-edges removed\n",
      "919628 edges with un-mapped genes removed\n",
      "3801409 duplicate edges removed\n",
      "Edge list filtered: 7.34 seconds\n",
      "3795747 Edges remaining\n",
      "Edge list saved: 2.5 seconds\n"
     ]
    }
   ],
   "source": [
    "STRING_edgelist_entrez = gct.convert_edgelist(query_edgelist, query_to_entrez)\n",
    "STRING_edgelist_entrez_filt = gct.filter_converted_edgelist(STRING_edgelist_entrez)\n",
    "gct.write_edgelist(STRING_edgelist_entrez_filt, wd+'Network_SIFs_Entrez/STRING_Entrez.sif')"
   ]
  },
  {
   "cell_type": "code",
   "execution_count": null,
   "metadata": {
    "collapsed": true
   },
   "outputs": [],
   "source": []
  }
 ],
 "metadata": {
  "kernelspec": {
   "display_name": "Python 2",
   "language": "python",
   "name": "python2"
  },
  "language_info": {
   "codemirror_mode": {
    "name": "ipython",
    "version": 2
   },
   "file_extension": ".py",
   "mimetype": "text/x-python",
   "name": "python",
   "nbconvert_exporter": "python",
   "pygments_lexer": "ipython2",
   "version": "2.7.11"
  }
 },
 "nbformat": 4,
 "nbformat_minor": 0
}
