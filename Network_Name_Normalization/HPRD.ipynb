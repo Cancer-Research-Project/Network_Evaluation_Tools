{
 "cells": [
  {
   "cell_type": "code",
   "execution_count": 9,
   "metadata": {
    "collapsed": false
   },
   "outputs": [],
   "source": [
    "import pandas as pd\n",
    "import gene_conversion_tools as gct"
   ]
  },
  {
   "cell_type": "markdown",
   "metadata": {},
   "source": [
    "## Load HPRD Raw Data\n",
    "#### Source: http://www.hprd.org/download\n",
    "#### The file requires registration with the database. Download the file: HPRD_Release9_041310.tar.gz\n",
    "Downloaded: August 12, 2016  \n",
    "Last Updated: June 29, 2010  \n",
    "The following files are manipulated after unzipping the .tar.gz file"
   ]
  },
  {
   "cell_type": "code",
   "execution_count": 10,
   "metadata": {
    "collapsed": false
   },
   "outputs": [],
   "source": [
    "wd = '/cellar/users/jkhuang/Data/Projects/Network_Analysis/Data/'\n",
    "HPRD_Raw = pd.read_csv(wd+'Network_Data_Raw/HPRD_Release9_062910/BINARY_PROTEIN_PROTEIN_INTERACTIONS.txt',sep='\\t',header=-1)"
   ]
  },
  {
   "cell_type": "code",
   "execution_count": 11,
   "metadata": {
    "collapsed": false
   },
   "outputs": [],
   "source": [
    "# Assign column names from README file from archive\n",
    "HPRD_Raw.columns = ['Interactor 1 Gene Symbol', 'Interactor 1 HPRD ID', 'Interactor 1 RefSeq ID',\n",
    "                    'Interactor 2 Gene Symbol', 'Interactor 2 HPRD ID', 'Interactor 2 RefSeq ID',\n",
    "                    'Experiment Type', 'PubMed ID']"
   ]
  },
  {
   "cell_type": "code",
   "execution_count": 12,
   "metadata": {
    "collapsed": false,
    "scrolled": true
   },
   "outputs": [],
   "source": [
    "# Use RefSeq ID and Gene Symbol \n",
    "HPRD_Raw_Genes_Symbol = set(HPRD_Raw['Interactor 1 Gene Symbol']).union(set(HPRD_Raw['Interactor 2 Gene Symbol']))\n",
    "HPRD_Raw_Genes_RefSeq = set(HPRD_Raw['Interactor 1 RefSeq ID']).union(set(HPRD_Raw['Interactor 2 RefSeq ID']))\n",
    "HPRD_Raw_Genes = HPRD_Raw_Genes_Symbol.union(HPRD_Raw_Genes_RefSeq)"
   ]
  },
  {
   "cell_type": "code",
   "execution_count": 13,
   "metadata": {
    "collapsed": false
   },
   "outputs": [
    {
     "name": "stdout",
     "output_type": "stream",
     "text": [
      "39240 HPRD Edges\n"
     ]
    }
   ],
   "source": [
    "# Get edge list of network\n",
    "query_edgelist = HPRD_Raw[['Interactor 1 Gene Symbol', 'Interactor 1 RefSeq ID','Interactor 2 Gene Symbol','Interactor 2 RefSeq ID']].values.tolist()\n",
    "print len(query_edgelist), \"HPRD Edges\""
   ]
  },
  {
   "cell_type": "markdown",
   "metadata": {},
   "source": [
    "## Convert Genes"
   ]
  },
  {
   "cell_type": "code",
   "execution_count": 14,
   "metadata": {
    "collapsed": false
   },
   "outputs": [
    {
     "name": "stdout",
     "output_type": "stream",
     "text": [
      "19290 Valid Query Genes\n",
      "0 Invalid Query Genes\n"
     ]
    }
   ],
   "source": [
    "query_string, valid_genes, invalid_genes = gct.query_constructor(HPRD_Raw_Genes)"
   ]
  },
  {
   "cell_type": "code",
   "execution_count": 15,
   "metadata": {
    "collapsed": true
   },
   "outputs": [],
   "source": [
    "# Set scopes (gene naming systems to search)\n",
    "scopes = \"refseq, symbol, alias, retired\"\n",
    "\n",
    "# Set fields (systems from which to return gene names from)\n",
    "fields = \"symbol, entrezgene\""
   ]
  },
  {
   "cell_type": "code",
   "execution_count": 16,
   "metadata": {
    "collapsed": false
   },
   "outputs": [
    {
     "name": "stdout",
     "output_type": "stream",
     "text": [
      "Batch query complete: 80.3 seconds\n",
      "20693 Matched query results\n"
     ]
    }
   ],
   "source": [
    "# Query MyGene.Info\n",
    "match_list = gct.query_batch(query_string, scopes=scopes, fields=fields)\n",
    "print len(match_list), 'Matched query results'"
   ]
  },
  {
   "cell_type": "code",
   "execution_count": 17,
   "metadata": {
    "collapsed": false
   },
   "outputs": [
    {
     "name": "stdout",
     "output_type": "stream",
     "text": [
      "Queries without full matching results found: 446\n",
      "\n",
      "896 Queries with mutliple matches found\n",
      "\n",
      "Query mapping table/dictionary construction complete: 139.24 seconds\n"
     ]
    }
   ],
   "source": [
    "match_table_trim, query_to_symbol, query_to_entrez = gct.construct_query_map_table(match_list, valid_genes)"
   ]
  },
  {
   "cell_type": "markdown",
   "metadata": {},
   "source": [
    "## Construct Converted Network"
   ]
  },
  {
   "cell_type": "code",
   "execution_count": 18,
   "metadata": {
    "collapsed": false
   },
   "outputs": [],
   "source": [
    "# Separate each edge in to two lists of node identifiers to be passed into conversion function\n",
    "query_edgelist_split = [[[edge[0],edge[1]],[edge[2],edge[3]]] for edge in query_edgelist]"
   ]
  },
  {
   "cell_type": "code",
   "execution_count": 19,
   "metadata": {
    "collapsed": true
   },
   "outputs": [],
   "source": [
    "# This is a custom gene conversion function written due to the parsing required for gene interactor labels\n",
    "# Returns best matched symbol and/or entrez id from each HPRD interactor string (if applicable)\n",
    "def convert_HPRD_list(names, field):\n",
    "    # Keep only mappings defined for field of interest\n",
    "    if field=='symbol':\n",
    "        # Return match table values that have matched symbol\n",
    "        conversion = match_table_trim.ix[names][~(match_table_trim.ix[names]['Symbol'].isnull())]\n",
    "        if conversion.shape[0]==0:\n",
    "            return None\n",
    "        else:\n",
    "            # Return conversion with max score or None if no conversion\n",
    "            max_score = conversion['Score'].max()\n",
    "            return conversion[conversion['Score']==max_score].ix[0]['Symbol']\n",
    "    elif field=='entrez':\n",
    "        # Return match table values that have matched symbol\n",
    "        conversion = match_table_trim.ix[names][~(match_table_trim.ix[names]['EntrezID'].isnull())]\n",
    "        if conversion.shape[0]==0:\n",
    "            return None\n",
    "        else:\n",
    "            # Return conversion with max score or None if no conversion\n",
    "            max_score = conversion['Score'].max()\n",
    "            return conversion[conversion['Score']==max_score].ix[0]['EntrezID']"
   ]
  },
  {
   "cell_type": "code",
   "execution_count": 20,
   "metadata": {
    "collapsed": false
   },
   "outputs": [],
   "source": [
    "HPRD_edgelist_symbol = [sorted([convert_HPRD_list(edge[0],'symbol'),convert_HPRD_list(edge[1],'symbol')]) for edge in query_edgelist_split]\n",
    "HPRD_edgelist_entrez = [sorted([convert_HPRD_list(edge[0],'entrez'),convert_HPRD_list(edge[1],'entrez')]) for edge in query_edgelist_split]"
   ]
  },
  {
   "cell_type": "code",
   "execution_count": 21,
   "metadata": {
    "collapsed": false
   },
   "outputs": [
    {
     "name": "stdout",
     "output_type": "stream",
     "text": [
      "39240 input edges\n",
      "2160 self-edges removed\n",
      "59 edges with un-mapped genes removed\n",
      "24 duplicate edges removed\n",
      "Edge list filtered: 0.07 seconds\n",
      "36997 Edges remaining\n",
      "Edge list saved: 0.08 seconds\n"
     ]
    }
   ],
   "source": [
    "HPRD_edgelist_symbol_filt = gct.filter_converted_edgelist(HPRD_edgelist_symbol)\n",
    "gct.write_edgelist(HPRD_edgelist_symbol_filt, wd+'Network_SIFs_Symbol/HPRD_Symbol.sif')"
   ]
  },
  {
   "cell_type": "code",
   "execution_count": 22,
   "metadata": {
    "collapsed": false
   },
   "outputs": [
    {
     "name": "stdout",
     "output_type": "stream",
     "text": [
      "39240 input edges\n",
      "2160 self-edges removed\n",
      "59 edges with un-mapped genes removed\n",
      "24 duplicate edges removed\n",
      "Edge list filtered: 0.06 seconds\n",
      "36997 Edges remaining\n",
      "Edge list saved: 0.05 seconds\n"
     ]
    }
   ],
   "source": [
    "HPRD_edgelist_entrez_filt = gct.filter_converted_edgelist(HPRD_edgelist_entrez)\n",
    "gct.write_edgelist(HPRD_edgelist_entrez_filt, wd+'Network_SIFs_Entrez/HPRD_Entrez.sif')"
   ]
  },
  {
   "cell_type": "code",
   "execution_count": null,
   "metadata": {
    "collapsed": true
   },
   "outputs": [],
   "source": []
  }
 ],
 "metadata": {
  "kernelspec": {
   "display_name": "Python 2",
   "language": "python",
   "name": "python2"
  },
  "language_info": {
   "codemirror_mode": {
    "name": "ipython",
    "version": 2
   },
   "file_extension": ".py",
   "mimetype": "text/x-python",
   "name": "python",
   "nbconvert_exporter": "python",
   "pygments_lexer": "ipython2",
   "version": "2.7.11"
  }
 },
 "nbformat": 4,
 "nbformat_minor": 0
}
