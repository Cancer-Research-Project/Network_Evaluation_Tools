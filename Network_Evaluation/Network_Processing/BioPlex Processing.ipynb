{
 "cells": [
  {
   "cell_type": "code",
   "execution_count": 2,
   "metadata": {
    "collapsed": false
   },
   "outputs": [],
   "source": [
    "import pandas as pd\n",
    "import itertools\n",
    "import gene_conversion_tools as gct"
   ]
  },
  {
   "cell_type": "markdown",
   "metadata": {},
   "source": [
    "## Load BioPlex Raw Data\n",
    "#### Source: http://wren.hms.harvard.edu/bioplex/data/BioPlex_interactionList_v4.tsv\n",
    "Downloaded: November 22, 2016  \n",
    "Last Updated: June 12, 2015   "
   ]
  },
  {
   "cell_type": "code",
   "execution_count": 3,
   "metadata": {
    "collapsed": false
   },
   "outputs": [
    {
     "name": "stdout",
     "output_type": "stream",
     "text": [
      "Raw edge count in BioPlex: 56553\n"
     ]
    }
   ],
   "source": [
    "wd = '/cellar/users/jkhuang/Data/Projects/Network_Analysis/Data/'\n",
    "BioPlex_Raw = pd.read_csv(wd+'Network_Data_Raw/BioPlex_interactionList_v4.tsv',sep='\\t')\n",
    "print 'Raw edge count in BioPlex:', len(BioPlex_Raw)"
   ]
  },
  {
   "cell_type": "code",
   "execution_count": 5,
   "metadata": {
    "collapsed": false
   },
   "outputs": [
    {
     "data": {
      "text/html": [
       "<div>\n",
       "<table border=\"1\" class=\"dataframe\">\n",
       "  <thead>\n",
       "    <tr style=\"text-align: right;\">\n",
       "      <th></th>\n",
       "      <th>GeneA</th>\n",
       "      <th>GeneB</th>\n",
       "      <th>UniprotA</th>\n",
       "      <th>UniprotB</th>\n",
       "      <th>SymbolA</th>\n",
       "      <th>SymbolB</th>\n",
       "      <th>pW</th>\n",
       "      <th>pNI</th>\n",
       "      <th>pInt</th>\n",
       "    </tr>\n",
       "  </thead>\n",
       "  <tbody>\n",
       "    <tr>\n",
       "      <th>0</th>\n",
       "      <td>100</td>\n",
       "      <td>728378</td>\n",
       "      <td>P00813</td>\n",
       "      <td>A5A3E0</td>\n",
       "      <td>ADA</td>\n",
       "      <td>POTEF</td>\n",
       "      <td>2.380860e-09</td>\n",
       "      <td>0.000332</td>\n",
       "      <td>0.999668</td>\n",
       "    </tr>\n",
       "    <tr>\n",
       "      <th>1</th>\n",
       "      <td>100</td>\n",
       "      <td>345651</td>\n",
       "      <td>P00813</td>\n",
       "      <td>Q562R1</td>\n",
       "      <td>ADA</td>\n",
       "      <td>ACTBL2</td>\n",
       "      <td>9.790000e-18</td>\n",
       "      <td>0.211914</td>\n",
       "      <td>0.788086</td>\n",
       "    </tr>\n",
       "    <tr>\n",
       "      <th>2</th>\n",
       "      <td>222389</td>\n",
       "      <td>708</td>\n",
       "      <td>Q8N7W2</td>\n",
       "      <td>Q07021</td>\n",
       "      <td>BEND7</td>\n",
       "      <td>C1QBP</td>\n",
       "      <td>2.960000e-17</td>\n",
       "      <td>0.005645</td>\n",
       "      <td>0.994355</td>\n",
       "    </tr>\n",
       "    <tr>\n",
       "      <th>3</th>\n",
       "      <td>222389</td>\n",
       "      <td>4038</td>\n",
       "      <td>Q8N7W2</td>\n",
       "      <td>O75096</td>\n",
       "      <td>BEND7</td>\n",
       "      <td>LRP4</td>\n",
       "      <td>3.302990e-10</td>\n",
       "      <td>0.000280</td>\n",
       "      <td>0.999720</td>\n",
       "    </tr>\n",
       "    <tr>\n",
       "      <th>4</th>\n",
       "      <td>645121</td>\n",
       "      <td>3312</td>\n",
       "      <td>Q6ZMN8</td>\n",
       "      <td>P11142</td>\n",
       "      <td>CCNI2</td>\n",
       "      <td>HSPA8</td>\n",
       "      <td>2.060000e-16</td>\n",
       "      <td>0.036235</td>\n",
       "      <td>0.963765</td>\n",
       "    </tr>\n",
       "  </tbody>\n",
       "</table>\n",
       "</div>"
      ],
      "text/plain": [
       "    GeneA   GeneB UniprotA UniprotB SymbolA SymbolB            pW       pNI  \\\n",
       "0     100  728378   P00813   A5A3E0     ADA   POTEF  2.380860e-09  0.000332   \n",
       "1     100  345651   P00813   Q562R1     ADA  ACTBL2  9.790000e-18  0.211914   \n",
       "2  222389     708   Q8N7W2   Q07021   BEND7   C1QBP  2.960000e-17  0.005645   \n",
       "3  222389    4038   Q8N7W2   O75096   BEND7    LRP4  3.302990e-10  0.000280   \n",
       "4  645121    3312   Q6ZMN8   P11142   CCNI2   HSPA8  2.060000e-16  0.036235   \n",
       "\n",
       "       pInt  \n",
       "0  0.999668  \n",
       "1  0.788086  \n",
       "2  0.994355  \n",
       "3  0.999720  \n",
       "4  0.963765  "
      ]
     },
     "execution_count": 5,
     "metadata": {},
     "output_type": "execute_result"
    }
   ],
   "source": [
    "BioPlex_Raw.head()"
   ]
  },
  {
   "cell_type": "markdown",
   "metadata": {},
   "source": [
    "#### Parse all Entrez genes in BioPlex"
   ]
  },
  {
   "cell_type": "code",
   "execution_count": 23,
   "metadata": {
    "collapsed": true
   },
   "outputs": [],
   "source": [
    "# Extract gene list\n",
    "BioPlex_Human_Genes = list(set(BioPlex_Raw['GeneA']).union(set(BioPlex_Raw['GeneB'])))\n",
    "BioPlex_Human_Genes = [str(gene) for gene in BioPlex_Human_Genes]"
   ]
  },
  {
   "cell_type": "markdown",
   "metadata": {},
   "source": [
    "## Convert Genes"
   ]
  },
  {
   "cell_type": "code",
   "execution_count": 24,
   "metadata": {
    "collapsed": false
   },
   "outputs": [
    {
     "name": "stdout",
     "output_type": "stream",
     "text": [
      "10961 Valid Query Genes\n",
      "0 Invalid Query Genes\n"
     ]
    }
   ],
   "source": [
    "# Construct list of genes to be submitted to MyGene.Info API\n",
    "query_string, valid_genes, invalid_genes = gct.query_constructor(BioPlex_Human_Genes)"
   ]
  },
  {
   "cell_type": "code",
   "execution_count": 25,
   "metadata": {
    "collapsed": true
   },
   "outputs": [],
   "source": [
    "# Set scopes (gene naming systems to search)\n",
    "scopes = \"entrezgene, retired, alias\"\n",
    "\n",
    "# Set fields (systems from which to return gene names from)\n",
    "fields = \"symbol, entrezgene\""
   ]
  },
  {
   "cell_type": "code",
   "execution_count": 26,
   "metadata": {
    "collapsed": false
   },
   "outputs": [
    {
     "name": "stdout",
     "output_type": "stream",
     "text": [
      "Batch query complete: 9.83 seconds\n",
      "10961 Matched query results\n"
     ]
    }
   ],
   "source": [
    "# Query MyGene.Info\n",
    "match_list = gct.query_batch(query_string, scopes=scopes, fields=fields)\n",
    "print len(match_list), 'Matched query results'"
   ]
  },
  {
   "cell_type": "code",
   "execution_count": 27,
   "metadata": {
    "collapsed": false,
    "scrolled": true
   },
   "outputs": [
    {
     "name": "stdout",
     "output_type": "stream",
     "text": [
      "Queries without full matching results found: 10\n",
      "\n",
      "0 Queries with mutliple matches found\n",
      "\n",
      "Query mapping table/dictionary construction complete: 11.32 seconds\n"
     ]
    }
   ],
   "source": [
    "match_table_trim, query_to_symbol, query_to_entrez = gct.construct_query_map_table(match_list, valid_genes)"
   ]
  },
  {
   "cell_type": "markdown",
   "metadata": {},
   "source": [
    "## Construct Converted Network"
   ]
  },
  {
   "cell_type": "code",
   "execution_count": 28,
   "metadata": {
    "collapsed": false
   },
   "outputs": [],
   "source": [
    "query_edgelist = BioPlex_Raw[['GeneA','GeneB']].values.tolist()\n",
    "query_edgelist_fmt = [[str(edge[0]),str(edge[1])] for edge in query_edgelist]"
   ]
  },
  {
   "cell_type": "code",
   "execution_count": 29,
   "metadata": {
    "collapsed": false
   },
   "outputs": [
    {
     "name": "stdout",
     "output_type": "stream",
     "text": [
      "56553 input edges\n",
      "3 self-edges removed\n",
      "108 edges with un-mapped genes removed\n",
      "6 duplicate edges removed\n",
      "Edge list filtered: 0.06 seconds\n",
      "56436 Edges remaining\n",
      "Edge list saved: 0.16 seconds\n"
     ]
    }
   ],
   "source": [
    "BioPlex_edgelist_symbol = gct.convert_edgelist(query_edgelist_fmt, query_to_symbol)\n",
    "BioPlex_edgelist_symbol_filt = gct.filter_converted_edgelist(BioPlex_edgelist_symbol)\n",
    "gct.write_edgelist(BioPlex_edgelist_symbol_filt, wd+'Network_SIFs_Symbol/BioPlex_Symbol.sif')"
   ]
  },
  {
   "cell_type": "code",
   "execution_count": 30,
   "metadata": {
    "collapsed": false
   },
   "outputs": [
    {
     "name": "stdout",
     "output_type": "stream",
     "text": [
      "56553 input edges\n",
      "3 self-edges removed\n",
      "108 edges with un-mapped genes removed\n",
      "6 duplicate edges removed\n",
      "Edge list filtered: 0.05 seconds\n",
      "56436 Edges remaining\n",
      "Edge list saved: 0.06 seconds\n"
     ]
    }
   ],
   "source": [
    "BioPlex_edgelist_entrez = gct.convert_edgelist(query_edgelist_fmt, query_to_entrez)\n",
    "BioPlex_edgelist_entrez_filt = gct.filter_converted_edgelist(BioPlex_edgelist_entrez)\n",
    "gct.write_edgelist(BioPlex_edgelist_entrez_filt, wd+'Network_SIFs_Entrez/BioPlex_Entrez.sif')"
   ]
  },
  {
   "cell_type": "code",
   "execution_count": null,
   "metadata": {
    "collapsed": true
   },
   "outputs": [],
   "source": []
  }
 ],
 "metadata": {
  "kernelspec": {
   "display_name": "Python 2",
   "language": "python",
   "name": "python2"
  },
  "language_info": {
   "codemirror_mode": {
    "name": "ipython",
    "version": 2
   },
   "file_extension": ".py",
   "mimetype": "text/x-python",
   "name": "python",
   "nbconvert_exporter": "python",
   "pygments_lexer": "ipython2",
   "version": "2.7.11"
  }
 },
 "nbformat": 4,
 "nbformat_minor": 0
}
