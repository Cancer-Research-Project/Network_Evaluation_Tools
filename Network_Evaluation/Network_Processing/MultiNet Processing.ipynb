{
 "cells": [
  {
   "cell_type": "code",
   "execution_count": 1,
   "metadata": {
    "collapsed": false
   },
   "outputs": [],
   "source": [
    "import pandas as pd\n",
    "import itertools\n",
    "import gene_conversion_tools as gct"
   ]
  },
  {
   "cell_type": "markdown",
   "metadata": {},
   "source": [
    "## Load MultiNet Raw Data\n",
    "#### Source: http://homes.gersteinlab.org/Khurana-PLoSCompBio-2013/\n",
    "Downloaded: August 12, 2016  \n",
    "Last Updated: March 17, 2013\n",
    "Processing Notes: MultiNet has labels which interactions are noted as PPI and which are not. In the initial case, we will be examining all interaction information for MultiNet. However, in this case it is simple enough to parse the PPI only information from the data, and can be done in future work if necessary."
   ]
  },
  {
   "cell_type": "code",
   "execution_count": 2,
   "metadata": {
    "collapsed": false
   },
   "outputs": [],
   "source": [
    "wd = '/cellar/users/jkhuang/Data/Projects/Network_Analysis/Data/'\n",
    "MultiNet_Raw = pd.read_csv(wd+'Network_Data_Raw/Multinet.interactions.network_presence_2013_03_17.txt',sep='\\t')"
   ]
  },
  {
   "cell_type": "code",
   "execution_count": 3,
   "metadata": {
    "collapsed": false
   },
   "outputs": [],
   "source": [
    "query_edgelist = [interaction.split('_') for interaction in MultiNet_Raw['INTERACTION_NAME']]\n",
    "MultiNet_Raw_Genes = list(set(itertools.chain.from_iterable(query_edgelist)))"
   ]
  },
  {
   "cell_type": "markdown",
   "metadata": {},
   "source": [
    "## Convert Genes"
   ]
  },
  {
   "cell_type": "code",
   "execution_count": 4,
   "metadata": {
    "collapsed": false
   },
   "outputs": [
    {
     "name": "stdout",
     "output_type": "stream",
     "text": [
      "14440 Valid Query Genes\n",
      "5 Invalid Query Genes:\n",
      "['RP6-213H19.1', 'SULT1A3.1', 'VARSL.5', 'CN5H6.4', 'NOP5/NOP58']\n"
     ]
    }
   ],
   "source": [
    "query_string, valid_genes, invalid_genes = gct.query_constructor(MultiNet_Raw_Genes, print_invalid_genes=True)"
   ]
  },
  {
   "cell_type": "code",
   "execution_count": 5,
   "metadata": {
    "collapsed": false
   },
   "outputs": [
    {
     "name": "stdout",
     "output_type": "stream",
     "text": [
      "24 / 109598 edges with invalid nodes removed\n"
     ]
    }
   ],
   "source": [
    "# filter edgelist because len(invalid_genes)>0\n",
    "query_edgelist_filt = gct.filter_query_edgelist(query_edgelist, invalid_genes)\n"
   ]
  },
  {
   "cell_type": "code",
   "execution_count": 6,
   "metadata": {
    "collapsed": true
   },
   "outputs": [],
   "source": [
    "# Set scopes (gene naming systems to search)\n",
    "scopes = \"symbol, retired, alias\"\n",
    "\n",
    "# Set fields (systems from which to return gene names from)\n",
    "fields = \"symbol, entrezgene\""
   ]
  },
  {
   "cell_type": "code",
   "execution_count": 7,
   "metadata": {
    "collapsed": false
   },
   "outputs": [
    {
     "name": "stdout",
     "output_type": "stream",
     "text": [
      "Batch query complete: 40.63 seconds\n",
      "16364 Matched query results\n"
     ]
    }
   ],
   "source": [
    "# Query MyGene.Info\n",
    "match_list = gct.query_batch(query_string, scopes=scopes, fields=fields)\n",
    "print len(match_list), 'Matched query results'"
   ]
  },
  {
   "cell_type": "code",
   "execution_count": 8,
   "metadata": {
    "collapsed": false
   },
   "outputs": [
    {
     "name": "stdout",
     "output_type": "stream",
     "text": [
      "Queries without full matching results found: 269\n",
      "\n",
      "1069 Queries with mutliple matches found\n",
      "\n",
      "Query mapping table/dictionary construction complete: 61.02 seconds\n"
     ]
    }
   ],
   "source": [
    "match_table_trim, query_to_symbol, query_to_entrez = gct.construct_query_map_table(match_list, valid_genes)"
   ]
  },
  {
   "cell_type": "markdown",
   "metadata": {},
   "source": [
    "## Construct Converted Network"
   ]
  },
  {
   "cell_type": "code",
   "execution_count": 9,
   "metadata": {
    "collapsed": false
   },
   "outputs": [
    {
     "name": "stdout",
     "output_type": "stream",
     "text": [
      "109574 input edges\n",
      "30 self-edges removed\n",
      "1572 edges with un-mapped genes removed\n",
      "37 duplicate edges removed\n",
      "Edge list filtered: 0.12 seconds\n",
      "107935 Edges remaining\n",
      "Edge list saved: 0.22 seconds\n"
     ]
    }
   ],
   "source": [
    "MultiNet_edgelist_symbol = gct.convert_edgelist(query_edgelist_filt, query_to_symbol)\n",
    "MultiNet_edgelist_symbol_filt = gct.filter_converted_edgelist(MultiNet_edgelist_symbol)\n",
    "gct.write_edgelist(MultiNet_edgelist_symbol_filt, wd+'Network_SIFs_Symbol/MultiNet_Symbol.sif')"
   ]
  },
  {
   "cell_type": "code",
   "execution_count": 10,
   "metadata": {
    "collapsed": false
   },
   "outputs": [
    {
     "name": "stdout",
     "output_type": "stream",
     "text": [
      "109574 input edges\n",
      "30 self-edges removed\n",
      "1579 edges with un-mapped genes removed\n",
      "37 duplicate edges removed\n",
      "Edge list filtered: 0.31 seconds\n",
      "107928 Edges remaining\n",
      "Edge list saved: 0.13 seconds\n"
     ]
    }
   ],
   "source": [
    "MultiNet_edgelist_entrez = gct.convert_edgelist(query_edgelist_filt, query_to_entrez)\n",
    "MultiNet_edgelist_entrez_filt = gct.filter_converted_edgelist(MultiNet_edgelist_entrez)\n",
    "gct.write_edgelist(MultiNet_edgelist_entrez_filt, wd+'Network_SIFs_Entrez/MultiNet_Entrez.sif')"
   ]
  },
  {
   "cell_type": "code",
   "execution_count": null,
   "metadata": {
    "collapsed": true
   },
   "outputs": [],
   "source": []
  }
 ],
 "metadata": {
  "kernelspec": {
   "display_name": "Python 2",
   "language": "python",
   "name": "python2"
  },
  "language_info": {
   "codemirror_mode": {
    "name": "ipython",
    "version": 2
   },
   "file_extension": ".py",
   "mimetype": "text/x-python",
   "name": "python",
   "nbconvert_exporter": "python",
   "pygments_lexer": "ipython2",
   "version": "2.7.11"
  }
 },
 "nbformat": 4,
 "nbformat_minor": 0
}
