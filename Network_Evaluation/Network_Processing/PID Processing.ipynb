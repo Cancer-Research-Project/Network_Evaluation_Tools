{
 "cells": [
  {
   "cell_type": "code",
   "execution_count": 1,
   "metadata": {
    "collapsed": false
   },
   "outputs": [],
   "source": [
    "import pandas as pd\n",
    "import gene_conversion_tools as gct"
   ]
  },
  {
   "cell_type": "markdown",
   "metadata": {},
   "source": [
    "## Load PID Raw Data\n",
    "#### Source: http://www.pathwaycommons.org/archives/PC2/v8/PathwayCommons.8.pid.BINARY_SIF.hgnc.txt.sif.gz\n",
    "Downloaded: September 29, 2016  \n",
    "Last Updated (via Pathway Commons v8 datasources.txt file): July 27, 2015"
   ]
  },
  {
   "cell_type": "code",
   "execution_count": 2,
   "metadata": {
    "collapsed": true
   },
   "outputs": [],
   "source": [
    "wd = '/cellar/users/jkhuang/Data/Projects/Network_Analysis/Data/'\n",
    "PID_Raw = pd.read_csv(wd+'Network_Data_Raw/PathwayCommons.8.pid.BINARY_SIF.hgnc.txt.sif',sep='\\t',header=-1)"
   ]
  },
  {
   "cell_type": "code",
   "execution_count": 3,
   "metadata": {
    "collapsed": true
   },
   "outputs": [],
   "source": [
    "# Extract gene list\n",
    "PID_Raw_Genes = list(set(PID_Raw[0]).union(set(PID_Raw[2])))"
   ]
  },
  {
   "cell_type": "code",
   "execution_count": 4,
   "metadata": {
    "collapsed": false
   },
   "outputs": [
    {
     "name": "stdout",
     "output_type": "stream",
     "text": [
      "28076 PID Edges\n"
     ]
    }
   ],
   "source": [
    "# Get edge list of network\n",
    "query_edgelist = PID_Raw[[0,2]].values.tolist()\n",
    "print len(query_edgelist), \"PID Edges\""
   ]
  },
  {
   "cell_type": "markdown",
   "metadata": {},
   "source": [
    "## Convert Genes"
   ]
  },
  {
   "cell_type": "code",
   "execution_count": 5,
   "metadata": {
    "collapsed": false
   },
   "outputs": [
    {
     "name": "stdout",
     "output_type": "stream",
     "text": [
      "2588 Valid Query Genes\n",
      "38 Invalid Query Genes\n"
     ]
    }
   ],
   "source": [
    "query_string, valid_genes, invalid_genes = gct.query_constructor(PID_Raw_Genes, exclude_prefixes=['CHEBI'])"
   ]
  },
  {
   "cell_type": "code",
   "execution_count": 6,
   "metadata": {
    "collapsed": false
   },
   "outputs": [
    {
     "name": "stdout",
     "output_type": "stream",
     "text": [
      "584 / 28076 edges with invalid nodes removed\n"
     ]
    }
   ],
   "source": [
    "# filter edgelist because len(invalid_genes)>0\n",
    "query_edgelist_filt = gct.filter_query_edgelist(query_edgelist, invalid_genes)\n"
   ]
  },
  {
   "cell_type": "code",
   "execution_count": 7,
   "metadata": {
    "collapsed": true
   },
   "outputs": [],
   "source": [
    "# Set scopes (gene naming systems to search)\n",
    "scopes = \"symbol, entrezgene, retired, alias\"\n",
    "\n",
    "# Set fields (systems from which to return gene names from)\n",
    "fields = \"symbol, entrezgene\""
   ]
  },
  {
   "cell_type": "code",
   "execution_count": 8,
   "metadata": {
    "collapsed": false
   },
   "outputs": [
    {
     "name": "stdout",
     "output_type": "stream",
     "text": [
      "Batch query complete: 5.95 seconds\n",
      "3035 Matched query results\n"
     ]
    }
   ],
   "source": [
    "# Query MyGene.Info\n",
    "match_list = gct.query_batch(query_string, scopes=scopes, fields=fields)\n",
    "print len(match_list), 'Matched query results'"
   ]
  },
  {
   "cell_type": "code",
   "execution_count": 9,
   "metadata": {
    "collapsed": false
   },
   "outputs": [
    {
     "name": "stdout",
     "output_type": "stream",
     "text": [
      "Queries without full matching results found: 1\n",
      "\n",
      "278 Queries with mutliple matches found\n",
      "\n",
      "Query mapping table/dictionary construction complete: 2.97 seconds\n"
     ]
    }
   ],
   "source": [
    "match_table_trim, query_to_symbol, query_to_entrez = gct.construct_query_map_table(match_list, valid_genes)"
   ]
  },
  {
   "cell_type": "markdown",
   "metadata": {},
   "source": [
    "## Construct Converted Network"
   ]
  },
  {
   "cell_type": "code",
   "execution_count": 10,
   "metadata": {
    "collapsed": false
   },
   "outputs": [
    {
     "name": "stdout",
     "output_type": "stream",
     "text": [
      "27492 input edges\n",
      "0 self-edges removed\n",
      "2 edges with un-mapped genes removed\n",
      "6014 duplicate edges removed\n",
      "Edge list filtered: 0.02 seconds\n",
      "21476 Edges remaining\n",
      "Edge list saved: 0.55 seconds\n"
     ]
    }
   ],
   "source": [
    "PID_edgelist_symbol = gct.convert_edgelist(query_edgelist_filt, query_to_symbol)\n",
    "PID_edgelist_symbol_filt = gct.filter_converted_edgelist(PID_edgelist_symbol)\n",
    "gct.write_edgelist(PID_edgelist_symbol_filt, wd+'Network_SIFs_Symbol/PID_Symbol.sif')"
   ]
  },
  {
   "cell_type": "code",
   "execution_count": 12,
   "metadata": {
    "collapsed": false
   },
   "outputs": [
    {
     "name": "stdout",
     "output_type": "stream",
     "text": [
      "27492 input edges\n",
      "0 self-edges removed\n",
      "2 edges with un-mapped genes removed\n",
      "6014 duplicate edges removed\n",
      "Edge list filtered: 0.02 seconds\n",
      "21476 Edges remaining\n",
      "Edge list saved: 0.03 seconds\n"
     ]
    }
   ],
   "source": [
    "PID_edgelist_entrez = gct.convert_edgelist(query_edgelist_filt, query_to_entrez)\n",
    "PID_edgelist_entrez_filt = gct.filter_converted_edgelist(PID_edgelist_entrez)\n",
    "gct.write_edgelist(PID_edgelist_entrez_filt, wd+'Network_SIFs_Entrez/PID_Entrez.sif')"
   ]
  },
  {
   "cell_type": "code",
   "execution_count": null,
   "metadata": {
    "collapsed": true
   },
   "outputs": [],
   "source": []
  }
 ],
 "metadata": {
  "kernelspec": {
   "display_name": "Python 2",
   "language": "python",
   "name": "python2"
  },
  "language_info": {
   "codemirror_mode": {
    "name": "ipython",
    "version": 2
   },
   "file_extension": ".py",
   "mimetype": "text/x-python",
   "name": "python",
   "nbconvert_exporter": "python",
   "pygments_lexer": "ipython2",
   "version": "2.7.11"
  }
 },
 "nbformat": 4,
 "nbformat_minor": 0
}
