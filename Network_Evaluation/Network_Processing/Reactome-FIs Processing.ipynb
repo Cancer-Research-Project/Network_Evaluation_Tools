{
 "cells": [
  {
   "cell_type": "code",
   "execution_count": 1,
   "metadata": {
    "collapsed": false
   },
   "outputs": [],
   "source": [
    "import pandas as pd\n",
    "import gene_conversion_tools as gct"
   ]
  },
  {
   "cell_type": "markdown",
   "metadata": {},
   "source": [
    "## Load Reactome-Functional Interactions Raw Data\n",
    "#### Source: http://reactomews.oicr.on.ca:8080/caBigR3WebApp2015/FIsInGene_031516_with_annotations.txt.zip\n",
    "Downloaded: July 28, 2016  \n",
    "Last Updated: March 15, 2016  "
   ]
  },
  {
   "cell_type": "code",
   "execution_count": 2,
   "metadata": {
    "collapsed": false
   },
   "outputs": [],
   "source": [
    "wd = '/cellar/users/jkhuang/Data/Projects/Network_Analysis/Data/'\n",
    "Reactome_FIs_Raw = pd.read_csv(wd+'Network_Data_Raw/FIsInGene_031516_with_annotations.txt',sep='\\t')"
   ]
  },
  {
   "cell_type": "code",
   "execution_count": 17,
   "metadata": {
    "collapsed": true
   },
   "outputs": [],
   "source": [
    "# Extract gene list\n",
    "Reactome_FIs_Raw_Genes = list(set(Reactome_FIs_Raw['Gene1']).union(set(Reactome_FIs_Raw['Gene2'])))"
   ]
  },
  {
   "cell_type": "code",
   "execution_count": 18,
   "metadata": {
    "collapsed": false
   },
   "outputs": [
    {
     "name": "stdout",
     "output_type": "stream",
     "text": [
      "229300 Total Reactome Functional Interactions\n"
     ]
    }
   ],
   "source": [
    "# Get Edgelist of network\n",
    "query_edgelist = Reactome_FIs_Raw[['Gene1','Gene2']].values.tolist()\n",
    "print len(query_edgelist), \"Total Reactome Functional Interactions\""
   ]
  },
  {
   "cell_type": "markdown",
   "metadata": {},
   "source": [
    "## Convert Genes"
   ]
  },
  {
   "cell_type": "code",
   "execution_count": 19,
   "metadata": {
    "collapsed": false
   },
   "outputs": [
    {
     "name": "stdout",
     "output_type": "stream",
     "text": [
      "12149 Valid Query Genes\n",
      "28 Invalid Query Genes:\n",
      "['IGKV A18', 'P27 KIP1', 'KIF5B-RET(NM_020975)_K23', 'KIF5B-RET(NM_020975)_K22', 'ARID1A VARIANT PROTEIN', 'APC VARIANT PROTEIN', 'KIF5B-RET(NM_020630)_K23', 'KIF5B-RET(NM_020630)_K22', 'KIF5B-RET(NM_020630)_K16', 'KIF5B-RET(NM_020630)_K15', 'PRKAR1A/RARA FUSION', 'KIF5B-RET(NM_020975)_K16', 'MIR CL-10', 'BCR/ABL FUSION', 'HS24/P52', 'TNPO2 VARIANT PROTEIN', 'ATP2B2 VARIANT PROTEIN', '<DELTA>FAS/APO-1/CD95', 'EIF4G1 VARIANT PROTEIN', 'ITGA7 VARIANT PROTEIN', 'PIK4CA VARIANT PROTEIN', 'EPHB2 VARIANT PROTEIN', 'STEM CELL FACTOR: SCF', 'MDM2 ISOFORM KB9', 'TNC VARIANT PROTEIN', 'KIF5B-RET(NM_020630)_K24', 'HTR<BETA>1', 'PLCG1 VARIANT PROTEIN']\n"
     ]
    }
   ],
   "source": [
    "query_string, valid_genes, invalid_genes = gct.query_constructor(Reactome_FIs_Raw_Genes, exclude_prefixes=['CHEBI'], print_invalid_genes=True)"
   ]
  },
  {
   "cell_type": "code",
   "execution_count": 20,
   "metadata": {
    "collapsed": false
   },
   "outputs": [
    {
     "name": "stdout",
     "output_type": "stream",
     "text": [
      "564 / 229300 edges with invalid nodes removed\n"
     ]
    }
   ],
   "source": [
    "# Filter query edges\n",
    "query_edgelist_filt = gct.filter_query_edgelist(query_edgelist,invalid_genes)"
   ]
  },
  {
   "cell_type": "code",
   "execution_count": 21,
   "metadata": {
    "collapsed": true
   },
   "outputs": [],
   "source": [
    "# Set scopes (gene naming systems to search)\n",
    "scopes = \"symbol, retired, alias\"\n",
    "\n",
    "# Set fields (systems from which to return gene names from)\n",
    "fields = \"symbol, entrezgene\""
   ]
  },
  {
   "cell_type": "code",
   "execution_count": 22,
   "metadata": {
    "collapsed": false
   },
   "outputs": [
    {
     "name": "stdout",
     "output_type": "stream",
     "text": [
      "Batch query complete: 24.7 seconds\n",
      "13806 Matched query results\n"
     ]
    }
   ],
   "source": [
    "# Query MyGene.Info\n",
    "match_list = gct.query_batch(query_string, scopes=scopes, fields=fields)\n",
    "print len(match_list), 'Matched query results'"
   ]
  },
  {
   "cell_type": "code",
   "execution_count": 23,
   "metadata": {
    "collapsed": false
   },
   "outputs": [
    {
     "name": "stdout",
     "output_type": "stream",
     "text": [
      "Queries without full matching results found: 135\n",
      "\n",
      "994 Queries with mutliple matches found\n",
      "\n",
      "Query mapping table/dictionary construction complete: 46.16 seconds\n"
     ]
    }
   ],
   "source": [
    "match_table_trim, query_to_symbol, query_to_entrez = gct.construct_query_map_table(match_list, valid_genes)"
   ]
  },
  {
   "cell_type": "markdown",
   "metadata": {},
   "source": [
    "## Construct Converted Network"
   ]
  },
  {
   "cell_type": "code",
   "execution_count": 24,
   "metadata": {
    "collapsed": false
   },
   "outputs": [
    {
     "name": "stdout",
     "output_type": "stream",
     "text": [
      "228736 input edges\n",
      "36 self-edges removed\n",
      "1944 edges with un-mapped genes removed\n",
      "432 duplicate edges removed\n",
      "Edge list filtered: 0.23 seconds\n",
      "226324 Edges remaining\n",
      "Edge list saved: 0.45 seconds\n"
     ]
    }
   ],
   "source": [
    "Reactome_FIs_edgelist_symbol = gct.convert_edgelist(query_edgelist_filt, query_to_symbol)\n",
    "Reactome_FIs_edgelist_symbol_filt = gct.filter_converted_edgelist(Reactome_FIs_edgelist_symbol)\n",
    "gct.write_edgelist(Reactome_FIs_edgelist_symbol_filt, wd+'Network_SIFs_Symbol/Reactome-FIs_Symbol.sif')"
   ]
  },
  {
   "cell_type": "code",
   "execution_count": 25,
   "metadata": {
    "collapsed": false
   },
   "outputs": [
    {
     "name": "stdout",
     "output_type": "stream",
     "text": [
      "228736 input edges\n",
      "36 self-edges removed\n",
      "1963 edges with un-mapped genes removed\n",
      "432 duplicate edges removed\n",
      "Edge list filtered: 0.21 seconds\n",
      "226305 Edges remaining\n",
      "Edge list saved: 0.2 seconds\n"
     ]
    }
   ],
   "source": [
    "Reactome_FIs_edgelist_entrez = gct.convert_edgelist(query_edgelist_filt, query_to_entrez)\n",
    "Reactome_FIs_edgelist_entrez_filt = gct.filter_converted_edgelist(Reactome_FIs_edgelist_entrez)\n",
    "gct.write_edgelist(Reactome_FIs_edgelist_entrez_filt, wd+'Network_SIFs_Entrez/Reactome-FIs_Entrez.sif')"
   ]
  },
  {
   "cell_type": "code",
   "execution_count": null,
   "metadata": {
    "collapsed": true
   },
   "outputs": [],
   "source": []
  }
 ],
 "metadata": {
  "kernelspec": {
   "display_name": "Python 2",
   "language": "python",
   "name": "python2"
  },
  "language_info": {
   "codemirror_mode": {
    "name": "ipython",
    "version": 2
   },
   "file_extension": ".py",
   "mimetype": "text/x-python",
   "name": "python",
   "nbconvert_exporter": "python",
   "pygments_lexer": "ipython2",
   "version": "2.7.11"
  }
 },
 "nbformat": 4,
 "nbformat_minor": 0
}
