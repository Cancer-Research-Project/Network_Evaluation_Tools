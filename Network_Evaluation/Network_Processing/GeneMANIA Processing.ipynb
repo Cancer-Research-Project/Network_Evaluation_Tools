{
 "cells": [
  {
   "cell_type": "code",
   "execution_count": 2,
   "metadata": {
    "collapsed": false
   },
   "outputs": [],
   "source": [
    "import pandas as pd\n",
    "import time\n",
    "import gene_conversion_tools as gct"
   ]
  },
  {
   "cell_type": "markdown",
   "metadata": {},
   "source": [
    "## Load GeneMANIA Raw Data\n",
    "#### Source: http://genemania.org/data/current/Homo_sapiens.COMBINED/COMBINED.DEFAULT_NETWORKS.BP_COMBINING.txt\n",
    "Downloaded: July 28, 2016  \n",
    "Last Updated: October 15, 2014\t"
   ]
  },
  {
   "cell_type": "code",
   "execution_count": 4,
   "metadata": {
    "collapsed": false
   },
   "outputs": [],
   "source": [
    "wd = '/cellar/users/jkhuang/Data/Projects/Network_Analysis/Data/'\n",
    "GeneMANIA_Raw = pd.read_csv(wd+'/Network_Data_Raw/GeneMANIA/GeneMANIA_2014_10_15.txt',sep='\\t')"
   ]
  },
  {
   "cell_type": "code",
   "execution_count": 6,
   "metadata": {
    "collapsed": false
   },
   "outputs": [],
   "source": [
    "GeneMANIA_Raw_Genes = list(set(GeneMANIA_Raw['Gene_A']).union(set(GeneMANIA_Raw['Gene_B'])))"
   ]
  },
  {
   "cell_type": "code",
   "execution_count": 10,
   "metadata": {
    "collapsed": false
   },
   "outputs": [
    {
     "name": "stdout",
     "output_type": "stream",
     "text": [
      "7290094 Total GeneMANIA Edges\n"
     ]
    }
   ],
   "source": [
    "# Get Edgelist of network\n",
    "query_edgelist = GeneMANIA_Raw[['Gene_A','Gene_B']].values.tolist()\n",
    "print len(query_edgelist), \"Total GeneMANIA Edges\""
   ]
  },
  {
   "cell_type": "markdown",
   "metadata": {},
   "source": [
    "## Convert Genes"
   ]
  },
  {
   "cell_type": "code",
   "execution_count": 12,
   "metadata": {
    "collapsed": false
   },
   "outputs": [
    {
     "name": "stdout",
     "output_type": "stream",
     "text": [
      "19264 Valid Query Genes\n",
      "0 Invalid Query Genes\n"
     ]
    }
   ],
   "source": [
    "query_string, valid_genes, invalid_genes = gct.query_constructor(GeneMANIA_Raw_Genes)"
   ]
  },
  {
   "cell_type": "code",
   "execution_count": 13,
   "metadata": {
    "collapsed": true
   },
   "outputs": [],
   "source": [
    "# Set scopes (gene naming systems to search)\n",
    "scopes = \"ensemblgene\"\n",
    "\n",
    "# Set fields (systems from which to return gene names from)\n",
    "fields = \"symbol, entrezgene\""
   ]
  },
  {
   "cell_type": "code",
   "execution_count": 14,
   "metadata": {
    "collapsed": false
   },
   "outputs": [
    {
     "name": "stdout",
     "output_type": "stream",
     "text": [
      "Batch query complete: 30.18 seconds\n",
      "19270 Matched query results\n"
     ]
    }
   ],
   "source": [
    "# Query MyGene.Info\n",
    "match_list = gct.query_batch(query_string, scopes=scopes, fields=fields)\n",
    "print len(match_list), 'Matched query results'"
   ]
  },
  {
   "cell_type": "code",
   "execution_count": 15,
   "metadata": {
    "collapsed": false
   },
   "outputs": [
    {
     "name": "stdout",
     "output_type": "stream",
     "text": [
      "Queries without full matching results found: 1545\n",
      "\n",
      "2 Queries with mutliple matches found\n",
      "\n",
      "Query mapping table/dictionary construction complete: 119.08 seconds\n"
     ]
    }
   ],
   "source": [
    "match_table_trim, query_to_symbol, query_to_entrez = gct.construct_query_map_table(match_list, valid_genes)"
   ]
  },
  {
   "cell_type": "markdown",
   "metadata": {},
   "source": [
    "## Construct Converted Network"
   ]
  },
  {
   "cell_type": "code",
   "execution_count": 16,
   "metadata": {
    "collapsed": false
   },
   "outputs": [
    {
     "name": "stdout",
     "output_type": "stream",
     "text": [
      "7290094 input edges\n",
      "21971 self-edges removed\n",
      "662244 edges with un-mapped genes removed\n",
      "621 duplicate edges removed\n",
      "Edge list filtered: 9.71 seconds\n",
      "6605258 Edges remaining\n",
      "Edge list saved: 10.65 seconds\n"
     ]
    }
   ],
   "source": [
    "GeneMANIA_edgelist_symbol = gct.convert_edgelist(query_edgelist, query_to_symbol)\n",
    "GeneMANIA_edgelist_symbol_filt = gct.filter_converted_edgelist(GeneMANIA_edgelist_symbol)\n",
    "gct.write_edgelist(GeneMANIA_edgelist_symbol_filt, wd+'Network_SIFs_Symbol/GeneMANIA_Symbol.sif')"
   ]
  },
  {
   "cell_type": "code",
   "execution_count": 17,
   "metadata": {
    "collapsed": false
   },
   "outputs": [
    {
     "name": "stdout",
     "output_type": "stream",
     "text": [
      "7290094 input edges\n",
      "28548 self-edges removed\n",
      "744894 edges with un-mapped genes removed\n",
      "272 duplicate edges removed\n",
      "Edge list filtered: 8.61 seconds\n",
      "6516380 Edges remaining\n",
      "Edge list saved: 4.36 seconds\n"
     ]
    }
   ],
   "source": [
    "GeneMANIA_edgelist_entrez = gct.convert_edgelist(query_edgelist, query_to_entrez)\n",
    "GeneMANIA_edgelist_entrez_filt = gct.filter_converted_edgelist(GeneMANIA_edgelist_entrez)\n",
    "gct.write_edgelist(GeneMANIA_edgelist_entrez_filt, wd+'Network_SIFs_Entrez/GeneMANIA_Entrez.sif')"
   ]
  },
  {
   "cell_type": "code",
   "execution_count": null,
   "metadata": {
    "collapsed": true
   },
   "outputs": [],
   "source": []
  }
 ],
 "metadata": {
  "kernelspec": {
   "display_name": "Python 2",
   "language": "python",
   "name": "python2"
  },
  "language_info": {
   "codemirror_mode": {
    "name": "ipython",
    "version": 2
   },
   "file_extension": ".py",
   "mimetype": "text/x-python",
   "name": "python",
   "nbconvert_exporter": "python",
   "pygments_lexer": "ipython2",
   "version": "2.7.11"
  }
 },
 "nbformat": 4,
 "nbformat_minor": 0
}
