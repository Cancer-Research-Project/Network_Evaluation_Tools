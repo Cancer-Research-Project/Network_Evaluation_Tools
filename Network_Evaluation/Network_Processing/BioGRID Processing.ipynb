{
 "cells": [
  {
   "cell_type": "code",
   "execution_count": 1,
   "metadata": {
    "collapsed": false
   },
   "outputs": [],
   "source": [
    "import pandas as pd\n",
    "import itertools\n",
    "import gene_conversion_tools as gct"
   ]
  },
  {
   "cell_type": "markdown",
   "metadata": {},
   "source": [
    "## Load BioGRID Raw Data\n",
    "#### Source (MITAB): http://thebiogrid.org/downloads/archives/Release%20Archive/BIOGRID-3.4.141/BIOGRID-ORGANISM-3.4.141.tab2.zip\n",
    "Downloaded: October 03, 2016  \n",
    "Last Updated: October 01, 2016  \n",
    "Notes for download: There is a new verision of BioGRID released on the first of every month. Download the organism specific files to extract only human interactions from the database.  \n",
    "Notes for processing: This is the file for human protein interactions, however, not all interactions may be human-human interactions. These need to be filtered. Additionally, we may create an alternate version of BioGRID that only contain the PPI (physical) only interactions. Entrez IDs will be used for conversion."
   ]
  },
  {
   "cell_type": "code",
   "execution_count": 2,
   "metadata": {
    "collapsed": false
   },
   "outputs": [
    {
     "name": "stdout",
     "output_type": "stream",
     "text": [
      "Raw edge count in DIP: 328724\n"
     ]
    }
   ],
   "source": [
    "wd = '/cellar/users/jkhuang/Data/Projects/Network_Analysis/Data/'\n",
    "BioGRID_Raw = pd.read_csv(wd+'Network_Data_Raw/BioGRID/BIOGRID-ORGANISM-3.4.141.tab2/BIOGRID-ORGANISM-Homo_sapiens-3.4.141.tab2.txt',sep='\\t')\n",
    "print 'Raw edge count in DIP:', len(BioGRID_Raw)"
   ]
  },
  {
   "cell_type": "code",
   "execution_count": 3,
   "metadata": {
    "collapsed": false
   },
   "outputs": [
    {
     "data": {
      "text/plain": [
       "physical    327061\n",
       "genetic       1663\n",
       "Name: Experimental System Type, dtype: int64"
      ]
     },
     "execution_count": 3,
     "metadata": {},
     "output_type": "execute_result"
    }
   ],
   "source": [
    "# Show not all interactions in BioGRID are physical PPI, though the overwhelming majority are\n",
    "BioGRID_Raw['Experimental System Type'].value_counts()"
   ]
  },
  {
   "cell_type": "code",
   "execution_count": 4,
   "metadata": {
    "collapsed": false
   },
   "outputs": [
    {
     "data": {
      "text/plain": [
       "9606      306824\n",
       "10090      18150\n",
       "11676       1581\n",
       "10116        564\n",
       "559292       344\n",
       "10376        244\n",
       "37296        151\n",
       "11103        126\n",
       "10298        119\n",
       "9986         107\n",
       "8355          66\n",
       "10359         64\n",
       "7227          62\n",
       "9913          60\n",
       "3702          57\n",
       "284812        34\n",
       "6239          33\n",
       "11723         25\n",
       "9031          20\n",
       "333760        17\n",
       "11709         16\n",
       "7955          15\n",
       "9544           9\n",
       "36329          6\n",
       "9823           5\n",
       "83332          4\n",
       "9615           3\n",
       "3988           3\n",
       "32603          2\n",
       "32604          2\n",
       "9598           2\n",
       "10245          2\n",
       "10335          1\n",
       "352472         1\n",
       "237631         1\n",
       "10310          1\n",
       "9103           1\n",
       "39947          1\n",
       "121224         1\n",
       "Name: Organism Interactor A, dtype: int64"
      ]
     },
     "execution_count": 4,
     "metadata": {},
     "output_type": "execute_result"
    }
   ],
   "source": [
    "# Not all interactions are from Human\n",
    "BioGRID_Raw['Organism Interactor A'].value_counts()"
   ]
  },
  {
   "cell_type": "code",
   "execution_count": 5,
   "metadata": {
    "collapsed": false
   },
   "outputs": [
    {
     "data": {
      "text/plain": [
       "9606      323411\n",
       "10090       2488\n",
       "559292      1028\n",
       "10116        701\n",
       "11676        314\n",
       "3702         125\n",
       "9913         100\n",
       "10298         96\n",
       "7227          80\n",
       "37296         50\n",
       "10376         50\n",
       "9986          48\n",
       "11103         41\n",
       "8355          37\n",
       "9031          23\n",
       "10359         20\n",
       "284812        18\n",
       "10029         17\n",
       "6239          15\n",
       "9823          13\n",
       "7955          13\n",
       "11723          4\n",
       "32603          4\n",
       "9544           4\n",
       "9615           3\n",
       "11709          3\n",
       "9598           2\n",
       "83332          2\n",
       "333760         2\n",
       "180454         2\n",
       "10310          2\n",
       "3988           2\n",
       "10141          2\n",
       "36329          1\n",
       "9796           1\n",
       "7668           1\n",
       "10245          1\n",
       "Name: Organism Interactor B, dtype: int64"
      ]
     },
     "execution_count": 5,
     "metadata": {},
     "output_type": "execute_result"
    }
   ],
   "source": [
    "# Not all interactions are from Human\n",
    "BioGRID_Raw['Organism Interactor B'].value_counts()"
   ]
  },
  {
   "cell_type": "markdown",
   "metadata": {},
   "source": [
    "#### Since there are so few genetic interactions relative to physical interactions, we will not filter these edges. However, we will filter all interactions that are not labelled as human-human interactions"
   ]
  },
  {
   "cell_type": "markdown",
   "metadata": {},
   "source": [
    "## Custom Processing of Raw DIP Data"
   ]
  },
  {
   "cell_type": "markdown",
   "metadata": {},
   "source": [
    "#### Keep only human-human interactions"
   ]
  },
  {
   "cell_type": "code",
   "execution_count": 6,
   "metadata": {
    "collapsed": false
   },
   "outputs": [
    {
     "name": "stdout",
     "output_type": "stream",
     "text": [
      "Human-Human only interactions in BioGRID 3.4.141: 301511\n"
     ]
    }
   ],
   "source": [
    "BioGRID_Human_Only = BioGRID_Raw[(BioGRID_Raw['Organism Interactor A']==9606) & (BioGRID_Raw['Organism Interactor B']==9606)]\n",
    "print 'Human-Human only interactions in BioGRID 3.4.141:', len(BioGRID_Human_Only)"
   ]
  },
  {
   "cell_type": "markdown",
   "metadata": {},
   "source": [
    "#### Parse all Entrez genes in filtered BioGRID"
   ]
  },
  {
   "cell_type": "code",
   "execution_count": 7,
   "metadata": {
    "collapsed": true
   },
   "outputs": [],
   "source": [
    "# Extract gene list\n",
    "BioGRID_Human_Genes = list(set(BioGRID_Human_Only['Entrez Gene Interactor A']).union(set(BioGRID_Human_Only['Entrez Gene Interactor B'])))\n",
    "BioGRID_Human_Genes = [str(gene) for gene in BioGRID_Human_Genes]"
   ]
  },
  {
   "cell_type": "markdown",
   "metadata": {},
   "source": [
    "## Convert Genes"
   ]
  },
  {
   "cell_type": "code",
   "execution_count": 8,
   "metadata": {
    "collapsed": false
   },
   "outputs": [
    {
     "name": "stdout",
     "output_type": "stream",
     "text": [
      "16102 Valid Query Genes\n",
      "0 Invalid Query Genes\n"
     ]
    }
   ],
   "source": [
    "# Construct list of genes to be submitted to MyGene.Info API (remove all genes with 'DIP' prefix)\n",
    "query_string, valid_genes, invalid_genes = gct.query_constructor(BioGRID_Human_Genes)"
   ]
  },
  {
   "cell_type": "code",
   "execution_count": 9,
   "metadata": {
    "collapsed": true
   },
   "outputs": [],
   "source": [
    "# Set scopes (gene naming systems to search)\n",
    "scopes = \"entrezgene, retired, alias\"\n",
    "\n",
    "# Set fields (systems from which to return gene names from)\n",
    "fields = \"symbol, entrezgene\""
   ]
  },
  {
   "cell_type": "code",
   "execution_count": 10,
   "metadata": {
    "collapsed": false
   },
   "outputs": [
    {
     "name": "stdout",
     "output_type": "stream",
     "text": [
      "Batch query complete: 23.49 seconds\n",
      "16102 Matched query results\n"
     ]
    }
   ],
   "source": [
    "# Query MyGene.Info\n",
    "match_list = gct.query_batch(query_string, scopes=scopes, fields=fields)\n",
    "print len(match_list), 'Matched query results'"
   ]
  },
  {
   "cell_type": "code",
   "execution_count": 11,
   "metadata": {
    "collapsed": false,
    "scrolled": true
   },
   "outputs": [
    {
     "name": "stdout",
     "output_type": "stream",
     "text": [
      "Queries without full matching results found: 3\n",
      "\n",
      "0 Queries with mutliple matches found\n",
      "\n",
      "Query mapping table/dictionary construction complete: 21.64 seconds\n"
     ]
    }
   ],
   "source": [
    "match_table_trim, query_to_symbol, query_to_entrez = gct.construct_query_map_table(match_list, valid_genes)"
   ]
  },
  {
   "cell_type": "markdown",
   "metadata": {},
   "source": [
    "## Construct Converted Network"
   ]
  },
  {
   "cell_type": "code",
   "execution_count": 12,
   "metadata": {
    "collapsed": false
   },
   "outputs": [],
   "source": [
    "query_edgelist = BioGRID_Human_Only[['Entrez Gene Interactor A','Entrez Gene Interactor B']].values.tolist()\n",
    "query_edgelist_fmt = [[str(edge[0]),str(edge[1])] for edge in query_edgelist]"
   ]
  },
  {
   "cell_type": "code",
   "execution_count": 13,
   "metadata": {
    "collapsed": false
   },
   "outputs": [
    {
     "name": "stdout",
     "output_type": "stream",
     "text": [
      "301511 input edges\n",
      "4372 self-edges removed\n",
      "9 edges with un-mapped genes removed\n",
      "80390 duplicate edges removed\n",
      "Edge list filtered: 0.53 seconds\n",
      "216740 Edges remaining\n",
      "Edge list saved: 0.38 seconds\n"
     ]
    }
   ],
   "source": [
    "BioGRID_edgelist_symbol = gct.convert_edgelist(query_edgelist_fmt, query_to_symbol)\n",
    "BioGRID_edgelist_symbol_filt = gct.filter_converted_edgelist(BioGRID_edgelist_symbol)\n",
    "gct.write_edgelist(BioGRID_edgelist_symbol_filt, wd+'Network_SIFs_Symbol/BioGRID_Symbol.sif')"
   ]
  },
  {
   "cell_type": "code",
   "execution_count": 14,
   "metadata": {
    "collapsed": false
   },
   "outputs": [
    {
     "name": "stdout",
     "output_type": "stream",
     "text": [
      "301511 input edges\n",
      "4372 self-edges removed\n",
      "9 edges with un-mapped genes removed\n",
      "80390 duplicate edges removed\n",
      "Edge list filtered: 0.34 seconds\n",
      "216740 Edges remaining\n",
      "Edge list saved: 0.19 seconds\n"
     ]
    }
   ],
   "source": [
    "BioGRID_edgelist_entrez = gct.convert_edgelist(query_edgelist_fmt, query_to_entrez)\n",
    "BioGRID_edgelist_entrez_filt = gct.filter_converted_edgelist(BioGRID_edgelist_entrez)\n",
    "gct.write_edgelist(BioGRID_edgelist_entrez_filt, wd+'Network_SIFs_Entrez/BioGRID_Entrez.sif')"
   ]
  },
  {
   "cell_type": "code",
   "execution_count": null,
   "metadata": {
    "collapsed": true
   },
   "outputs": [],
   "source": []
  }
 ],
 "metadata": {
  "kernelspec": {
   "display_name": "Python 2",
   "language": "python",
   "name": "python2"
  },
  "language_info": {
   "codemirror_mode": {
    "name": "ipython",
    "version": 2
   },
   "file_extension": ".py",
   "mimetype": "text/x-python",
   "name": "python",
   "nbconvert_exporter": "python",
   "pygments_lexer": "ipython2",
   "version": "2.7.11"
  }
 },
 "nbformat": 4,
 "nbformat_minor": 0
}
