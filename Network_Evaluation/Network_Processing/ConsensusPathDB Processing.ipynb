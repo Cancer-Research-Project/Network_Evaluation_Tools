{
 "cells": [
  {
   "cell_type": "code",
   "execution_count": 41,
   "metadata": {
    "collapsed": false
   },
   "outputs": [],
   "source": [
    "import pandas as pd\n",
    "import itertools\n",
    "import time\n",
    "import gene_conversion_tools as gct"
   ]
  },
  {
   "cell_type": "markdown",
   "metadata": {},
   "source": [
    "## Load ConsensusPathDB Raw Data\n",
    "#### Source: http://cpdb.molgen.mpg.de/download/ConsensusPathDB_human_PPI.gz\n",
    "Downloaded: August 16, 2016  \n",
    "Last Updated: September 01, 2015  \n",
    "We only downloaded the protein interaction part of this database.  \n",
    "#### From the website:  \n",
    "\"The protein interaction part of the integrated network is available for download. Due to several licensing issues, we are not allowed to release the complete integrated network (including signaling, metabolism and gene regulation).\n",
    "Rows with one protein only describe self-interactions, and rows with more than two proteins describe complex interactions. In cases when proteins are annotated only with genomic identifiers but no protein identifiers in the according source databases, and if the genomic identifiers map to more than one UniProt entry, the according UniProt entry names are concatenated (e.g. RL40_HUMAN.RS27A_HUMAN.UBIQ_HUMAN) as it is unclear which of the gene products interact.\"  \n",
    "#### Note about processing gene names:\n",
    "The gene names here are all listed as UniProtKB-IDs, however, MyGene.Info does not map these ID names. Therefore, we will use the UniProtKB mapping table (ftp://ftp.uniprot.org/pub/databases/uniprot/current_release/knowledgebase/idmapping/idmapping_selected.tab.2015_03.gz) to convert from the given IDs to the UniProtKB accession numbers. From the README of ID Mapping found here (ftp://ftp.uniprot.org/pub/databases/uniprot/current_release/knowledgebase/idmapping/README): we will be using the first two columns. However, given the size of this file, we will first save the first two columns to a separate file via UNIX, and then filter only UniProtKB-ID's that are for human (ending in '_HUMAN'). This new table will be used to map UniProtKB-IDs to UniProbKB-ACs that will be used in the MyGene.Info batch query system. All edges with non-converted IDs to ACs are removed."
   ]
  },
  {
   "cell_type": "code",
   "execution_count": 2,
   "metadata": {
    "collapsed": false
   },
   "outputs": [],
   "source": [
    "wd = '/cellar/users/jkhuang/Data/Projects/Network_Analysis/Data/'\n",
    "CPDB_Raw = pd.read_csv(wd+'Network_Data_Raw/ConsensusPathDB_human_PPI',sep='\\t',skiprows=1)"
   ]
  },
  {
   "cell_type": "code",
   "execution_count": 3,
   "metadata": {
    "collapsed": false
   },
   "outputs": [],
   "source": [
    "# Remove self-edges\n",
    "CPDB_Raw_Interactions = CPDB_Raw[CPDB_Raw['interaction_participants'].str.contains(',')].reset_index(drop=True)"
   ]
  },
  {
   "cell_type": "code",
   "execution_count": 4,
   "metadata": {
    "collapsed": false
   },
   "outputs": [],
   "source": [
    "# Extract Binary interactions from lists of interactors\n",
    "CPDB_interactions_lists = list(CPDB_Raw_Interactions['interaction_participants'])\n",
    "CPDB_interactions_split = [interaction_list.split(',') for interaction_list in CPDB_interactions_lists]\n",
    "CPDB_binary_interactions = [list(itertools.combinations(gene_list, 2)) for gene_list in CPDB_interactions_split]\n",
    "full_CPDB_interaction_list = list(itertools.chain(*CPDB_binary_interactions))"
   ]
  },
  {
   "cell_type": "markdown",
   "metadata": {},
   "source": [
    "## Processing UniProtKB ID mapping files"
   ]
  },
  {
   "cell_type": "code",
   "execution_count": 13,
   "metadata": {
    "collapsed": true
   },
   "outputs": [],
   "source": [
    "# Extract gene list\n",
    "CPDB_Raw_Genes = list(set(itertools.chain.from_iterable(full_CPDB_interaction_list)))"
   ]
  },
  {
   "cell_type": "code",
   "execution_count": 48,
   "metadata": {
    "collapsed": false
   },
   "outputs": [
    {
     "name": "stdout",
     "output_type": "stream",
     "text": [
      "Filtered UniProtIDs as human only: 32.0485138893 seconds\n"
     ]
    }
   ],
   "source": [
    "starttime=time.time()\n",
    "g=open(wd+'UniProt_ID_Map_filt.2015_03_HUMAN','w')\n",
    "with open(wd+'UniProt_ID_Map_filt.2015_03') as f:\n",
    "    for line in f:\n",
    "        if line.endswith('_HUMAN\\n'):\n",
    "            g.write(line)\n",
    "print 'Filtered UniProtIDs as human only:', time.time()-starttime, 'seconds'\n",
    "g.close()"
   ]
  },
  {
   "cell_type": "code",
   "execution_count": 58,
   "metadata": {
    "collapsed": true
   },
   "outputs": [],
   "source": [
    "UniProt_mapping_table = pd.read_csv(wd+'UniProt_ID_Map_filt.2015_03_HUMAN',sep=' ',header=-1)\n",
    "UniProt_Map = UniProt_mapping_table.set_index(1)[0].to_dict()"
   ]
  },
  {
   "cell_type": "code",
   "execution_count": 85,
   "metadata": {
    "collapsed": false
   },
   "outputs": [
    {
     "name": "stdout",
     "output_type": "stream",
     "text": [
      "607144 Raw ConsensusPathDB Edges\n"
     ]
    }
   ],
   "source": [
    "query_edgelist = pd.DataFrame(data=full_CPDB_interaction_list).drop_duplicates().values.tolist()\n",
    "print len(query_edgelist), \"Raw ConsensusPathDB Edges\""
   ]
  },
  {
   "cell_type": "code",
   "execution_count": 83,
   "metadata": {
    "collapsed": false
   },
   "outputs": [],
   "source": [
    "query_edgelist2 = [[UniProt_Map[edge[0]],UniProt_Map[edge[1]]] for edge in query_edgelist if (edge[0] in UniProt_Map) and (edge[1] in UniProt_Map)]"
   ]
  },
  {
   "cell_type": "code",
   "execution_count": 84,
   "metadata": {
    "collapsed": false
   },
   "outputs": [
    {
     "name": "stdout",
     "output_type": "stream",
     "text": [
      "595934 Converted ConsensusPathDB Edges\n"
     ]
    }
   ],
   "source": [
    "print len(query_edgelist2), \"Converted ConsensusPathDB Edges\""
   ]
  },
  {
   "cell_type": "code",
   "execution_count": 86,
   "metadata": {
    "collapsed": true
   },
   "outputs": [],
   "source": [
    "CPDB_Converted_Genes = list(set(itertools.chain.from_iterable(query_edgelist2)))"
   ]
  },
  {
   "cell_type": "markdown",
   "metadata": {},
   "source": [
    "## Convert Genes"
   ]
  },
  {
   "cell_type": "code",
   "execution_count": 87,
   "metadata": {
    "collapsed": false
   },
   "outputs": [
    {
     "name": "stdout",
     "output_type": "stream",
     "text": [
      "17209 Valid Query Genes\n",
      "0 Invalid Query Genes\n"
     ]
    }
   ],
   "source": [
    "query_string, valid_genes, invalid_genes = gct.query_constructor(CPDB_Converted_Genes)"
   ]
  },
  {
   "cell_type": "code",
   "execution_count": 74,
   "metadata": {
    "collapsed": false
   },
   "outputs": [
    {
     "name": "stdout",
     "output_type": "stream",
     "text": [
      "0 / 0 edges with invalid nodes removed\n"
     ]
    }
   ],
   "source": [
    "# filter edgelist because len(invalid_genes)>0\n",
    "query_edgelist_filt = gct.filter_query_edgelist(query_edgelist2, invalid_genes)"
   ]
  },
  {
   "cell_type": "code",
   "execution_count": 89,
   "metadata": {
    "collapsed": true
   },
   "outputs": [],
   "source": [
    "# Set scopes (gene naming systems to search)\n",
    "scopes = \"uniprot\"\n",
    "\n",
    "# Set fields (systems from which to return gene names from)\n",
    "fields = \"symbol, entrezgene\""
   ]
  },
  {
   "cell_type": "code",
   "execution_count": 90,
   "metadata": {
    "collapsed": false
   },
   "outputs": [
    {
     "name": "stdout",
     "output_type": "stream",
     "text": [
      "Batch query complete: 35.98 seconds\n",
      "17427 Matched query results\n"
     ]
    }
   ],
   "source": [
    "# Query MyGene.Info\n",
    "match_list = gct.query_batch(query_string, scopes=scopes, fields=fields)\n",
    "print len(match_list), 'Matched query results'"
   ]
  },
  {
   "cell_type": "code",
   "execution_count": 91,
   "metadata": {
    "collapsed": false
   },
   "outputs": [
    {
     "name": "stdout",
     "output_type": "stream",
     "text": [
      "Queries without full matching results found: 1124\n",
      "\n",
      "161 Queries with mutliple matches found\n",
      "\n",
      "Query mapping table/dictionary construction complete: 77.22 seconds\n"
     ]
    }
   ],
   "source": [
    "match_table_trim, query_to_symbol, query_to_entrez = gct.construct_query_map_table(match_list, valid_genes)"
   ]
  },
  {
   "cell_type": "markdown",
   "metadata": {},
   "source": [
    "## Construct Converted Network"
   ]
  },
  {
   "cell_type": "code",
   "execution_count": 92,
   "metadata": {
    "collapsed": false
   },
   "outputs": [
    {
     "name": "stdout",
     "output_type": "stream",
     "text": [
      "595934 input edges\n",
      "1211 self-edges removed\n",
      "15708 edges with un-mapped genes removed\n",
      "57393 duplicate edges removed\n",
      "Edge list filtered: 0.57 seconds\n",
      "521622 Edges remaining\n",
      "Edge list saved: 0.87 seconds\n"
     ]
    }
   ],
   "source": [
    "CPDB_edgelist_symbol = gct.convert_edgelist(query_edgelist2, query_to_symbol)\n",
    "CPDB_edgelist_symbol_filt = gct.filter_converted_edgelist(CPDB_edgelist_symbol)\n",
    "gct.write_edgelist(CPDB_edgelist_symbol_filt, wd+'Network_SIFs_Symbol/ConsensusPathDB_Symbol.sif')"
   ]
  },
  {
   "cell_type": "code",
   "execution_count": 93,
   "metadata": {
    "collapsed": false
   },
   "outputs": [
    {
     "name": "stdout",
     "output_type": "stream",
     "text": [
      "595934 input edges\n",
      "1257 self-edges removed\n",
      "16768 edges with un-mapped genes removed\n",
      "57340 duplicate edges removed\n",
      "Edge list filtered: 0.47 seconds\n",
      "520569 Edges remaining\n",
      "Edge list saved: 0.35 seconds\n"
     ]
    }
   ],
   "source": [
    "CPDB_edgelist_entrez = gct.convert_edgelist(query_edgelist2, query_to_entrez)\n",
    "CPDB_edgelist_entrez_filt = gct.filter_converted_edgelist(CPDB_edgelist_entrez)\n",
    "gct.write_edgelist(CPDB_edgelist_entrez_filt, wd+'Network_SIFs_Entrez/ConsensusPathDB_Entrez.sif')"
   ]
  },
  {
   "cell_type": "code",
   "execution_count": null,
   "metadata": {
    "collapsed": true
   },
   "outputs": [],
   "source": []
  }
 ],
 "metadata": {
  "kernelspec": {
   "display_name": "Python 2",
   "language": "python",
   "name": "python2"
  },
  "language_info": {
   "codemirror_mode": {
    "name": "ipython",
    "version": 2
   },
   "file_extension": ".py",
   "mimetype": "text/x-python",
   "name": "python",
   "nbconvert_exporter": "python",
   "pygments_lexer": "ipython2",
   "version": "2.7.11"
  }
 },
 "nbformat": 4,
 "nbformat_minor": 0
}
