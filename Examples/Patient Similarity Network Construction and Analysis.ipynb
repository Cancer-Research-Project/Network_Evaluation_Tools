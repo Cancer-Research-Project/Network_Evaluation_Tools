{
 "cells": [
  {
   "cell_type": "code",
   "execution_count": 1,
   "metadata": {
    "collapsed": true
   },
   "outputs": [],
   "source": [
    "from network_evaluation_tools import patient_similarity_network as psn"
   ]
  },
  {
   "cell_type": "code",
   "execution_count": 5,
   "metadata": {
    "collapsed": true
   },
   "outputs": [],
   "source": [
    "data_dir = '/Volumes/Macintosh HD/Users/JustinHuang1/Documents/Ideker_Lab/Network_Analysis_Data/'\n",
    "network_path = data_dir+'iRefIndex_Symbol.sif'\n",
    "maf_path = data_dir+'HNSC-TP.maf.annotated'\n",
    "node_set_path = data_dir+'HNSC_HPV_status.txt'"
   ]
  },
  {
   "cell_type": "code",
   "execution_count": 3,
   "metadata": {
    "collapsed": false
   },
   "outputs": [
    {
     "name": "stdout",
     "output_type": "stream",
     "text": [
      "Composite Network loaded: /Volumes/Macintosh HD/Users/JustinHuang1/Documents/Ideker_Lab/Network_Analysis_Data/iRefIndex_Symbol.sif\n",
      "Loading Data...\n",
      "TCGA somatic mutation data loaded: 12.8672449589 seconds. 511 patients, 16524 genes\n",
      "---------- Constructing Patient Similarity Network ----------\n",
      "Alpha: 0.551\n",
      "Number of subgraphs: 19\n",
      "Closed Propagation: 167.88709712 seconds\n",
      "PCA complete: 1.5207760334 seconds. Precise explained variance: 0.900295220731\n",
      "Pairwise correlation calculation complete: 0.0212459564209 seconds\n",
      "Symmetric Z normalization of similarity matrix complete: 0.0216648578644 seconds\n",
      "Network construction complete: 0.29594707489 seconds\n",
      "Patient Similarity Network Constructed: 511 patients 1731 edges\n"
     ]
    }
   ],
   "source": [
    "PSN = psn.PSN_Constructor(network_path, maf_path, data_dir)"
   ]
  },
  {
   "cell_type": "code",
   "execution_count": 4,
   "metadata": {
    "collapsed": true
   },
   "outputs": [],
   "source": [
    "from network_evaluation_tools import network_evaluation_functions as nef"
   ]
  },
  {
   "cell_type": "code",
   "execution_count": 7,
   "metadata": {
    "collapsed": false
   },
   "outputs": [
    {
     "ename": "AttributeError",
     "evalue": "'module' object has no attribute 'load_network'",
     "output_type": "error",
     "traceback": [
      "\u001b[0;31m---------------------------------------------------------------------------\u001b[0m",
      "\u001b[0;31mAttributeError\u001b[0m                            Traceback (most recent call last)",
      "\u001b[0;32m<ipython-input-7-c5d4c308ddc8>\u001b[0m in \u001b[0;36m<module>\u001b[0;34m()\u001b[0m\n\u001b[0;32m----> 1\u001b[0;31m \u001b[0mHNSC_AUPRC\u001b[0m \u001b[0;34m=\u001b[0m \u001b[0mnef\u001b[0m\u001b[0;34m.\u001b[0m\u001b[0mAUPRC_Analysis\u001b[0m\u001b[0;34m(\u001b[0m\u001b[0mnetwork_path\u001b[0m\u001b[0;34m,\u001b[0m \u001b[0mnode_set_path\u001b[0m\u001b[0;34m,\u001b[0m \u001b[0;36m0.1\u001b[0m\u001b[0;34m,\u001b[0m \u001b[0;36m30\u001b[0m\u001b[0;34m,\u001b[0m \u001b[0mcores\u001b[0m\u001b[0;34m=\u001b[0m\u001b[0;36m2\u001b[0m\u001b[0;34m)\u001b[0m\u001b[0;34m\u001b[0m\u001b[0m\n\u001b[0m",
      "\u001b[0;32m/Users/JustinHuang1/anaconda/lib/python2.7/site-packages/network_evaluation_tools-0.0.1-py2.7.egg/network_evaluation_tools/network_evaluation_functions.pyc\u001b[0m in \u001b[0;36mAUPRC_Analysis\u001b[0;34m(network_file, node_set_file, sample_p, AUPRC_iterations, cores, save_results, outdir)\u001b[0m\n\u001b[1;32m     98\u001b[0m \u001b[0;32mdef\u001b[0m \u001b[0mAUPRC_Analysis\u001b[0m\u001b[0;34m(\u001b[0m\u001b[0mnetwork_file\u001b[0m\u001b[0;34m,\u001b[0m \u001b[0mnode_set_file\u001b[0m\u001b[0;34m,\u001b[0m \u001b[0msample_p\u001b[0m\u001b[0;34m,\u001b[0m \u001b[0mAUPRC_iterations\u001b[0m\u001b[0;34m,\u001b[0m \u001b[0mcores\u001b[0m\u001b[0;34m=\u001b[0m\u001b[0;36m1\u001b[0m\u001b[0;34m,\u001b[0m \u001b[0msave_results\u001b[0m\u001b[0;34m=\u001b[0m\u001b[0mFalse\u001b[0m\u001b[0;34m,\u001b[0m \u001b[0moutdir\u001b[0m\u001b[0;34m=\u001b[0m\u001b[0mNone\u001b[0m\u001b[0;34m)\u001b[0m\u001b[0;34m:\u001b[0m\u001b[0;34m\u001b[0m\u001b[0m\n\u001b[1;32m     99\u001b[0m         \u001b[0;31m# Load network\u001b[0m\u001b[0;34m\u001b[0m\u001b[0;34m\u001b[0m\u001b[0m\n\u001b[0;32m--> 100\u001b[0;31m         \u001b[0mnetwork\u001b[0m \u001b[0;34m=\u001b[0m \u001b[0mprop\u001b[0m\u001b[0;34m.\u001b[0m\u001b[0mload_network\u001b[0m\u001b[0;34m(\u001b[0m\u001b[0mnetwork_file\u001b[0m\u001b[0;34m,\u001b[0m \u001b[0mdelimiter\u001b[0m\u001b[0;34m=\u001b[0m\u001b[0;34m'\\t'\u001b[0m\u001b[0;34m)\u001b[0m\u001b[0;34m\u001b[0m\u001b[0m\n\u001b[0m\u001b[1;32m    101\u001b[0m         \u001b[0;31m# Load node set\u001b[0m\u001b[0;34m\u001b[0m\u001b[0;34m\u001b[0m\u001b[0m\n\u001b[1;32m    102\u001b[0m         \u001b[0mnode_sets\u001b[0m \u001b[0;34m=\u001b[0m \u001b[0mload_node_sets\u001b[0m\u001b[0;34m(\u001b[0m\u001b[0mnode_set_file\u001b[0m\u001b[0;34m)\u001b[0m\u001b[0;34m\u001b[0m\u001b[0m\n",
      "\u001b[0;31mAttributeError\u001b[0m: 'module' object has no attribute 'load_network'"
     ]
    }
   ],
   "source": [
    "HNSC_AUPRC = nef.AUPRC_Analysis(network_path, node_set_path, 0.1, 30, cores=2)"
   ]
  },
  {
   "cell_type": "code",
   "execution_count": null,
   "metadata": {
    "collapsed": true
   },
   "outputs": [],
   "source": []
  }
 ],
 "metadata": {
  "kernelspec": {
   "display_name": "Python 2",
   "language": "python",
   "name": "python2"
  },
  "language_info": {
   "codemirror_mode": {
    "name": "ipython",
    "version": 2
   },
   "file_extension": ".py",
   "mimetype": "text/x-python",
   "name": "python",
   "nbconvert_exporter": "python",
   "pygments_lexer": "ipython2",
   "version": "2.7.12"
  }
 },
 "nbformat": 4,
 "nbformat_minor": 1
}
