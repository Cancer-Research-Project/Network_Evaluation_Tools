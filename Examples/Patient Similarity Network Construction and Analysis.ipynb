{
 "cells": [
  {
   "cell_type": "code",
   "execution_count": 1,
   "metadata": {
    "collapsed": true
   },
   "outputs": [],
   "source": [
    "from network_evaluation_tools import patient_similarity_network as psn"
   ]
  },
  {
   "cell_type": "code",
   "execution_count": 2,
   "metadata": {
    "collapsed": true
   },
   "outputs": [],
   "source": [
    "data_dir = '/Volumes/Macintosh HD/Users/JustinHuang1/Documents/Ideker_Lab/Network_Analysis_Data/'\n",
    "network_path = data_dir+'iRefIndex_Symbol.sif'\n",
    "maf_path = data_dir+'HNSC-TP.maf.annotated'"
   ]
  },
  {
   "cell_type": "code",
   "execution_count": 3,
   "metadata": {
    "collapsed": false
   },
   "outputs": [
    {
     "name": "stdout",
     "output_type": "stream",
     "text": [
      "Composite Network loaded: /Volumes/Macintosh HD/Users/JustinHuang1/Documents/Ideker_Lab/Network_Analysis_Data/iRefIndex_Symbol.sif\n",
      "Loading Data...\n",
      "TCGA somatic mutation data loaded: 12.2402760983 seconds. 511 patients, 16524 genes\n",
      "---------- Constructing Patient Similarity Network ----------\n",
      "Alpha: 0.551\n",
      "Number of subgraphs: 19\n",
      "Closed Propagation: 189.36539793 seconds\n"
     ]
    },
    {
     "ename": "NameError",
     "evalue": "global name 'pd' is not defined",
     "output_type": "error",
     "traceback": [
      "\u001b[0;31m---------------------------------------------------------------------------\u001b[0m",
      "\u001b[0;31mNameError\u001b[0m                                 Traceback (most recent call last)",
      "\u001b[0;32m<ipython-input-3-46db42e0add8>\u001b[0m in \u001b[0;36m<module>\u001b[0;34m()\u001b[0m\n\u001b[0;32m----> 1\u001b[0;31m \u001b[0mPSN\u001b[0m \u001b[0;34m=\u001b[0m \u001b[0mpsn\u001b[0m\u001b[0;34m.\u001b[0m\u001b[0mPSN_Constructor\u001b[0m\u001b[0;34m(\u001b[0m\u001b[0mnetwork_path\u001b[0m\u001b[0;34m,\u001b[0m \u001b[0mmaf_path\u001b[0m\u001b[0;34m,\u001b[0m \u001b[0mdata_dir\u001b[0m\u001b[0;34m)\u001b[0m\u001b[0;34m\u001b[0m\u001b[0m\n\u001b[0m",
      "\u001b[0;32m/Users/JustinHuang1/anaconda/lib/python2.7/site-packages/network_evaluation_tools-0.0.1-py2.7.egg/network_evaluation_tools/patient_similarity_network.pyc\u001b[0m in \u001b[0;36mPSN_Constructor\u001b[0;34m(network_path, MAF_path, outdir, delimiter, min_mut, save_similarity)\u001b[0m\n\u001b[1;32m    142\u001b[0m         \u001b[0;32mprint\u001b[0m \u001b[0;34m'---------- Constructing Patient Similarity Network ----------'\u001b[0m\u001b[0;34m\u001b[0m\u001b[0m\n\u001b[1;32m    143\u001b[0m         \u001b[0;31m# Propagate somatic mutation data\u001b[0m\u001b[0;34m\u001b[0m\u001b[0;34m\u001b[0m\u001b[0m\n\u001b[0;32m--> 144\u001b[0;31m         \u001b[0mprop_data\u001b[0m \u001b[0;34m=\u001b[0m \u001b[0mprop\u001b[0m\u001b[0;34m.\u001b[0m\u001b[0mclosed_form_network_propagation\u001b[0m\u001b[0;34m(\u001b[0m\u001b[0mnetwork\u001b[0m\u001b[0;34m,\u001b[0m \u001b[0msm_mat_filt\u001b[0m\u001b[0;34m)\u001b[0m\u001b[0;34m\u001b[0m\u001b[0m\n\u001b[0m\u001b[1;32m    145\u001b[0m         \u001b[0;31m# Mean center data\u001b[0m\u001b[0;34m\u001b[0m\u001b[0;34m\u001b[0m\u001b[0m\n\u001b[1;32m    146\u001b[0m         \u001b[0mprop_centered\u001b[0m \u001b[0;34m=\u001b[0m \u001b[0mmean_center_data\u001b[0m\u001b[0;34m(\u001b[0m\u001b[0mprop_data\u001b[0m\u001b[0;34m)\u001b[0m\u001b[0;34m\u001b[0m\u001b[0m\n",
      "\u001b[0;32m/Users/JustinHuang1/anaconda/lib/python2.7/site-packages/network_evaluation_tools-0.0.1-py2.7.egg/network_evaluation_tools/network_propagation.pyc\u001b[0m in \u001b[0;36mclosed_form_network_propagation\u001b[0;34m(network, binary_node_sets_matrix)\u001b[0m\n\u001b[1;32m     68\u001b[0m         \u001b[0;32mprint\u001b[0m \u001b[0;34m'Closed Propagation:'\u001b[0m\u001b[0;34m,\u001b[0m \u001b[0mtime\u001b[0m\u001b[0;34m.\u001b[0m\u001b[0mtime\u001b[0m\u001b[0;34m(\u001b[0m\u001b[0;34m)\u001b[0m\u001b[0;34m-\u001b[0m\u001b[0mstarttime\u001b[0m\u001b[0;34m,\u001b[0m \u001b[0;34m'seconds'\u001b[0m\u001b[0;34m\u001b[0m\u001b[0m\n\u001b[1;32m     69\u001b[0m         \u001b[0;31m# Return propagated result as dataframe\u001b[0m\u001b[0;34m\u001b[0m\u001b[0;34m\u001b[0m\u001b[0m\n\u001b[0;32m---> 70\u001b[0;31m         \u001b[0mprop_data_df\u001b[0m \u001b[0;34m=\u001b[0m \u001b[0mpd\u001b[0m\u001b[0;34m.\u001b[0m\u001b[0mDataFrame\u001b[0m\u001b[0;34m(\u001b[0m\u001b[0mdata\u001b[0m\u001b[0;34m=\u001b[0m\u001b[0mprop_data\u001b[0m\u001b[0;34m,\u001b[0m \u001b[0mindex\u001b[0m \u001b[0;34m=\u001b[0m \u001b[0mbinary_node_sets_matrix\u001b[0m\u001b[0;34m.\u001b[0m\u001b[0mindex\u001b[0m\u001b[0;34m,\u001b[0m \u001b[0mcolumns\u001b[0m\u001b[0;34m=\u001b[0m\u001b[0mprop_data_node_order\u001b[0m\u001b[0;34m)\u001b[0m\u001b[0;34m\u001b[0m\u001b[0m\n\u001b[0m\u001b[1;32m     71\u001b[0m         \u001b[0;32mreturn\u001b[0m \u001b[0mprop_data_df\u001b[0m\u001b[0;34m\u001b[0m\u001b[0m\n\u001b[1;32m     72\u001b[0m \u001b[0;34m\u001b[0m\u001b[0m\n",
      "\u001b[0;31mNameError\u001b[0m: global name 'pd' is not defined"
     ]
    }
   ],
   "source": [
    "PSN = psn.PSN_Constructor(network_path, maf_path, data_dir)"
   ]
  },
  {
   "cell_type": "code",
   "execution_count": null,
   "metadata": {
    "collapsed": true
   },
   "outputs": [],
   "source": []
  }
 ],
 "metadata": {
  "kernelspec": {
   "display_name": "Python 2",
   "language": "python",
   "name": "python2"
  },
  "language_info": {
   "codemirror_mode": {
    "name": "ipython",
    "version": 2
   },
   "file_extension": ".py",
   "mimetype": "text/x-python",
   "name": "python",
   "nbconvert_exporter": "python",
   "pygments_lexer": "ipython2",
   "version": "2.7.12"
  }
 },
 "nbformat": 4,
 "nbformat_minor": 1
}
