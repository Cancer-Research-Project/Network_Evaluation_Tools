{
 "cells": [
  {
   "cell_type": "code",
   "execution_count": 1,
   "metadata": {
    "collapsed": true
   },
   "outputs": [],
   "source": [
    "from network_evaluation_tools import patient_similarity_network as psn"
   ]
  },
  {
   "cell_type": "code",
   "execution_count": 2,
   "metadata": {
    "collapsed": true
   },
   "outputs": [],
   "source": [
    "network_path = '/cellar/users/jkhuang/Data/Projects/Network_Analysis/Data/Network_SIFs_Symbol/iRefIndex_Symbol.sif'\n",
    "maf_path = '/cellar/users/jkhuang/Data/TCGA/TCGA_Firehose.Mutation_Calls.2016_01_28/gdac.broadinstitute.org_BRCA-TP.Mutation_Assessor.Level_4.2016012800.0.0/BRCA-TP.maf.annotated'\n",
    "node_set_path = '/cellar/users/jkhuang/Data/Projects/Network_Analysis/Data/BRCA_subtypes.txt'"
   ]
  },
  {
   "cell_type": "code",
   "execution_count": 3,
   "metadata": {
    "collapsed": true
   },
   "outputs": [],
   "source": [
    "outdir = '/cellar/users/jkhuang/Data/Projects/Network_Analysis/Network_Evaluation_Tools/test_results/'"
   ]
  },
  {
   "cell_type": "code",
   "execution_count": 4,
   "metadata": {
    "collapsed": false
   },
   "outputs": [],
   "source": [
    "# PSN = psn.PSN_Constructor(network_path, maf_path, outdir)"
   ]
  },
  {
   "cell_type": "code",
   "execution_count": 5,
   "metadata": {
    "collapsed": true
   },
   "outputs": [],
   "source": [
    "from network_evaluation_tools import network_evaluation_functions as nef"
   ]
  },
  {
   "cell_type": "code",
   "execution_count": 6,
   "metadata": {
    "collapsed": false
   },
   "outputs": [
    {
     "name": "stdout",
     "output_type": "stream",
     "text": [
      "Alpha: 0.621\n",
      "Number of subgraphs: 1\n",
      "Closed Propagation: 0.570513010025 seconds\n",
      "AUPRC Analysis for given node set (121 nodes in network) complete: 1.45 seconds.\n",
      "AUPRC Analysis for given node set (225 nodes in network) complete: 2.47 seconds.\n",
      "AUPRC Analysis for given node set (95 nodes in network) complete: 1.12 seconds.\n",
      "AUPRC Analysis for given node set (56 nodes in network) complete: 0.74 seconds.\n"
     ]
    }
   ],
   "source": [
    "BRCA_AUPRC = nef.AUPRC_Analysis(outdir+'Patient_Similarity_Network.txt', node_set_path, 0.1, 30, cores=2, save_results=True, outdir=outdir)"
   ]
  },
  {
   "cell_type": "code",
   "execution_count": 14,
   "metadata": {
    "collapsed": false
   },
   "outputs": [
    {
     "name": "stdout",
     "output_type": "stream",
     "text": [
      "Network shuffled: 0.11133980751 seconds. Edge similarity: 0.119518486672\n",
      "Alpha: 0.621\n",
      "Number of subgraphs: 1\n",
      "Closed Propagation: 0.186108112335 seconds\n",
      "AUPRC Analysis for given node set (121 nodes in network) complete: 1.4 seconds.\n",
      "AUPRC Analysis for given node set (225 nodes in network) complete: 2.41 seconds.\n",
      "AUPRC Analysis for given node set (95 nodes in network) complete: 1.05 seconds.\n",
      "AUPRC Analysis for given node set (56 nodes in network) complete: 0.68 seconds.\n",
      "Network shuffled: 0.0995230674744 seconds. Edge similarity: 0.113212955001\n",
      "Alpha: 0.621\n",
      "Number of subgraphs: 1\n",
      "Closed Propagation: 0.243032932281 seconds\n",
      "AUPRC Analysis for given node set (121 nodes in network) complete: 1.4 seconds.\n",
      "AUPRC Analysis for given node set (95 nodes in network) complete: 1.08 seconds.\n",
      "AUPRC Analysis for given node set (225 nodes in network) complete: 2.51 seconds.\n",
      "AUPRC Analysis for given node set (56 nodes in network) complete: 0.69 seconds.\n",
      "Network shuffled: 0.116159915924 seconds. Edge similarity: 0.121238177128\n",
      "Alpha: 0.621\n",
      "Number of subgraphs: 1\n",
      "Closed Propagation: 0.19330406189 seconds\n",
      "AUPRC Analysis for given node set (121 nodes in network) complete: 2.26 seconds.\n",
      "AUPRC Analysis for given node set (225 nodes in network) complete: 4.01 seconds.\n",
      "AUPRC Analysis for given node set (95 nodes in network) complete: 1.85 seconds.\n",
      "AUPRC Analysis for given node set (56 nodes in network) complete: 0.72 seconds.\n",
      "Network shuffled: 0.0861501693726 seconds. Edge similarity: 0.116938950989\n",
      "Alpha: 0.621\n",
      "Number of subgraphs: 1\n",
      "Closed Propagation: 0.193516969681 seconds\n",
      "AUPRC Analysis for given node set (121 nodes in network) complete: 1.43 seconds.\n",
      "AUPRC Analysis for given node set (225 nodes in network) complete: 2.41 seconds.\n",
      "AUPRC Analysis for given node set (95 nodes in network) complete: 1.06 seconds.\n",
      "AUPRC Analysis for given node set (56 nodes in network) complete: 0.68 seconds.\n",
      "Network shuffled: 0.0992209911346 seconds. Edge similarity: 0.110920034394\n",
      "Alpha: 0.621\n",
      "Number of subgraphs: 1\n",
      "Closed Propagation: 0.184875011444 seconds\n",
      "AUPRC Analysis for given node set (121 nodes in network) complete: 1.43 seconds.\n",
      "AUPRC Analysis for given node set (225 nodes in network) complete: 2.39 seconds.\n",
      "AUPRC Analysis for given node set (95 nodes in network) complete: 1.07 seconds.\n",
      "AUPRC Analysis for given node set (56 nodes in network) complete: 0.68 seconds.\n",
      "Network shuffled: 0.102070808411 seconds. Edge similarity: 0.118658641445\n",
      "Alpha: 0.621\n",
      "Number of subgraphs: 1\n",
      "Closed Propagation: 0.159152984619 seconds\n",
      "AUPRC Analysis for given node set (121 nodes in network) complete: 1.4 seconds.\n",
      "AUPRC Analysis for given node set (225 nodes in network) complete: 2.4 seconds.\n",
      "AUPRC Analysis for given node set (95 nodes in network) complete: 1.06 seconds.\n",
      "AUPRC Analysis for given node set (56 nodes in network) complete: 0.69 seconds.\n",
      "Network shuffled: 0.163133859634 seconds. Edge similarity: 0.127257093723\n",
      "Alpha: 0.621\n",
      "Number of subgraphs: 1\n",
      "Closed Propagation: 0.179867982864 seconds\n",
      "AUPRC Analysis for given node set (121 nodes in network) complete: 2.23 seconds.\n",
      "AUPRC Analysis for given node set (225 nodes in network) complete: 4.01 seconds.\n",
      "AUPRC Analysis for given node set (95 nodes in network) complete: 1.85 seconds.\n",
      "AUPRC Analysis for given node set (56 nodes in network) complete: 0.74 seconds.\n",
      "Network shuffled: 0.0881390571594 seconds. Edge similarity: 0.115219260533\n",
      "Alpha: 0.621\n",
      "Number of subgraphs: 1\n",
      "Closed Propagation: 0.154913902283 seconds\n",
      "AUPRC Analysis for given node set (121 nodes in network) complete: 1.37 seconds.\n",
      "AUPRC Analysis for given node set (95 nodes in network) complete: 1.07 seconds.\n",
      "AUPRC Analysis for given node set (225 nodes in network) complete: 2.46 seconds.\n",
      "AUPRC Analysis for given node set (56 nodes in network) complete: 0.71 seconds.\n",
      "Network shuffled: 0.114418983459 seconds. Edge similarity: 0.113499570077\n",
      "Alpha: 0.621\n",
      "Number of subgraphs: 1\n",
      "Closed Propagation: 0.176847934723 seconds\n",
      "AUPRC Analysis for given node set (121 nodes in network) complete: 1.41 seconds.\n",
      "AUPRC Analysis for given node set (225 nodes in network) complete: 2.4 seconds.\n",
      "AUPRC Analysis for given node set (95 nodes in network) complete: 1.07 seconds.\n",
      "AUPRC Analysis for given node set (56 nodes in network) complete: 0.68 seconds.\n",
      "Network shuffled: 0.111148834229 seconds. Edge similarity: 0.11120664947\n",
      "Alpha: 0.621\n",
      "Number of subgraphs: 1\n",
      "Closed Propagation: 0.17998290062 seconds\n",
      "AUPRC Analysis for given node set (121 nodes in network) complete: 1.44 seconds.\n",
      "AUPRC Analysis for given node set (225 nodes in network) complete: 2.44 seconds.\n",
      "AUPRC Analysis for given node set (95 nodes in network) complete: 1.09 seconds.\n",
      "AUPRC Analysis for given node set (56 nodes in network) complete: 0.72 seconds.\n"
     ]
    }
   ],
   "source": [
    "BRCA_null_AUPRC = nef.null_AUPRC_Analysis(outdir+'Patient_Similarity_Network.txt', node_set_path, 0.1, 30, 10, cores=2, save_results=True, outdir=outdir)"
   ]
  },
  {
   "cell_type": "code",
   "execution_count": 17,
   "metadata": {
    "collapsed": false
   },
   "outputs": [],
   "source": [
    "actual_net_AUPRCs = outdir+'AUPRC_results.csv'\n",
    "shuff_net_AUPRCs = outdir+'null_AUPRC_results.csv'\n",
    "BRCA_AUPRC_znorm = nef.AUPRC_Analysis_with_ZNorm(actual_net_AUPRCs, shuff_net_AUPRCs, save_results=True, outdir=outdir)"
   ]
  },
  {
   "cell_type": "code",
   "execution_count": null,
   "metadata": {
    "collapsed": true
   },
   "outputs": [],
   "source": []
  }
 ],
 "metadata": {
  "kernelspec": {
   "display_name": "Python 2",
   "language": "python",
   "name": "python2"
  },
  "language_info": {
   "codemirror_mode": {
    "name": "ipython",
    "version": 2
   },
   "file_extension": ".py",
   "mimetype": "text/x-python",
   "name": "python",
   "nbconvert_exporter": "python",
   "pygments_lexer": "ipython2",
   "version": "2.7.11"
  }
 },
 "nbformat": 4,
 "nbformat_minor": 1
}
