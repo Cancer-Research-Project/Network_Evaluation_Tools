{
 "cells": [
  {
   "cell_type": "code",
   "execution_count": 1,
   "metadata": {
    "collapsed": true
   },
   "outputs": [],
   "source": [
    "from network_evaluation_tools import patient_similarity_network as psn"
   ]
  },
  {
   "cell_type": "code",
   "execution_count": 2,
   "metadata": {
    "collapsed": true
   },
   "outputs": [],
   "source": [
    "network_path = '/cellar/users/jkhuang/Data/Projects/Network_Analysis/Data/Network_SIFs_Symbol/iRefIndex_Symbol.sif'\n",
    "maf_path = '/cellar/users/jkhuang/Data/TCGA/TCGA_Firehose.Mutation_Calls.2016_01_28/gdac.broadinstitute.org_BRCA-TP.Mutation_Assessor.Level_4.2016012800.0.0/BRCA-TP.maf.annotated'\n",
    "node_set_path = '/cellar/users/jkhuang/Data/Projects/Network_Analysis/Data/BRCA_subtypes.txt'"
   ]
  },
  {
   "cell_type": "code",
   "execution_count": 3,
   "metadata": {
    "collapsed": true
   },
   "outputs": [],
   "source": [
    "outdir = '/cellar/users/jkhuang/Data/Projects/Network_Analysis/Network_Evaluation_Tools/test_results/'"
   ]
  },
  {
   "cell_type": "code",
   "execution_count": 4,
   "metadata": {
    "collapsed": false
   },
   "outputs": [],
   "source": [
    "# PSN = psn.PSN_Constructor(network_path, maf_path, outdir)"
   ]
  },
  {
   "cell_type": "code",
   "execution_count": 5,
   "metadata": {
    "collapsed": true
   },
   "outputs": [],
   "source": [
    "from network_evaluation_tools import network_evaluation_functions as nef"
   ]
  },
  {
   "cell_type": "code",
   "execution_count": 6,
   "metadata": {
    "collapsed": false
   },
   "outputs": [
    {
     "name": "stdout",
     "output_type": "stream",
     "text": [
      "Alpha: 0.621\n",
      "Number of subgraphs: 1\n",
      "Closed Propagation: 0.840594053268 seconds\n",
      "AUPRC Analysis for given node set (121 nodes in network) complete: 1.33 seconds.\n",
      "AUPRC Analysis for given node set (225 nodes in network) complete: 2.34 seconds.\n",
      "AUPRC Analysis for given node set (95 nodes in network) complete: 1.05 seconds.\n",
      "AUPRC Analysis for given node set (56 nodes in network) complete: 0.68 seconds.\n"
     ]
    }
   ],
   "source": [
    "BRCA_AUPRC = nef.AUPRC_Analysis(outdir+'Patient_Similarity_Network.txt', node_set_path, 0.1, 30, cores=2, save_results=True, outdir=outdir)"
   ]
  },
  {
   "cell_type": "code",
   "execution_count": 7,
   "metadata": {
    "collapsed": false
   },
   "outputs": [
    {
     "name": "stdout",
     "output_type": "stream",
     "text": [
      "Network shuffled: 0.0907387733459 seconds. Edge similarity: 0.114072800229\n",
      "Alpha: 0.621\n",
      "Number of subgraphs: 1\n",
      "Closed Propagation: 0.174033880234 seconds\n",
      "AUPRC Analysis for given node set (121 nodes in network) complete: 1.35 seconds.\n",
      "AUPRC Analysis for given node set (225 nodes in network) complete: 2.41 seconds.\n",
      "AUPRC Analysis for given node set (95 nodes in network) complete: 1.07 seconds.\n",
      "AUPRC Analysis for given node set (56 nodes in network) complete: 0.68 seconds.\n",
      "Network shuffled: 0.0906147956848 seconds. Edge similarity: 0.113786185153\n",
      "Alpha: 0.621\n",
      "Number of subgraphs: 1\n",
      "Closed Propagation: 0.177429914474 seconds\n",
      "AUPRC Analysis for given node set (121 nodes in network) complete: 1.36 seconds.\n",
      "AUPRC Analysis for given node set (225 nodes in network) complete: 2.35 seconds.\n",
      "AUPRC Analysis for given node set (95 nodes in network) complete: 1.06 seconds.\n",
      "AUPRC Analysis for given node set (56 nodes in network) complete: 0.68 seconds.\n",
      "Network shuffled: 0.134309053421 seconds. Edge similarity: 0.114932645457\n",
      "Alpha: 0.621\n",
      "Number of subgraphs: 1\n",
      "Closed Propagation: 0.179646968842 seconds\n",
      "AUPRC Analysis for given node set (121 nodes in network) complete: 2.05 seconds.\n",
      "AUPRC Analysis for given node set (225 nodes in network) complete: 3.04 seconds.\n",
      "AUPRC Analysis for given node set (95 nodes in network) complete: 1.06 seconds.\n",
      "AUPRC Analysis for given node set (56 nodes in network) complete: 0.68 seconds.\n",
      "Network shuffled: 0.116017103195 seconds. Edge similarity: 0.112353109774\n",
      "Alpha: 0.621\n",
      "Number of subgraphs: 1\n",
      "Closed Propagation: 0.186146974564 seconds\n",
      "AUPRC Analysis for given node set (121 nodes in network) complete: 1.48 seconds.\n",
      "AUPRC Analysis for given node set (225 nodes in network) complete: 2.47 seconds.\n",
      "AUPRC Analysis for given node set (95 nodes in network) complete: 1.06 seconds.\n",
      "AUPRC Analysis for given node set (56 nodes in network) complete: 0.68 seconds.\n",
      "Network shuffled: 0.0919210910797 seconds. Edge similarity: 0.117798796217\n",
      "Alpha: 0.621\n",
      "Number of subgraphs: 1\n",
      "Closed Propagation: 0.172739028931 seconds\n",
      "AUPRC Analysis for given node set (121 nodes in network) complete: 1.42 seconds.\n",
      "AUPRC Analysis for given node set (225 nodes in network) complete: 2.37 seconds.\n",
      "AUPRC Analysis for given node set (95 nodes in network) complete: 1.06 seconds.\n",
      "AUPRC Analysis for given node set (56 nodes in network) complete: 0.69 seconds.\n"
     ]
    }
   ],
   "source": [
    "BRCA_null_AUPRC = nef.null_AUPRC_Analysis(outdir+'Patient_Similarity_Network.txt', node_set_path, 0.1, 30, 5, cores=2, save_results=True, outdir=outdir)"
   ]
  },
  {
   "cell_type": "code",
   "execution_count": 16,
   "metadata": {
    "collapsed": false
   },
   "outputs": [],
   "source": [
    "actual_net_AUPRCs = outdir+'AUPRC_results.csv'\n",
    "shuff_net_AUPRCs = outdir+'null_AUPRC_results.csv'\n",
    "BRCA_AUPRC_znorm = nef.AUPRC_Analysis_with_ZNorm(actual_net_AUPRCs, shuff_net_AUPRCs)"
   ]
  },
  {
   "cell_type": "code",
   "execution_count": 41,
   "metadata": {
    "collapsed": false
   },
   "outputs": [
    {
     "ename": "ValueError",
     "evalue": "cannot copy sequence with size 9 to array axis with dimension 4",
     "output_type": "error",
     "traceback": [
      "\u001b[1;31m---------------------------------------------------------------------------\u001b[0m",
      "\u001b[1;31mValueError\u001b[0m                                Traceback (most recent call last)",
      "\u001b[1;32m<ipython-input-41-452232209803>\u001b[0m in \u001b[0;36m<module>\u001b[1;34m()\u001b[0m\n\u001b[1;32m----> 1\u001b[1;33m \u001b[0mpd\u001b[0m\u001b[1;33m.\u001b[0m\u001b[0mDataFrame\u001b[0m\u001b[1;33m(\u001b[0m\u001b[0mpd\u001b[0m\u001b[1;33m.\u001b[0m\u001b[0mSeries\u001b[0m\u001b[1;33m(\u001b[0m\u001b[0mBRCA_AUPRC\u001b[0m\u001b[1;33m)\u001b[0m\u001b[1;33m)\u001b[0m\u001b[1;33m[\u001b[0m\u001b[1;36m0\u001b[0m\u001b[1;33m]\u001b[0m\u001b[1;33m.\u001b[0m\u001b[0msubtract\u001b[0m\u001b[1;33m(\u001b[0m\u001b[0mBRCA_null_AUPRC\u001b[0m\u001b[1;33m,\u001b[0m \u001b[0maxis\u001b[0m\u001b[1;33m=\u001b[0m\u001b[1;36m0\u001b[0m\u001b[1;33m)\u001b[0m\u001b[1;33m\u001b[0m\u001b[0m\n\u001b[0m",
      "\u001b[1;32m/cellar/users/jkhuang/anaconda/lib/python2.7/site-packages/pandas/core/ops.pyc\u001b[0m in \u001b[0;36mflex_wrapper\u001b[1;34m(self, other, level, fill_value, axis)\u001b[0m\n\u001b[0;32m   1054\u001b[0m \u001b[1;33m\u001b[0m\u001b[0m\n\u001b[0;32m   1055\u001b[0m             return self._constructor(op(self, other),\n\u001b[1;32m-> 1056\u001b[1;33m                                      self.index).__finalize__(self)\n\u001b[0m\u001b[0;32m   1057\u001b[0m \u001b[1;33m\u001b[0m\u001b[0m\n\u001b[0;32m   1058\u001b[0m     \u001b[0mflex_wrapper\u001b[0m\u001b[1;33m.\u001b[0m\u001b[0m__name__\u001b[0m \u001b[1;33m=\u001b[0m \u001b[0mname\u001b[0m\u001b[1;33m\u001b[0m\u001b[0m\n",
      "\u001b[1;32m/cellar/users/jkhuang/anaconda/lib/python2.7/site-packages/pandas/core/series.pyc\u001b[0m in \u001b[0;36m__init__\u001b[1;34m(self, data, index, dtype, name, copy, fastpath)\u001b[0m\n\u001b[0;32m    241\u001b[0m             \u001b[1;32melse\u001b[0m\u001b[1;33m:\u001b[0m\u001b[1;33m\u001b[0m\u001b[0m\n\u001b[0;32m    242\u001b[0m                 data = _sanitize_array(data, index, dtype, copy,\n\u001b[1;32m--> 243\u001b[1;33m                                        raise_cast_failure=True)\n\u001b[0m\u001b[0;32m    244\u001b[0m \u001b[1;33m\u001b[0m\u001b[0m\n\u001b[0;32m    245\u001b[0m                 \u001b[0mdata\u001b[0m \u001b[1;33m=\u001b[0m \u001b[0mSingleBlockManager\u001b[0m\u001b[1;33m(\u001b[0m\u001b[0mdata\u001b[0m\u001b[1;33m,\u001b[0m \u001b[0mindex\u001b[0m\u001b[1;33m,\u001b[0m \u001b[0mfastpath\u001b[0m\u001b[1;33m=\u001b[0m\u001b[0mTrue\u001b[0m\u001b[1;33m)\u001b[0m\u001b[1;33m\u001b[0m\u001b[0m\n",
      "\u001b[1;32m/cellar/users/jkhuang/anaconda/lib/python2.7/site-packages/pandas/core/series.pyc\u001b[0m in \u001b[0;36m_sanitize_array\u001b[1;34m(data, index, dtype, copy, raise_cast_failure)\u001b[0m\n\u001b[0;32m   2950\u001b[0m             \u001b[1;32mraise\u001b[0m \u001b[0mException\u001b[0m\u001b[1;33m(\u001b[0m\u001b[1;34m'Data must be 1-dimensional'\u001b[0m\u001b[1;33m)\u001b[0m\u001b[1;33m\u001b[0m\u001b[0m\n\u001b[0;32m   2951\u001b[0m         \u001b[1;32melse\u001b[0m\u001b[1;33m:\u001b[0m\u001b[1;33m\u001b[0m\u001b[0m\n\u001b[1;32m-> 2952\u001b[1;33m             \u001b[0msubarr\u001b[0m \u001b[1;33m=\u001b[0m \u001b[0m_asarray_tuplesafe\u001b[0m\u001b[1;33m(\u001b[0m\u001b[0mdata\u001b[0m\u001b[1;33m,\u001b[0m \u001b[0mdtype\u001b[0m\u001b[1;33m=\u001b[0m\u001b[0mdtype\u001b[0m\u001b[1;33m)\u001b[0m\u001b[1;33m\u001b[0m\u001b[0m\n\u001b[0m\u001b[0;32m   2953\u001b[0m \u001b[1;33m\u001b[0m\u001b[0m\n\u001b[0;32m   2954\u001b[0m     \u001b[1;31m# This is to prevent mixed-type Series getting all casted to\u001b[0m\u001b[1;33m\u001b[0m\u001b[1;33m\u001b[0m\u001b[0m\n",
      "\u001b[1;32m/cellar/users/jkhuang/anaconda/lib/python2.7/site-packages/pandas/core/common.pyc\u001b[0m in \u001b[0;36m_asarray_tuplesafe\u001b[1;34m(values, dtype)\u001b[0m\n\u001b[0;32m    390\u001b[0m             \u001b[1;32mexcept\u001b[0m \u001b[0mValueError\u001b[0m\u001b[1;33m:\u001b[0m\u001b[1;33m\u001b[0m\u001b[0m\n\u001b[0;32m    391\u001b[0m                 \u001b[1;31m# we have a list-of-list\u001b[0m\u001b[1;33m\u001b[0m\u001b[1;33m\u001b[0m\u001b[0m\n\u001b[1;32m--> 392\u001b[1;33m                 \u001b[0mresult\u001b[0m\u001b[1;33m[\u001b[0m\u001b[1;33m:\u001b[0m\u001b[1;33m]\u001b[0m \u001b[1;33m=\u001b[0m \u001b[1;33m[\u001b[0m\u001b[0mtuple\u001b[0m\u001b[1;33m(\u001b[0m\u001b[0mx\u001b[0m\u001b[1;33m)\u001b[0m \u001b[1;32mfor\u001b[0m \u001b[0mx\u001b[0m \u001b[1;32min\u001b[0m \u001b[0mvalues\u001b[0m\u001b[1;33m]\u001b[0m\u001b[1;33m\u001b[0m\u001b[0m\n\u001b[0m\u001b[0;32m    393\u001b[0m \u001b[1;33m\u001b[0m\u001b[0m\n\u001b[0;32m    394\u001b[0m     \u001b[1;32mreturn\u001b[0m \u001b[0mresult\u001b[0m\u001b[1;33m\u001b[0m\u001b[0m\n",
      "\u001b[1;31mValueError\u001b[0m: cannot copy sequence with size 9 to array axis with dimension 4"
     ]
    }
   ],
   "source": [
    "pd.DataFrame(pd.Series(BRCA_AUPRC))[0].subtract(BRCA_null_AUPRC, axis=0)"
   ]
  },
  {
   "cell_type": "code",
   "execution_count": 34,
   "metadata": {
    "collapsed": false
   },
   "outputs": [
    {
     "data": {
      "text/plain": [
       "Basal-like       0.099300\n",
       "HER2-enriched    0.060843\n",
       "Luminal A        0.224558\n",
       "Luminal B        0.114711\n",
       "dtype: float64"
      ]
     },
     "execution_count": 34,
     "metadata": {},
     "output_type": "execute_result"
    }
   ],
   "source": [
    "BRCA_null_AUPRC.median(axis=1)"
   ]
  },
  {
   "cell_type": "code",
   "execution_count": 24,
   "metadata": {
    "collapsed": false
   },
   "outputs": [
    {
     "data": {
      "text/plain": [
       "Index([u'Basal-like', u'HER2-enriched', u'Luminal A', u'Luminal B'], dtype='object')"
      ]
     },
     "execution_count": 24,
     "metadata": {},
     "output_type": "execute_result"
    }
   ],
   "source": [
    "BRCA_null_AUPRC.median(axis=1).index"
   ]
  },
  {
   "cell_type": "code",
   "execution_count": 22,
   "metadata": {
    "collapsed": false
   },
   "outputs": [
    {
     "ename": "ValueError",
     "evalue": "No axis named 1 for object type <class 'pandas.core.series.Series'>",
     "output_type": "error",
     "traceback": [
      "\u001b[1;31m---------------------------------------------------------------------------\u001b[0m",
      "\u001b[1;31mValueError\u001b[0m                                Traceback (most recent call last)",
      "\u001b[1;32m<ipython-input-22-47beda626e42>\u001b[0m in \u001b[0;36m<module>\u001b[1;34m()\u001b[0m\n\u001b[1;32m----> 1\u001b[1;33m \u001b[0mpd\u001b[0m\u001b[1;33m.\u001b[0m\u001b[0mSeries\u001b[0m\u001b[1;33m(\u001b[0m\u001b[0mBRCA_AUPRC\u001b[0m\u001b[1;33m)\u001b[0m\u001b[1;33m.\u001b[0m\u001b[0mix\u001b[0m\u001b[1;33m[\u001b[0m\u001b[0mBRCA_null_AUPRC\u001b[0m\u001b[1;33m.\u001b[0m\u001b[0mmedian\u001b[0m\u001b[1;33m(\u001b[0m\u001b[0maxis\u001b[0m\u001b[1;33m=\u001b[0m\u001b[1;36m1\u001b[0m\u001b[1;33m)\u001b[0m\u001b[1;33m.\u001b[0m\u001b[0mindex\u001b[0m\u001b[1;33m]\u001b[0m\u001b[1;33m.\u001b[0m\u001b[0msubtract\u001b[0m\u001b[1;33m(\u001b[0m\u001b[0mBRCA_null_AUPRC\u001b[0m\u001b[1;33m.\u001b[0m\u001b[0mmedian\u001b[0m\u001b[1;33m(\u001b[0m\u001b[0maxis\u001b[0m\u001b[1;33m=\u001b[0m\u001b[1;36m1\u001b[0m\u001b[1;33m)\u001b[0m\u001b[1;33m,\u001b[0m \u001b[0maxis\u001b[0m\u001b[1;33m=\u001b[0m\u001b[1;36m0\u001b[0m\u001b[1;33m)\u001b[0m\u001b[1;33m.\u001b[0m\u001b[0mmedian\u001b[0m\u001b[1;33m(\u001b[0m\u001b[0maxis\u001b[0m\u001b[1;33m=\u001b[0m\u001b[1;36m1\u001b[0m\u001b[1;33m)\u001b[0m\u001b[1;33m\u001b[0m\u001b[0m\n\u001b[0m",
      "\u001b[1;32m/cellar/users/jkhuang/anaconda/lib/python2.7/site-packages/pandas/core/generic.pyc\u001b[0m in \u001b[0;36mstat_func\u001b[1;34m(self, axis, skipna, level, numeric_only, **kwargs)\u001b[0m\n\u001b[0;32m   5630\u001b[0m                                       skipna=skipna)\n\u001b[0;32m   5631\u001b[0m         return self._reduce(f, name, axis=axis, skipna=skipna,\n\u001b[1;32m-> 5632\u001b[1;33m                             numeric_only=numeric_only)\n\u001b[0m\u001b[0;32m   5633\u001b[0m \u001b[1;33m\u001b[0m\u001b[0m\n\u001b[0;32m   5634\u001b[0m     \u001b[1;32mreturn\u001b[0m \u001b[0mset_function_name\u001b[0m\u001b[1;33m(\u001b[0m\u001b[0mstat_func\u001b[0m\u001b[1;33m,\u001b[0m \u001b[0mname\u001b[0m\u001b[1;33m,\u001b[0m \u001b[0mcls\u001b[0m\u001b[1;33m)\u001b[0m\u001b[1;33m\u001b[0m\u001b[0m\n",
      "\u001b[1;32m/cellar/users/jkhuang/anaconda/lib/python2.7/site-packages/pandas/core/series.pyc\u001b[0m in \u001b[0;36m_reduce\u001b[1;34m(self, op, name, axis, skipna, numeric_only, filter_type, **kwds)\u001b[0m\n\u001b[0;32m   2313\u001b[0m         \u001b[1;32mif\u001b[0m \u001b[0misinstance\u001b[0m\u001b[1;33m(\u001b[0m\u001b[0mdelegate\u001b[0m\u001b[1;33m,\u001b[0m \u001b[0mnp\u001b[0m\u001b[1;33m.\u001b[0m\u001b[0mndarray\u001b[0m\u001b[1;33m)\u001b[0m\u001b[1;33m:\u001b[0m\u001b[1;33m\u001b[0m\u001b[0m\n\u001b[0;32m   2314\u001b[0m             \u001b[1;31m# Validate that 'axis' is consistent with Series's single axis.\u001b[0m\u001b[1;33m\u001b[0m\u001b[1;33m\u001b[0m\u001b[0m\n\u001b[1;32m-> 2315\u001b[1;33m             \u001b[0mself\u001b[0m\u001b[1;33m.\u001b[0m\u001b[0m_get_axis_number\u001b[0m\u001b[1;33m(\u001b[0m\u001b[0maxis\u001b[0m\u001b[1;33m)\u001b[0m\u001b[1;33m\u001b[0m\u001b[0m\n\u001b[0m\u001b[0;32m   2316\u001b[0m             \u001b[1;32mif\u001b[0m \u001b[0mnumeric_only\u001b[0m\u001b[1;33m:\u001b[0m\u001b[1;33m\u001b[0m\u001b[0m\n\u001b[0;32m   2317\u001b[0m                 raise NotImplementedError('Series.{0} does not implement '\n",
      "\u001b[1;32m/cellar/users/jkhuang/anaconda/lib/python2.7/site-packages/pandas/core/generic.pyc\u001b[0m in \u001b[0;36m_get_axis_number\u001b[1;34m(self, axis)\u001b[0m\n\u001b[0;32m    336\u001b[0m                 \u001b[1;32mpass\u001b[0m\u001b[1;33m\u001b[0m\u001b[0m\n\u001b[0;32m    337\u001b[0m         raise ValueError('No axis named {0} for object type {1}'\n\u001b[1;32m--> 338\u001b[1;33m                          .format(axis, type(self)))\n\u001b[0m\u001b[0;32m    339\u001b[0m \u001b[1;33m\u001b[0m\u001b[0m\n\u001b[0;32m    340\u001b[0m     \u001b[1;32mdef\u001b[0m \u001b[0m_get_axis_name\u001b[0m\u001b[1;33m(\u001b[0m\u001b[0mself\u001b[0m\u001b[1;33m,\u001b[0m \u001b[0maxis\u001b[0m\u001b[1;33m)\u001b[0m\u001b[1;33m:\u001b[0m\u001b[1;33m\u001b[0m\u001b[0m\n",
      "\u001b[1;31mValueError\u001b[0m: No axis named 1 for object type <class 'pandas.core.series.Series'>"
     ]
    }
   ],
   "source": [
    "pd.Series(BRCA_AUPRC).ix[BRCA_null_AUPRC.median(axis=1).index].subtract(BRCA_null_AUPRC.median(axis=1), axis=0).median(axis=1)"
   ]
  },
  {
   "cell_type": "code",
   "execution_count": 20,
   "metadata": {
    "collapsed": false
   },
   "outputs": [
    {
     "data": {
      "text/plain": [
       "Basal-like       0.099300\n",
       "HER2-enriched    0.060843\n",
       "Luminal A        0.224558\n",
       "Luminal B        0.114711\n",
       "dtype: float64"
      ]
     },
     "execution_count": 20,
     "metadata": {},
     "output_type": "execute_result"
    }
   ],
   "source": [
    "BRCA_null_AUPRC.median(axis=1)"
   ]
  },
  {
   "cell_type": "code",
   "execution_count": 19,
   "metadata": {
    "collapsed": false
   },
   "outputs": [
    {
     "ename": "AttributeError",
     "evalue": "'str' object has no attribute 'median'",
     "output_type": "error",
     "traceback": [
      "\u001b[1;31m---------------------------------------------------------------------------\u001b[0m",
      "\u001b[1;31mAttributeError\u001b[0m                            Traceback (most recent call last)",
      "\u001b[1;32m<ipython-input-19-bff7e74f91dd>\u001b[0m in \u001b[0;36m<module>\u001b[1;34m()\u001b[0m\n\u001b[1;32m----> 1\u001b[1;33m \u001b[0mshuff_net_AUPRCs\u001b[0m\u001b[1;33m.\u001b[0m\u001b[0mmedian\u001b[0m\u001b[1;33m(\u001b[0m\u001b[0maxis\u001b[0m\u001b[1;33m=\u001b[0m\u001b[1;36m1\u001b[0m\u001b[1;33m)\u001b[0m\u001b[1;33m\u001b[0m\u001b[0m\n\u001b[0m",
      "\u001b[1;31mAttributeError\u001b[0m: 'str' object has no attribute 'median'"
     ]
    }
   ],
   "source": [
    "shuff_net_AUPRCs.median(axis=1)"
   ]
  },
  {
   "cell_type": "code",
   "execution_count": 15,
   "metadata": {
    "collapsed": false
   },
   "outputs": [
    {
     "data": {
      "text/html": [
       "<div>\n",
       "<table border=\"1\" class=\"dataframe\">\n",
       "  <thead>\n",
       "    <tr style=\"text-align: right;\">\n",
       "      <th></th>\n",
       "      <th>null AUPRC 1</th>\n",
       "      <th>null AUPRC 2</th>\n",
       "      <th>null AUPRC 3</th>\n",
       "      <th>null AUPRC 4</th>\n",
       "      <th>null AUPRC 5</th>\n",
       "    </tr>\n",
       "  </thead>\n",
       "  <tbody>\n",
       "    <tr>\n",
       "      <th>Basal-like</th>\n",
       "      <td>0.096319</td>\n",
       "      <td>0.096185</td>\n",
       "      <td>0.110111</td>\n",
       "      <td>0.099300</td>\n",
       "      <td>0.102226</td>\n",
       "    </tr>\n",
       "    <tr>\n",
       "      <th>HER2-enriched</th>\n",
       "      <td>0.057420</td>\n",
       "      <td>0.059677</td>\n",
       "      <td>0.065013</td>\n",
       "      <td>0.065702</td>\n",
       "      <td>0.060843</td>\n",
       "    </tr>\n",
       "    <tr>\n",
       "      <th>Luminal A</th>\n",
       "      <td>0.224558</td>\n",
       "      <td>0.215070</td>\n",
       "      <td>0.219714</td>\n",
       "      <td>0.226011</td>\n",
       "      <td>0.226354</td>\n",
       "    </tr>\n",
       "    <tr>\n",
       "      <th>Luminal B</th>\n",
       "      <td>0.114711</td>\n",
       "      <td>0.114107</td>\n",
       "      <td>0.118166</td>\n",
       "      <td>0.113511</td>\n",
       "      <td>0.118332</td>\n",
       "    </tr>\n",
       "  </tbody>\n",
       "</table>\n",
       "</div>"
      ],
      "text/plain": [
       "               null AUPRC 1  null AUPRC 2  null AUPRC 3  null AUPRC 4  \\\n",
       "Basal-like         0.096319      0.096185      0.110111      0.099300   \n",
       "HER2-enriched      0.057420      0.059677      0.065013      0.065702   \n",
       "Luminal A          0.224558      0.215070      0.219714      0.226011   \n",
       "Luminal B          0.114711      0.114107      0.118166      0.113511   \n",
       "\n",
       "               null AUPRC 5  \n",
       "Basal-like         0.102226  \n",
       "HER2-enriched      0.060843  \n",
       "Luminal A          0.226354  \n",
       "Luminal B          0.118332  "
      ]
     },
     "execution_count": 15,
     "metadata": {},
     "output_type": "execute_result"
    }
   ],
   "source": [
    "pd.read_csv(actual_net_AUPRCs, index_col=0)"
   ]
  },
  {
   "cell_type": "code",
   "execution_count": null,
   "metadata": {
    "collapsed": true
   },
   "outputs": [],
   "source": []
  },
  {
   "cell_type": "code",
   "execution_count": null,
   "metadata": {
    "collapsed": true
   },
   "outputs": [],
   "source": []
  }
 ],
 "metadata": {
  "kernelspec": {
   "display_name": "Python 2",
   "language": "python",
   "name": "python2"
  },
  "language_info": {
   "codemirror_mode": {
    "name": "ipython",
    "version": 2
   },
   "file_extension": ".py",
   "mimetype": "text/x-python",
   "name": "python",
   "nbconvert_exporter": "python",
   "pygments_lexer": "ipython2",
   "version": "2.7.11"
  }
 },
 "nbformat": 4,
 "nbformat_minor": 1
}
